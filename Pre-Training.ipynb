{
 "cells": [
  {
   "metadata": {
    "ExecuteTime": {
     "end_time": "2025-05-17T06:58:22.455232Z",
     "start_time": "2025-05-17T06:58:19.602729Z"
    }
   },
   "cell_type": "code",
   "source": [
    "import torch\n",
    "import torch.nn as nn"
   ],
   "id": "30c64159162ba95e",
   "outputs": [],
   "execution_count": 1
  },
  {
   "cell_type": "code",
   "id": "initial_id",
   "metadata": {
    "collapsed": true,
    "ExecuteTime": {
     "end_time": "2025-05-17T07:00:02.763014Z",
     "start_time": "2025-05-17T07:00:02.744798Z"
    }
   },
   "source": [
    "from importlib.metadata import version\n",
    "pkg = [\n",
    "        \"matplotlib\",\n",
    "        \"numpy\",\n",
    "        \"tiktoken\",\n",
    "        \"torch\",\n",
    "]\n",
    "\n",
    "for i in pkg:\n",
    "    print(f'{i}  with version:{version(i)}')"
   ],
   "outputs": [
    {
     "name": "stdout",
     "output_type": "stream",
     "text": [
      "matplotlib  with version:3.9.1\n",
      "numpy  with version:1.26.4\n",
      "tiktoken  with version:0.8.0\n",
      "torch  with version:2.4.0\n"
     ]
    }
   ],
   "execution_count": 2
  },
  {
   "metadata": {
    "ExecuteTime": {
     "end_time": "2025-05-17T07:00:04.869826Z",
     "start_time": "2025-05-17T07:00:04.864244Z"
    }
   },
   "cell_type": "code",
   "source": [
    "GPT_CONFIG_124M = {\n",
    "    \"vocab_size\": 50257,    # Vocabulary size\n",
    "    \"context_length\": 256, # Context length\n",
    "    \"emb_dim\": 768,         # Embedding dimension\n",
    "    \"n_heads\": 12,          # Number of attention heads\n",
    "    \"n_layers\": 12,         # Number of layers\n",
    "    \"drop_rate\": 0.1,       # Dropout rate\n",
    "    \"qkv_bias\": False       # Query-Key-Value bias\n",
    "}"
   ],
   "id": "3263cd049cc41230",
   "outputs": [],
   "execution_count": 3
  },
  {
   "metadata": {
    "ExecuteTime": {
     "end_time": "2025-05-17T07:00:06.370760Z",
     "start_time": "2025-05-17T07:00:06.322016Z"
    }
   },
   "cell_type": "code",
   "source": "from previous_chapters import GPTModel",
   "id": "2924d8d876b7cea3",
   "outputs": [],
   "execution_count": 4
  },
  {
   "metadata": {
    "ExecuteTime": {
     "end_time": "2025-05-17T07:00:08.511011Z",
     "start_time": "2025-05-17T07:00:07.584892Z"
    }
   },
   "cell_type": "code",
   "source": "model = GPTModel(GPT_CONFIG_124M)",
   "id": "97f6ba0bd76afca",
   "outputs": [],
   "execution_count": 5
  },
  {
   "metadata": {
    "ExecuteTime": {
     "end_time": "2025-05-17T07:00:11.412736Z",
     "start_time": "2025-05-17T07:00:09.960559Z"
    }
   },
   "cell_type": "code",
   "source": [
    "import tiktoken\n",
    "from previous_chapters import generate_text_simple\n",
    "\n",
    "# Alternatively:\n",
    "# from llms_from_scratch.ch04 import generate_text_simple\n",
    "\n",
    "def text_to_token_ids(text, tokenizer):\n",
    "    encoded = tokenizer.encode(text, allowed_special={'<|endoftext|>'})\n",
    "    encoded_tensor = torch.tensor(encoded).unsqueeze(0) # add batch dimension\n",
    "    return encoded_tensor\n",
    "\n",
    "def token_ids_to_text(token_ids, tokenizer):\n",
    "    flat = token_ids.squeeze(0) # remove batch dimension\n",
    "    return tokenizer.decode(flat.tolist())\n",
    "\n",
    "start_context = \"Every effort moves you\"\n",
    "tokenizer = tiktoken.get_encoding(\"gpt2\")\n",
    "\n",
    "token_ids = generate_text_simple(\n",
    "    model=model,\n",
    "    idx=text_to_token_ids(start_context, tokenizer),\n",
    "    max_new_tokens=10,\n",
    "    context_size=GPT_CONFIG_124M[\"context_length\"]\n",
    ")\n",
    "\n",
    "print(\"Output text:\\n\", token_ids_to_text(token_ids, tokenizer))"
   ],
   "id": "6a62e6e5e1a0e29a",
   "outputs": [
    {
     "name": "stdout",
     "output_type": "stream",
     "text": [
      "Output text:\n",
      " Every effort moves youcrim critiques herebylowADD commissionurasigue Joan foundations\n"
     ]
    }
   ],
   "execution_count": 6
  },
  {
   "metadata": {
    "ExecuteTime": {
     "end_time": "2025-05-17T07:00:15.757593Z",
     "start_time": "2025-05-17T07:00:15.752577Z"
    }
   },
   "cell_type": "code",
   "source": [
    "import os\n",
    "import urllib.request\n",
    "\n",
    "file_path = \"the-verdict.txt\"\n",
    "url = \"https://raw.githubusercontent.com/rasbt/LLMs-from-scratch/main/ch02/01_main-chapter-code/the-verdict.txt\"\n",
    "\n",
    "if not os.path.exists(file_path):\n",
    "    with urllib.request.urlopen(url) as response:\n",
    "        text_data = response.read().decode('utf-8')\n",
    "    with open(file_path, \"w\", encoding=\"utf-8\") as file:\n",
    "        file.write(text_data)\n",
    "else:\n",
    "    with open(file_path, \"r\", encoding=\"utf-8\") as file:\n",
    "        text_data = file.read()"
   ],
   "id": "8a4887ddfe36ce2d",
   "outputs": [],
   "execution_count": 8
  },
  {
   "metadata": {
    "ExecuteTime": {
     "end_time": "2025-05-17T07:00:17.810213Z",
     "start_time": "2025-05-17T07:00:17.801039Z"
    }
   },
   "cell_type": "code",
   "source": "text_data[-99:]",
   "id": "d60735c7870f321b",
   "outputs": [
    {
     "data": {
      "text/plain": [
       "'it for me! The Strouds stand alone, and happen once--but there\\'s no exterminating our kind of art.\"'"
      ]
     },
     "execution_count": 9,
     "metadata": {},
     "output_type": "execute_result"
    }
   ],
   "execution_count": 9
  },
  {
   "metadata": {
    "ExecuteTime": {
     "end_time": "2025-05-17T07:00:19.825691Z",
     "start_time": "2025-05-17T07:00:19.820555Z"
    }
   },
   "cell_type": "code",
   "source": [
    "test_split = 0.90\n",
    "split_point = int(test_split * len(text_data))\n",
    "train_text = text_data[:split_point]\n",
    "val_text = text_data[split_point:]\n",
    "print(len(train_text))\n",
    "print(len(val_text))"
   ],
   "id": "2b007563854f6369",
   "outputs": [
    {
     "name": "stdout",
     "output_type": "stream",
     "text": [
      "18431\n",
      "2048\n"
     ]
    }
   ],
   "execution_count": 10
  },
  {
   "metadata": {
    "ExecuteTime": {
     "end_time": "2025-05-17T07:00:21.422378Z",
     "start_time": "2025-05-17T07:00:21.410996Z"
    }
   },
   "cell_type": "code",
   "source": [
    "from previous_chapters import create_dataloader_v1\n",
    "\n",
    "train_loader = create_dataloader_v1(\n",
    "    train_text,\n",
    "    batch_size=2,\n",
    "    max_length=GPT_CONFIG_124M[\"context_length\"],\n",
    "    stride=GPT_CONFIG_124M[\"context_length\"],\n",
    "    drop_last=True,\n",
    "    shuffle=True,\n",
    "    num_workers=0\n",
    ")\n",
    "\n",
    "val_loader = create_dataloader_v1(\n",
    "    val_text,\n",
    "    batch_size=2,\n",
    "    max_length=GPT_CONFIG_124M[\"context_length\"],\n",
    "    stride=GPT_CONFIG_124M[\"context_length\"],\n",
    "    drop_last=False,\n",
    "    shuffle=False,\n",
    "    num_workers=0\n",
    ")"
   ],
   "id": "8d658fcad2b94303",
   "outputs": [],
   "execution_count": 11
  },
  {
   "metadata": {},
   "cell_type": "markdown",
   "source": [
    "apparently nn.functional.cross_entropy can calculate all the needed things under the hood.\n",
    "getting the token value and go to the prediction, and search for that index and getting the\n",
    "assign probability and do -log(prob) , and you see flattening targets  it turn like\n",
    "[1,23,4 ....] , model output [batch , seq_len , vocabulary] --> [batch * seq_len , vocabulary]\n",
    "so like all seq with its prediction for each vocabulary."
   ],
   "id": "f7c0ef5907cd00e2"
  },
  {
   "metadata": {
    "ExecuteTime": {
     "end_time": "2025-05-17T07:00:23.783255Z",
     "start_time": "2025-05-17T07:00:23.777110Z"
    }
   },
   "cell_type": "code",
   "source": [
    "def batch_loss(train_batch,labels_batch,model,device):\n",
    "    train_batch,labels_batch = train_batch.to(device),labels_batch.to(device)\n",
    "    pred = model(train_batch)\n",
    "    loss = nn.functional.cross_entropy(pred.flatten(0,1),labels_batch.flatten())\n",
    "    return loss\n",
    "\n",
    "def full_loss(data_loader,model,device,num_batch = None):\n",
    "    full_loss = 0\n",
    "\n",
    "    if len(data_loader) == 0:\n",
    "        return float(\"nan\")\n",
    "    elif  num_batch is None:\n",
    "        num_batch = len(data_loader)\n",
    "    else:\n",
    "        for i,data in enumerate(data_loader):\n",
    "            if i < num_batch:\n",
    "                loss = batch_loss(data[0],data[1],model,device)\n",
    "                full_loss += loss\n",
    "            else:\n",
    "                break\n",
    "    return full_loss / num_batch\n"
   ],
   "id": "719043e90403076e",
   "outputs": [],
   "execution_count": 12
  },
  {
   "metadata": {
    "ExecuteTime": {
     "end_time": "2025-05-17T07:40:25.357140Z",
     "start_time": "2025-05-17T07:40:25.276348Z"
    }
   },
   "cell_type": "code",
   "source": [
    "def evaluate_model(model, train_loader, val_loader, device, eval_count):\n",
    "    model.eval()\n",
    "    with torch.no_grad():\n",
    "        train_loss = full_loss(train_loader, model, device, num_batch=eval_count)\n",
    "        val_loss = full_loss(val_loader, model, device, num_batch=eval_count)\n",
    "    model.train()\n",
    "    return train_loss, val_loss\n",
    "\n",
    "\n",
    "def generate_and_print_sample(model, tokenizer, device, context):\n",
    "    model.eval()\n",
    "    context_size = model.pos_emb.weight.shape[0]\n",
    "    encoded = text_to_token_ids(context, tokenizer).to(device)\n",
    "    with torch.no_grad():\n",
    "        token_ids = generate_text_simple(\n",
    "            model=model, idx=encoded,\n",
    "            max_new_tokens=50, context_size=context_size\n",
    "        )\n",
    "    decoded_text = token_ids_to_text(token_ids, tokenizer)\n",
    "    print(decoded_text.replace(\"\\n\", \" \"))\n",
    "    model.train()"
   ],
   "id": "4e774a8285700d89",
   "outputs": [],
   "execution_count": 18
  },
  {
   "metadata": {
    "ExecuteTime": {
     "end_time": "2025-05-17T07:51:06.262576Z",
     "start_time": "2025-05-17T07:51:06.232360Z"
    }
   },
   "cell_type": "code",
   "source": [
    "def train_model(model,train_loader,val_loader,optimizer,device,epoch,val_frequency,\n",
    "                eval_count,context,tokenizer):\n",
    "    train_losses, validation_losses,track_token_count = [],[],[]\n",
    "    tokens_seen, global_epoc = 0,-1\n",
    "\n",
    "    for epoc in range(epoch):\n",
    "        model.train()\n",
    "        for data,labels in train_loader:\n",
    "            loss = batch_loss(data,labels,model,device)\n",
    "            optimizer.zero_grad()\n",
    "            loss.backward()\n",
    "            optimizer.step()\n",
    "            tokens_seen += data.numel()\n",
    "            global_epoc += 1\n",
    "\n",
    "            if global_epoc % val_frequency == 0:\n",
    "                    train_loss, val_loss = evaluate_model(\n",
    "                        model, train_loader, val_loader, device, eval_count)\n",
    "                    train_losses.append(train_loss)\n",
    "                    validation_losses.append(val_loss)\n",
    "                    track_token_count.append(tokens_seen)\n",
    "                    print(f\"Ep {epoc+1} (Step {global_epoc:06d}): \"\n",
    "                          f\"Train loss {train_loss:.3f}, Val loss {val_loss:.3f}\")\n",
    "\n",
    "        generate_and_print_sample(\n",
    "            model, tokenizer, device, context\n",
    "        )\n",
    "\n",
    "    return train_losses, val_losses, track_token_count\n"
   ],
   "id": "287dc5e70c7306a4",
   "outputs": [],
   "execution_count": 25
  },
  {
   "metadata": {
    "ExecuteTime": {
     "end_time": "2025-05-17T07:57:07.720147Z",
     "start_time": "2025-05-17T07:51:06.824489Z"
    }
   },
   "cell_type": "code",
   "source": [
    "device = torch.device(\"cuda\" if torch.cuda.is_available() else \"cpu\")\n",
    "model = GPTModel(GPT_CONFIG_124M)\n",
    "model.to(device)\n",
    "optimizer = torch.optim.AdamW(model.parameters(), lr=0.0004, weight_decay=0.1)\n",
    "\n",
    "num_epochs = 10\n",
    "train_losses, val_losses, tokens_seen = train_model(\n",
    "    model, train_loader, val_loader, optimizer, device,epoch=num_epochs,eval_count=5,\n",
    "    val_frequency=5,context=\"Every effort moves you\",tokenizer = tokenizer)"
   ],
   "id": "8d5d9fd33b21ce8e",
   "outputs": [
    {
     "name": "stdout",
     "output_type": "stream",
     "text": [
      "Ep 1 (Step 000000): Train loss 9.821, Val loss 1.999\n",
      "Ep 1 (Step 000005): Train loss 8.084, Val loss 1.641\n",
      "Every effort moves you the the the the the the the the the the the the the the the the the the the the the the the the the the the the the the the the the the the the the the the the the the the the the the the the the the\n",
      "Ep 2 (Step 000010): Train loss 6.769, Val loss 1.414\n",
      "Ep 2 (Step 000015): Train loss 6.024, Val loss 1.317\n",
      "Every effort moves you, the,, the, the, the, the, the, the, the, the, the, the, the, the, the, the, the, the, the, the, the, the, the, the, the,\n",
      "Ep 3 (Step 000020): Train loss 9.899, Val loss 2.281\n",
      "Ep 3 (Step 000025): Train loss 5.701, Val loss 1.299\n",
      "Every effort moves you, I                                                \n",
      "Ep 4 (Step 000030): Train loss 5.309, Val loss 1.291\n",
      "Ep 4 (Step 000035): Train loss 5.562, Val loss 1.340\n",
      "Every effort moves you, I, I had the, the, the, the, the of the of the of the of the of the of the of the of the of the of the of the. of the of the of the of the of the of the of\n",
      "Ep 5 (Step 000040): Train loss 5.461, Val loss 1.316\n",
      "Every effort moves you                                                  \n",
      "Ep 6 (Step 000045): Train loss 5.150, Val loss 1.291\n",
      "Ep 6 (Step 000050): Train loss 4.618, Val loss 1.292\n",
      "Every effort moves you.                                                 \n",
      "Ep 7 (Step 000055): Train loss 4.226, Val loss 1.290\n",
      "Ep 7 (Step 000060): Train loss 3.509, Val loss 1.272\n",
      "Every effort moves you know, on the fact, and in the fact, and in the last of the fact--I to me, in an the picture to the fact of the fact that, and in the picture was one of Jack's \"strong, and in the\n",
      "Ep 8 (Step 000065): Train loss 3.270, Val loss 1.291\n",
      "Ep 8 (Step 000070): Train loss 3.169, Val loss 1.270\n",
      "Every effort moves you know, I felt a little, and it were, and Mrs.  \"Oh, and in a little, I had to see a smile of the picture. \"Oh, and I had the first, and in the fact, I\n",
      "Ep 9 (Step 000075): Train loss 2.518, Val loss 1.256\n",
      "Ep 9 (Step 000080): Train loss 2.089, Val loss 1.257\n",
      "Every effort moves you know I was not that, and as it were, and I had been the Riviera--and by, and in an unusual degree to the display of the picture.   \"--the, I had been the bull--and by his\n",
      "Ep 10 (Step 000085): Train loss 1.847, Val loss 1.265\n",
      "Every effort moves you know,\" was not that, one of the deep arm-chairs forward. \"There: make yourself comfortable--and here are the cigars you like.\"       \"--the, I had a little the room, I had\n"
     ]
    }
   ],
   "execution_count": 26
  },
  {
   "metadata": {
    "ExecuteTime": {
     "end_time": "2025-05-17T08:00:40.212352Z",
     "start_time": "2025-05-17T08:00:37.460416Z"
    }
   },
   "cell_type": "code",
   "source": [
    "import matplotlib.pyplot as plt\n",
    "from matplotlib.ticker import MaxNLocator\n",
    "\n",
    "\n",
    "def plot_losses(epochs_seen, tokens_seen, train_losses, val_losses):\n",
    "    fig, ax1 = plt.subplots(figsize=(5, 3))\n",
    "\n",
    "    # Plot training and validation loss against epochs\n",
    "    ax1.plot(epochs_seen, train_losses, label=\"Training loss\")\n",
    "    ax1.plot(epochs_seen, val_losses, linestyle=\"-.\", label=\"Validation loss\")\n",
    "    ax1.set_xlabel(\"Epochs\")\n",
    "    ax1.set_ylabel(\"Loss\")\n",
    "    ax1.legend(loc=\"upper right\")\n",
    "    ax1.xaxis.set_major_locator(MaxNLocator(integer=True))  # only show integer labels on x-axis\n",
    "\n",
    "    # Create a second x-axis for tokens seen\n",
    "    ax2 = ax1.twiny()  # Create a second x-axis that shares the same y-axis\n",
    "    ax2.plot(tokens_seen, train_losses, alpha=0)  # Invisible plot for aligning ticks\n",
    "    ax2.set_xlabel(\"Tokens seen\")\n",
    "\n",
    "    fig.tight_layout()  # Adjust layout to make room\n",
    "    plt.savefig(\"loss-plot.pdf\")\n",
    "    plt.show()\n",
    "\n",
    "epochs_tensor = torch.linspace(0, num_epochs, len(train_losses))\n",
    "plot_losses(epochs_tensor, tokens_seen, train_losses, val_losses)"
   ],
   "id": "866e6691fe0f1713",
   "outputs": [
    {
     "data": {
      "text/plain": [
       "<Figure size 500x300 with 2 Axes>"
      ],
      "image/png": "[encoded data removed]"
     },
     "metadata": {},
     "output_type": "display_data"
    }
   ],
   "execution_count": 27
  },
  {
   "metadata": {
    "ExecuteTime": {
     "end_time": "2025-05-17T09:02:34.174550Z",
     "start_time": "2025-05-17T09:02:34.155496Z"
    }
   },
   "cell_type": "code",
   "source": [
    "def generate(model, idx, max_new_tokens, context_size, temperature=0.0, top_k=None, eos_id=None):\n",
    "\n",
    "    for _ in range(max_new_tokens):\n",
    "        idx_cond = idx[:, -context_size:]\n",
    "        with torch.no_grad():\n",
    "            logits = model(idx_cond)\n",
    "        logits = logits[:, -1, :]\n",
    "\n",
    "        if top_k is not None:\n",
    "            # Keep only top_k values\n",
    "            top_logits, _ = torch.topk(logits, top_k)\n",
    "            min_val = top_logits[:, -1]\n",
    "            logits = torch.where(logits < min_val, torch.tensor(float(\"-inf\")).to(logits.device), logits)\n",
    "\n",
    "        if temperature > 0.0:\n",
    "            logits = logits / temperature\n",
    "\n",
    "            probs = torch.softmax(logits, dim=-1)\n",
    "\n",
    "            idx_next = torch.multinomial(probs, num_samples=1)\n",
    "\n",
    "        else:\n",
    "            idx_next = torch.argmax(logits, dim=-1, keepdim=True)\n",
    "\n",
    "        if idx_next == eos_id:\n",
    "            break\n",
    "\n",
    "        idx = torch.cat((idx, idx_next), dim=1)\n",
    "\n",
    "    return idx"
   ],
   "id": "67d75991fd24c56e",
   "outputs": [],
   "execution_count": 28
  },
  {
   "metadata": {
    "ExecuteTime": {
     "end_time": "2025-05-17T09:09:24.165875Z",
     "start_time": "2025-05-17T09:09:21.292004Z"
    }
   },
   "cell_type": "code",
   "source": "torch.save(model.state_dict(),\"D:\\ML Projects\\LLM-From-Scratch\\model\\model.pth\")",
   "id": "19ee436889b948a1",
   "outputs": [],
   "execution_count": 31
  },
  {
   "metadata": {},
   "cell_type": "code",
   "outputs": [],
   "execution_count": null,
   "source": "",
   "id": "1bd2ec6b25f3d3f1"
  }
 ],
 "metadata": {
  "kernelspec": {
   "display_name": "Python 3",
   "language": "python",
   "name": "python3"
  },
  "language_info": {
   "codemirror_mode": {
    "name": "ipython",
    "version": 2
   },
   "file_extension": ".py",
   "mimetype": "text/x-python",
   "name": "python",
   "nbconvert_exporter": "python",
   "pygments_lexer": "ipython2",
   "version": "2.7.6"
  }
 },
 "nbformat": 4,
 "nbformat_minor": 5
}
