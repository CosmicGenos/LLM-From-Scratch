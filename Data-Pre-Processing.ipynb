{
 "cells": [
  {
   "cell_type": "code",
   "id": "initial_id",
   "metadata": {
    "collapsed": true,
    "ExecuteTime": {
     "end_time": "2025-04-15T06:07:44.864561Z",
     "start_time": "2025-04-15T06:07:44.055259Z"
    }
   },
   "source": [
    "import os\n",
    "import urllib.request\n",
    "\n",
    "from humanfriendly.terminal import output\n",
    "from torch.nn.functional import embedding\n",
    "\n",
    "if not os.path.exists(\"the-verdict.txt\"):\n",
    "    url = (\"https://raw.githubusercontent.com/rasbt/\"\n",
    "           \"LLMs-from-scratch/main/ch02/01_main-chapter-code/\"\n",
    "           \"the-verdict.txt\")\n",
    "    file_path = \"the-verdict.txt\"\n",
    "    urllib.request.urlretrieve(url, file_path)"
   ],
   "outputs": [],
   "execution_count": 1
  },
  {
   "metadata": {
    "ExecuteTime": {
     "end_time": "2025-04-15T06:11:20.841508Z",
     "start_time": "2025-04-15T06:11:20.832773Z"
    }
   },
   "cell_type": "code",
   "source": [
    "with open(\"the-verdict.txt\",\"r\",encoding=\"UTF-8\") as f:\n",
    "    raw_text = f.read()\n",
    "\n",
    "print(raw_text)"
   ],
   "id": "d3c02b61ced578a9",
   "outputs": [
    {
     "name": "stdout",
     "output_type": "stream",
     "text": [
      "I HAD always thought Jack Gisburn rather a cheap genius--though a good fellow enough--so it was no great surprise to me to hear that, in the height of his glory, he had dropped his painting, married a rich widow, and established himself in a villa on the Riviera. (Though I rather thought it would have been Rome or Florence.)\n",
      "\n",
      "\"The height of his glory\"--that was what the women called it. I can hear Mrs. Gideon Thwing--his last Chicago sitter--deploring his unaccountable abdication. \"Of course it's going to send the value of my picture 'way up; but I don't think of that, Mr. Rickham--the loss to Arrt is all I think of.\" The word, on Mrs. Thwing's lips, multiplied its _rs_ as though they were reflected in an endless vista of mirrors. And it was not only the Mrs. Thwings who mourned. Had not the exquisite Hermia Croft, at the last Grafton Gallery show, stopped me before Gisburn's \"Moon-dancers\" to say, with tears in her eyes: \"We shall not look upon its like again\"?\n",
      "\n",
      "Well!--even through the prism of Hermia's tears I felt able to face the fact with equanimity. Poor Jack Gisburn! The women had made him--it was fitting that they should mourn him. Among his own sex fewer regrets were heard, and in his own trade hardly a murmur. Professional jealousy? Perhaps. If it were, the honour of the craft was vindicated by little Claude Nutley, who, in all good faith, brought out in the Burlington a very handsome \"obituary\" on Jack--one of those showy articles stocked with random technicalities that I have heard (I won't say by whom) compared to Gisburn's painting. And so--his resolve being apparently irrevocable--the discussion gradually died out, and, as Mrs. Thwing had predicted, the price of \"Gisburns\" went up.\n",
      "\n",
      "It was not till three years later that, in the course of a few weeks' idling on the Riviera, it suddenly occurred to me to wonder why Gisburn had given up his painting. On reflection, it really was a tempting problem. To accuse his wife would have been too easy--his fair sitters had been denied the solace of saying that Mrs. Gisburn had \"dragged him down.\" For Mrs. Gisburn--as such--had not existed till nearly a year after Jack's resolve had been taken. It might be that he had married her--since he liked his ease--because he didn't want to go on painting; but it would have been hard to prove that he had given up his painting because he had married her.\n",
      "\n",
      "Of course, if she had not dragged him down, she had equally, as Miss Croft contended, failed to \"lift him up\"--she had not led him back to the easel. To put the brush into his hand again--what a vocation for a wife! But Mrs. Gisburn appeared to have disdained it--and I felt it might be interesting to find out why.\n",
      "\n",
      "The desultory life of the Riviera lends itself to such purely academic speculations; and having, on my way to Monte Carlo, caught a glimpse of Jack's balustraded terraces between the pines, I had myself borne thither the next day.\n",
      "\n",
      "I found the couple at tea beneath their palm-trees; and Mrs. Gisburn's welcome was so genial that, in the ensuing weeks, I claimed it frequently. It was not that my hostess was \"interesting\": on that point I could have given Miss Croft the fullest reassurance. It was just because she was _not_ interesting--if I may be pardoned the bull--that I found her so. For Jack, all his life, had been surrounded by interesting women: they had fostered his art, it had been reared in the hot-house of their adulation. And it was therefore instructive to note what effect the \"deadening atmosphere of mediocrity\" (I quote Miss Croft) was having on him.\n",
      "\n",
      "I have mentioned that Mrs. Gisburn was rich; and it was immediately perceptible that her husband was extracting from this circumstance a delicate but substantial satisfaction. It is, as a rule, the people who scorn money who get most out of it; and Jack's elegant disdain of his wife's big balance enabled him, with an appearance of perfect good-breeding, to transmute it into objects of art and luxury. To the latter, I must add, he remained relatively indifferent; but he was buying Renaissance bronzes and eighteenth-century pictures with a discrimination that bespoke the amplest resources.\n",
      "\n",
      "\"Money's only excuse is to put beauty into circulation,\" was one of the axioms he laid down across the Sevres and silver of an exquisitely appointed luncheon-table, when, on a later day, I had again run over from Monte Carlo; and Mrs. Gisburn, beaming on him, added for my enlightenment: \"Jack is so morbidly sensitive to every form of beauty.\"\n",
      "\n",
      "Poor Jack! It had always been his fate to have women say such things of him: the fact should be set down in extenuation. What struck me now was that, for the first time, he resented the tone. I had seen him, so often, basking under similar tributes--was it the conjugal note that robbed them of their savour? No--for, oddly enough, it became apparent that he was fond of Mrs. Gisburn--fond enough not to see her absurdity. It was his own absurdity he seemed to be wincing under--his own attitude as an object for garlands and incense.\n",
      "\n",
      "\"My dear, since I've chucked painting people don't say that stuff about me--they say it about Victor Grindle,\" was his only protest, as he rose from the table and strolled out onto the sunlit terrace.\n",
      "\n",
      "I glanced after him, struck by his last word. Victor Grindle was, in fact, becoming the man of the moment--as Jack himself, one might put it, had been the man of the hour. The younger artist was said to have formed himself at my friend's feet, and I wondered if a tinge of jealousy underlay the latter's mysterious abdication. But no--for it was not till after that event that the _rose Dubarry_ drawing-rooms had begun to display their \"Grindles.\"\n",
      "\n",
      "I turned to Mrs. Gisburn, who had lingered to give a lump of sugar to her spaniel in the dining-room.\n",
      "\n",
      "\"Why _has_ he chucked painting?\" I asked abruptly.\n",
      "\n",
      "She raised her eyebrows with a hint of good-humoured surprise.\n",
      "\n",
      "\"Oh, he doesn't _have_ to now, you know; and I want him to enjoy himself,\" she said quite simply.\n",
      "\n",
      "I looked about the spacious white-panelled room, with its _famille-verte_ vases repeating the tones of the pale damask curtains, and its eighteenth-century pastels in delicate faded frames.\n",
      "\n",
      "\"Has he chucked his pictures too? I haven't seen a single one in the house.\"\n",
      "\n",
      "A slight shade of constraint crossed Mrs. Gisburn's open countenance. \"It's his ridiculous modesty, you know. He says they're not fit to have about; he's sent them all away except one--my portrait--and that I have to keep upstairs.\"\n",
      "\n",
      "His ridiculous modesty--Jack's modesty about his pictures? My curiosity was growing like the bean-stalk. I said persuasively to my hostess: \"I must really see your portrait, you know.\"\n",
      "\n",
      "She glanced out almost timorously at the terrace where her husband, lounging in a hooded chair, had lit a cigar and drawn the Russian deerhound's head between his knees.\n",
      "\n",
      "\"Well, come while he's not looking,\" she said, with a laugh that tried to hide her nervousness; and I followed her between the marble Emperors of the hall, and up the wide stairs with terra-cotta nymphs poised among flowers at each landing.\n",
      "\n",
      "In the dimmest corner of her boudoir, amid a profusion of delicate and distinguished objects, hung one of the familiar oval canvases, in the inevitable garlanded frame. The mere outline of the frame called up all Gisburn's past!\n",
      "\n",
      "Mrs. Gisburn drew back the window-curtains, moved aside a _jardiniere_ full of pink azaleas, pushed an arm-chair away, and said: \"If you stand here you can just manage to see it. I had it over the mantel-piece, but he wouldn't let it stay.\"\n",
      "\n",
      "Yes--I could just manage to see it--the first portrait of Jack's I had ever had to strain my eyes over! Usually they had the place of honour--say the central panel in a pale yellow or _rose Dubarry_ drawing-room, or a monumental easel placed so that it took the light through curtains of old Venetian point. The more modest place became the picture better; yet, as my eyes grew accustomed to the half-light, all the characteristic qualities came out--all the hesitations disguised as audacities, the tricks of prestidigitation by which, with such consummate skill, he managed to divert attention from the real business of the picture to some pretty irrelevance of detail. Mrs. Gisburn, presenting a neutral surface to work on--forming, as it were, so inevitably the background of her own picture--had lent herself in an unusual degree to the display of this false virtuosity. The picture was one of Jack's \"strongest,\" as his admirers would have put it--it represented, on his part, a swelling of muscles, a congesting of veins, a balancing, straddling and straining, that reminded one of the circus-clown's ironic efforts to lift a feather. It met, in short, at every point the demand of lovely woman to be painted \"strongly\" because she was tired of being painted \"sweetly\"--and yet not to lose an atom of the sweetness.\n",
      "\n",
      "\"It's the last he painted, you know,\" Mrs. Gisburn said with pardonable pride. \"The last but one,\" she corrected herself--\"but the other doesn't count, because he destroyed it.\"\n",
      "\n",
      "\"Destroyed it?\" I was about to follow up this clue when I heard a footstep and saw Jack himself on the threshold.\n",
      "\n",
      "As he stood there, his hands in the pockets of his velveteen coat, the thin brown waves of hair pushed back from his white forehead, his lean sunburnt cheeks furrowed by a smile that lifted the tips of a self-confident moustache, I felt to what a degree he had the same quality as his pictures--the quality of looking cleverer than he was.\n",
      "\n",
      "His wife glanced at him deprecatingly, but his eyes travelled past her to the portrait.\n",
      "\n",
      "\"Mr. Rickham wanted to see it,\" she began, as if excusing herself. He shrugged his shoulders, still smiling.\n",
      "\n",
      "\"Oh, Rickham found me out long ago,\" he said lightly; then, passing his arm through mine: \"Come and see the rest of the house.\"\n",
      "\n",
      "He showed it to me with a kind of naive suburban pride: the bath-rooms, the speaking-tubes, the dress-closets, the trouser-presses--all the complex simplifications of the millionaire's domestic economy. And whenever my wonder paid the expected tribute he said, throwing out his chest a little: \"Yes, I really don't see how people manage to live without that.\"\n",
      "\n",
      "Well--it was just the end one might have foreseen for him. Only he was, through it all and in spite of it all--as he had been through, and in spite of, his pictures--so handsome, so charming, so disarming, that one longed to cry out: \"Be dissatisfied with your leisure!\" as once one had longed to say: \"Be dissatisfied with your work!\"\n",
      "\n",
      "But, with the cry on my lips, my diagnosis suffered an unexpected check.\n",
      "\n",
      "\"This is my own lair,\" he said, leading me into a dark plain room at the end of the florid vista. It was square and brown and leathery: no \"effects\"; no bric-a-brac, none of the air of posing for reproduction in a picture weekly--above all, no least sign of ever having been used as a studio.\n",
      "\n",
      "The fact brought home to me the absolute finality of Jack's break with his old life.\n",
      "\n",
      "\"Don't you ever dabble with paint any more?\" I asked, still looking about for a trace of such activity.\n",
      "\n",
      "\"Never,\" he said briefly.\n",
      "\n",
      "\"Or water-colour--or etching?\"\n",
      "\n",
      "His confident eyes grew dim, and his cheeks paled a little under their handsome sunburn.\n",
      "\n",
      "\"Never think of it, my dear fellow--any more than if I'd never touched a brush.\"\n",
      "\n",
      "And his tone told me in a flash that he never thought of anything else.\n",
      "\n",
      "I moved away, instinctively embarrassed by my unexpected discovery; and as I turned, my eye fell on a small picture above the mantel-piece--the only object breaking the plain oak panelling of the room.\n",
      "\n",
      "\"Oh, by Jove!\" I said.\n",
      "\n",
      "It was a sketch of a donkey--an old tired donkey, standing in the rain under a wall.\n",
      "\n",
      "\"By Jove--a Stroud!\" I cried.\n",
      "\n",
      "He was silent; but I felt him close behind me, breathing a little quickly.\n",
      "\n",
      "\"What a wonder! Made with a dozen lines--but on everlasting foundations. You lucky chap, where did you get it?\"\n",
      "\n",
      "He answered slowly: \"Mrs. Stroud gave it to me.\"\n",
      "\n",
      "\"Ah--I didn't know you even knew the Strouds. He was such an inflexible hermit.\"\n",
      "\n",
      "\"I didn't--till after. . . . She sent for me to paint him when he was dead.\"\n",
      "\n",
      "\"When he was dead? You?\"\n",
      "\n",
      "I must have let a little too much amazement escape through my surprise, for he answered with a deprecating laugh: \"Yes--she's an awful simpleton, you know, Mrs. Stroud. Her only idea was to have him done by a fashionable painter--ah, poor Stroud! She thought it the surest way of proclaiming his greatness--of forcing it on a purblind public. And at the moment I was _the_ fashionable painter.\"\n",
      "\n",
      "\"Ah, poor Stroud--as you say. Was _that_ his history?\"\n",
      "\n",
      "\"That was his history. She believed in him, gloried in him--or thought she did. But she couldn't bear not to have all the drawing-rooms with her. She couldn't bear the fact that, on varnishing days, one could always get near enough to see his pictures. Poor woman! She's just a fragment groping for other fragments. Stroud is the only whole I ever knew.\"\n",
      "\n",
      "\"You ever knew? But you just said--\"\n",
      "\n",
      "Gisburn had a curious smile in his eyes.\n",
      "\n",
      "\"Oh, I knew him, and he knew me--only it happened after he was dead.\"\n",
      "\n",
      "I dropped my voice instinctively. \"When she sent for you?\"\n",
      "\n",
      "\"Yes--quite insensible to the irony. She wanted him vindicated--and by me!\"\n",
      "\n",
      "He laughed again, and threw back his head to look up at the sketch of the donkey. \"There were days when I couldn't look at that thing--couldn't face it. But I forced myself to put it here; and now it's cured me--cured me. That's the reason why I don't dabble any more, my dear Rickham; or rather Stroud himself is the reason.\"\n",
      "\n",
      "For the first time my idle curiosity about my companion turned into a serious desire to understand him better.\n",
      "\n",
      "\"I wish you'd tell me how it happened,\" I said.\n",
      "\n",
      "He stood looking up at the sketch, and twirling between his fingers a cigarette he had forgotten to light. Suddenly he turned toward me.\n",
      "\n",
      "\"I'd rather like to tell you--because I've always suspected you of loathing my work.\"\n",
      "\n",
      "I made a deprecating gesture, which he negatived with a good-humoured shrug.\n",
      "\n",
      "\"Oh, I didn't care a straw when I believed in myself--and now it's an added tie between us!\"\n",
      "\n",
      "He laughed slightly, without bitterness, and pushed one of the deep arm-chairs forward. \"There: make yourself comfortable--and here are the cigars you like.\"\n",
      "\n",
      "He placed them at my elbow and continued to wander up and down the room, stopping now and then beneath the picture.\n",
      "\n",
      "\"How it happened? I can tell you in five minutes--and it didn't take much longer to happen. . . . I can remember now how surprised and pleased I was when I got Mrs. Stroud's note. Of course, deep down, I had always _felt_ there was no one like him--only I had gone with the stream, echoed the usual platitudes about him, till I half got to think he was a failure, one of the kind that are left behind. By Jove, and he _was_ left behind--because he had come to stay! The rest of us had to let ourselves be swept along or go under, but he was high above the current--on everlasting foundations, as you say.\n",
      "\n",
      "\"Well, I went off to the house in my most egregious mood--rather moved, Lord forgive me, at the pathos of poor Stroud's career of failure being crowned by the glory of my painting him! Of course I meant to do the picture for nothing--I told Mrs. Stroud so when she began to stammer something about her poverty. I remember getting off a prodigious phrase about the honour being _mine_--oh, I was princely, my dear Rickham! I was posing to myself like one of my own sitters.\n",
      "\n",
      "\"Then I was taken up and left alone with him. I had sent all my traps in advance, and I had only to set up the easel and get to work. He had been dead only twenty-four hours, and he died suddenly, of heart disease, so that there had been no preliminary work of destruction--his face was clear and untouched. I had met him once or twice, years before, and thought him insignificant and dingy. Now I saw that he was superb.\n",
      "\n",
      "\"I was glad at first, with a merely aesthetic satisfaction: glad to have my hand on such a 'subject.' Then his strange life-likeness began to affect me queerly--as I blocked the head in I felt as if he were watching me do it. The sensation was followed by the thought: if he _were_ watching me, what would he say to my way of working? My strokes began to go a little wild--I felt nervous and uncertain.\n",
      "\n",
      "\"Once, when I looked up, I seemed to see a smile behind his close grayish beard--as if he had the secret, and were amusing himself by holding it back from me. That exasperated me still more. The secret? Why, I had a secret worth twenty of his! I dashed at the canvas furiously, and tried some of my bravura tricks. But they failed me, they crumbled. I saw that he wasn't watching the showy bits--I couldn't distract his attention; he just kept his eyes on the hard passages between. Those were the ones I had always shirked, or covered up with some lying paint. And how he saw through my lies!\n",
      "\n",
      "\"I looked up again, and caught sight of that sketch of the donkey hanging on the wall near his bed. His wife told me afterward it was the last thing he had done--just a note taken with a shaking hand, when he was down in Devonshire recovering from a previous heart attack. Just a note! But it tells his whole history. There are years of patient scornful persistence in every line. A man who had swum with the current could never have learned that mighty up-stream stroke. . . .\n",
      "\n",
      "\"I turned back to my work, and went on groping and muddling; then I looked at the donkey again. I saw that, when Stroud laid in the first stroke, he knew just what the end would be. He had possessed his subject, absorbed it, recreated it. When had I done that with any of my things? They hadn't been born of me--I had just adopted them. . . .\n",
      "\n",
      "\"Hang it, Rickham, with that face watching me I couldn't do another stroke. The plain truth was, I didn't know where to put it--_I had never known_. Only, with my sitters and my public, a showy splash of colour covered up the fact--I just threw paint into their faces. . . . Well, paint was the one medium those dead eyes could see through--see straight to the tottering foundations underneath. Don't you know how, in talking a foreign language, even fluently, one says half the time not what one wants to but what one can? Well--that was the way I painted; and as he lay there and watched me, the thing they called my 'technique' collapsed like a house of cards. He didn't sneer, you understand, poor Stroud--he just lay there quietly watching, and on his lips, through the gray beard, I seemed to hear the question: 'Are you sure you know where you're coming out?'\n",
      "\n",
      "\"If I could have painted that face, with that question on it, I should have done a great thing. The next greatest thing was to see that I couldn't--and that grace was given me. But, oh, at that minute, Rickham, was there anything on earth I wouldn't have given to have Stroud alive before me, and to hear him say: 'It's not too late--I'll show you how'?\n",
      "\n",
      "\"It _was_ too late--it would have been, even if he'd been alive. I packed up my traps, and went down and told Mrs. Stroud. Of course I didn't tell her _that_--it would have been Greek to her. I simply said I couldn't paint him, that I was too moved. She rather liked the idea--she's so romantic! It was that that made her give me the donkey. But she was terribly upset at not getting the portrait--she did so want him 'done' by some one showy! At first I was afraid she wouldn't let me off--and at my wits' end I suggested Grindle. Yes, it was I who started Grindle: I told Mrs. Stroud he was the 'coming' man, and she told somebody else, and so it got to be true. . . . And he painted Stroud without wincing; and she hung the picture among her husband's things. . . .\"\n",
      "\n",
      "He flung himself down in the arm-chair near mine, laid back his head, and clasping his arms beneath it, looked up at the picture above the chimney-piece.\n",
      "\n",
      "\"I like to fancy that Stroud himself would have given it to me, if he'd been able to say what he thought that day.\"\n",
      "\n",
      "And, in answer to a question I put half-mechanically--\"Begin again?\" he flashed out. \"When the one thing that brings me anywhere near him is that I knew enough to leave off?\"\n",
      "\n",
      "He stood up and laid his hand on my shoulder with a laugh. \"Only the irony of it is that I _am_ still painting--since Grindle's doing it for me! The Strouds stand alone, and happen once--but there's no exterminating our kind of art.\"\n"
     ]
    }
   ],
   "execution_count": 2
  },
  {
   "metadata": {
    "ExecuteTime": {
     "end_time": "2025-04-15T06:14:44.229974Z",
     "start_time": "2025-04-15T06:14:44.221356Z"
    }
   },
   "cell_type": "code",
   "source": "len(raw_text.strip())",
   "id": "fcda20238bb436c3",
   "outputs": [
    {
     "data": {
      "text/plain": [
       "20479"
      ]
     },
     "execution_count": 3,
     "metadata": {},
     "output_type": "execute_result"
    }
   ],
   "execution_count": 3
  },
  {
   "metadata": {
    "ExecuteTime": {
     "end_time": "2025-04-15T06:16:59.084352Z",
     "start_time": "2025-04-15T06:16:59.069452Z"
    }
   },
   "cell_type": "code",
   "source": "len(raw_text.split(\" \"))",
   "id": "98230d8f4acaaf06",
   "outputs": [
    {
     "data": {
      "text/plain": [
       "3552"
      ]
     },
     "execution_count": 5,
     "metadata": {},
     "output_type": "execute_result"
    }
   ],
   "execution_count": 5
  },
  {
   "metadata": {},
   "cell_type": "markdown",
   "source": "Normal Split Only just split by white spaces , But White Spaces too, Should be include in  Token",
   "id": "499f8c3e04a08624"
  },
  {
   "metadata": {
    "ExecuteTime": {
     "end_time": "2025-04-15T06:18:51.838214Z",
     "start_time": "2025-04-15T06:18:51.824622Z"
    }
   },
   "cell_type": "code",
   "source": [
    "import re\n",
    "\n",
    "raw_text_split = re.split(r'(\\s)',raw_text)\n",
    "\n",
    "len(raw_text_split)"
   ],
   "id": "2d3df95641573679",
   "outputs": [
    {
     "data": {
      "text/plain": [
       "7431"
      ]
     },
     "execution_count": 6,
     "metadata": {},
     "output_type": "execute_result"
    }
   ],
   "execution_count": 6
  },
  {
   "metadata": {
    "ExecuteTime": {
     "end_time": "2025-04-15T06:19:16.797485Z",
     "start_time": "2025-04-15T06:19:16.789003Z"
    }
   },
   "cell_type": "code",
   "source": "print(raw_text_split)",
   "id": "c4e24fe21390fa25",
   "outputs": [
    {
     "name": "stdout",
     "output_type": "stream",
     "text": [
      "['I', ' ', 'HAD', ' ', 'always', ' ', 'thought', ' ', 'Jack', ' ', 'Gisburn', ' ', 'rather', ' ', 'a', ' ', 'cheap', ' ', 'genius--though', ' ', 'a', ' ', 'good', ' ', 'fellow', ' ', 'enough--so', ' ', 'it', ' ', 'was', ' ', 'no', ' ', 'great', ' ', 'surprise', ' ', 'to', ' ', 'me', ' ', 'to', ' ', 'hear', ' ', 'that,', ' ', 'in', ' ', 'the', ' ', 'height', ' ', 'of', ' ', 'his', ' ', 'glory,', ' ', 'he', ' ', 'had', ' ', 'dropped', ' ', 'his', ' ', 'painting,', ' ', 'married', ' ', 'a', ' ', 'rich', ' ', 'widow,', ' ', 'and', ' ', 'established', ' ', 'himself', ' ', 'in', ' ', 'a', ' ', 'villa', ' ', 'on', ' ', 'the', ' ', 'Riviera.', ' ', '(Though', ' ', 'I', ' ', 'rather', ' ', 'thought', ' ', 'it', ' ', 'would', ' ', 'have', ' ', 'been', ' ', 'Rome', ' ', 'or', ' ', 'Florence.)', '\\n', '', '\\n', '\"The', ' ', 'height', ' ', 'of', ' ', 'his', ' ', 'glory\"--that', ' ', 'was', ' ', 'what', ' ', 'the', ' ', 'women', ' ', 'called', ' ', 'it.', ' ', 'I', ' ', 'can', ' ', 'hear', ' ', 'Mrs.', ' ', 'Gideon', ' ', 'Thwing--his', ' ', 'last', ' ', 'Chicago', ' ', 'sitter--deploring', ' ', 'his', ' ', 'unaccountable', ' ', 'abdication.', ' ', '\"Of', ' ', 'course', ' ', \"it's\", ' ', 'going', ' ', 'to', ' ', 'send', ' ', 'the', ' ', 'value', ' ', 'of', ' ', 'my', ' ', 'picture', ' ', \"'way\", ' ', 'up;', ' ', 'but', ' ', 'I', ' ', \"don't\", ' ', 'think', ' ', 'of', ' ', 'that,', ' ', 'Mr.', ' ', 'Rickham--the', ' ', 'loss', ' ', 'to', ' ', 'Arrt', ' ', 'is', ' ', 'all', ' ', 'I', ' ', 'think', ' ', 'of.\"', ' ', 'The', ' ', 'word,', ' ', 'on', ' ', 'Mrs.', ' ', \"Thwing's\", ' ', 'lips,', ' ', 'multiplied', ' ', 'its', ' ', '_rs_', ' ', 'as', ' ', 'though', ' ', 'they', ' ', 'were', ' ', 'reflected', ' ', 'in', ' ', 'an', ' ', 'endless', ' ', 'vista', ' ', 'of', ' ', 'mirrors.', ' ', 'And', ' ', 'it', ' ', 'was', ' ', 'not', ' ', 'only', ' ', 'the', ' ', 'Mrs.', ' ', 'Thwings', ' ', 'who', ' ', 'mourned.', ' ', 'Had', ' ', 'not', ' ', 'the', ' ', 'exquisite', ' ', 'Hermia', ' ', 'Croft,', ' ', 'at', ' ', 'the', ' ', 'last', ' ', 'Grafton', ' ', 'Gallery', ' ', 'show,', ' ', 'stopped', ' ', 'me', ' ', 'before', ' ', \"Gisburn's\", ' ', '\"Moon-dancers\"', ' ', 'to', ' ', 'say,', ' ', 'with', ' ', 'tears', ' ', 'in', ' ', 'her', ' ', 'eyes:', ' ', '\"We', ' ', 'shall', ' ', 'not', ' ', 'look', ' ', 'upon', ' ', 'its', ' ', 'like', ' ', 'again\"?', '\\n', '', '\\n', 'Well!--even', ' ', 'through', ' ', 'the', ' ', 'prism', ' ', 'of', ' ', \"Hermia's\", ' ', 'tears', ' ', 'I', ' ', 'felt', ' ', 'able', ' ', 'to', ' ', 'face', ' ', 'the', ' ', 'fact', ' ', 'with', ' ', 'equanimity.', ' ', 'Poor', ' ', 'Jack', ' ', 'Gisburn!', ' ', 'The', ' ', 'women', ' ', 'had', ' ', 'made', ' ', 'him--it', ' ', 'was', ' ', 'fitting', ' ', 'that', ' ', 'they', ' ', 'should', ' ', 'mourn', ' ', 'him.', ' ', 'Among', ' ', 'his', ' ', 'own', ' ', 'sex', ' ', 'fewer', ' ', 'regrets', ' ', 'were', ' ', 'heard,', ' ', 'and', ' ', 'in', ' ', 'his', ' ', 'own', ' ', 'trade', ' ', 'hardly', ' ', 'a', ' ', 'murmur.', ' ', 'Professional', ' ', 'jealousy?', ' ', 'Perhaps.', ' ', 'If', ' ', 'it', ' ', 'were,', ' ', 'the', ' ', 'honour', ' ', 'of', ' ', 'the', ' ', 'craft', ' ', 'was', ' ', 'vindicated', ' ', 'by', ' ', 'little', ' ', 'Claude', ' ', 'Nutley,', ' ', 'who,', ' ', 'in', ' ', 'all', ' ', 'good', ' ', 'faith,', ' ', 'brought', ' ', 'out', ' ', 'in', ' ', 'the', ' ', 'Burlington', ' ', 'a', ' ', 'very', ' ', 'handsome', ' ', '\"obituary\"', ' ', 'on', ' ', 'Jack--one', ' ', 'of', ' ', 'those', ' ', 'showy', ' ', 'articles', ' ', 'stocked', ' ', 'with', ' ', 'random', ' ', 'technicalities', ' ', 'that', ' ', 'I', ' ', 'have', ' ', 'heard', ' ', '(I', ' ', \"won't\", ' ', 'say', ' ', 'by', ' ', 'whom)', ' ', 'compared', ' ', 'to', ' ', \"Gisburn's\", ' ', 'painting.', ' ', 'And', ' ', 'so--his', ' ', 'resolve', ' ', 'being', ' ', 'apparently', ' ', 'irrevocable--the', ' ', 'discussion', ' ', 'gradually', ' ', 'died', ' ', 'out,', ' ', 'and,', ' ', 'as', ' ', 'Mrs.', ' ', 'Thwing', ' ', 'had', ' ', 'predicted,', ' ', 'the', ' ', 'price', ' ', 'of', ' ', '\"Gisburns\"', ' ', 'went', ' ', 'up.', '\\n', '', '\\n', 'It', ' ', 'was', ' ', 'not', ' ', 'till', ' ', 'three', ' ', 'years', ' ', 'later', ' ', 'that,', ' ', 'in', ' ', 'the', ' ', 'course', ' ', 'of', ' ', 'a', ' ', 'few', ' ', \"weeks'\", ' ', 'idling', ' ', 'on', ' ', 'the', ' ', 'Riviera,', ' ', 'it', ' ', 'suddenly', ' ', 'occurred', ' ', 'to', ' ', 'me', ' ', 'to', ' ', 'wonder', ' ', 'why', ' ', 'Gisburn', ' ', 'had', ' ', 'given', ' ', 'up', ' ', 'his', ' ', 'painting.', ' ', 'On', ' ', 'reflection,', ' ', 'it', ' ', 'really', ' ', 'was', ' ', 'a', ' ', 'tempting', ' ', 'problem.', ' ', 'To', ' ', 'accuse', ' ', 'his', ' ', 'wife', ' ', 'would', ' ', 'have', ' ', 'been', ' ', 'too', ' ', 'easy--his', ' ', 'fair', ' ', 'sitters', ' ', 'had', ' ', 'been', ' ', 'denied', ' ', 'the', ' ', 'solace', ' ', 'of', ' ', 'saying', ' ', 'that', ' ', 'Mrs.', ' ', 'Gisburn', ' ', 'had', ' ', '\"dragged', ' ', 'him', ' ', 'down.\"', ' ', 'For', ' ', 'Mrs.', ' ', 'Gisburn--as', ' ', 'such--had', ' ', 'not', ' ', 'existed', ' ', 'till', ' ', 'nearly', ' ', 'a', ' ', 'year', ' ', 'after', ' ', \"Jack's\", ' ', 'resolve', ' ', 'had', ' ', 'been', ' ', 'taken.', ' ', 'It', ' ', 'might', ' ', 'be', ' ', 'that', ' ', 'he', ' ', 'had', ' ', 'married', ' ', 'her--since', ' ', 'he', ' ', 'liked', ' ', 'his', ' ', 'ease--because', ' ', 'he', ' ', \"didn't\", ' ', 'want', ' ', 'to', ' ', 'go', ' ', 'on', ' ', 'painting;', ' ', 'but', ' ', 'it', ' ', 'would', ' ', 'have', ' ', 'been', ' ', 'hard', ' ', 'to', ' ', 'prove', ' ', 'that', ' ', 'he', ' ', 'had', ' ', 'given', ' ', 'up', ' ', 'his', ' ', 'painting', ' ', 'because', ' ', 'he', ' ', 'had', ' ', 'married', ' ', 'her.', '\\n', '', '\\n', 'Of', ' ', 'course,', ' ', 'if', ' ', 'she', ' ', 'had', ' ', 'not', ' ', 'dragged', ' ', 'him', ' ', 'down,', ' ', 'she', ' ', 'had', ' ', 'equally,', ' ', 'as', ' ', 'Miss', ' ', 'Croft', ' ', 'contended,', ' ', 'failed', ' ', 'to', ' ', '\"lift', ' ', 'him', ' ', 'up\"--she', ' ', 'had', ' ', 'not', ' ', 'led', ' ', 'him', ' ', 'back', ' ', 'to', ' ', 'the', ' ', 'easel.', ' ', 'To', ' ', 'put', ' ', 'the', ' ', 'brush', ' ', 'into', ' ', 'his', ' ', 'hand', ' ', 'again--what', ' ', 'a', ' ', 'vocation', ' ', 'for', ' ', 'a', ' ', 'wife!', ' ', 'But', ' ', 'Mrs.', ' ', 'Gisburn', ' ', 'appeared', ' ', 'to', ' ', 'have', ' ', 'disdained', ' ', 'it--and', ' ', 'I', ' ', 'felt', ' ', 'it', ' ', 'might', ' ', 'be', ' ', 'interesting', ' ', 'to', ' ', 'find', ' ', 'out', ' ', 'why.', '\\n', '', '\\n', 'The', ' ', 'desultory', ' ', 'life', ' ', 'of', ' ', 'the', ' ', 'Riviera', ' ', 'lends', ' ', 'itself', ' ', 'to', ' ', 'such', ' ', 'purely', ' ', 'academic', ' ', 'speculations;', ' ', 'and', ' ', 'having,', ' ', 'on', ' ', 'my', ' ', 'way', ' ', 'to', ' ', 'Monte', ' ', 'Carlo,', ' ', 'caught', ' ', 'a', ' ', 'glimpse', ' ', 'of', ' ', \"Jack's\", ' ', 'balustraded', ' ', 'terraces', ' ', 'between', ' ', 'the', ' ', 'pines,', ' ', 'I', ' ', 'had', ' ', 'myself', ' ', 'borne', ' ', 'thither', ' ', 'the', ' ', 'next', ' ', 'day.', '\\n', '', '\\n', 'I', ' ', 'found', ' ', 'the', ' ', 'couple', ' ', 'at', ' ', 'tea', ' ', 'beneath', ' ', 'their', ' ', 'palm-trees;', ' ', 'and', ' ', 'Mrs.', ' ', \"Gisburn's\", ' ', 'welcome', ' ', 'was', ' ', 'so', ' ', 'genial', ' ', 'that,', ' ', 'in', ' ', 'the', ' ', 'ensuing', ' ', 'weeks,', ' ', 'I', ' ', 'claimed', ' ', 'it', ' ', 'frequently.', ' ', 'It', ' ', 'was', ' ', 'not', ' ', 'that', ' ', 'my', ' ', 'hostess', ' ', 'was', ' ', '\"interesting\":', ' ', 'on', ' ', 'that', ' ', 'point', ' ', 'I', ' ', 'could', ' ', 'have', ' ', 'given', ' ', 'Miss', ' ', 'Croft', ' ', 'the', ' ', 'fullest', ' ', 'reassurance.', ' ', 'It', ' ', 'was', ' ', 'just', ' ', 'because', ' ', 'she', ' ', 'was', ' ', '_not_', ' ', 'interesting--if', ' ', 'I', ' ', 'may', ' ', 'be', ' ', 'pardoned', ' ', 'the', ' ', 'bull--that', ' ', 'I', ' ', 'found', ' ', 'her', ' ', 'so.', ' ', 'For', ' ', 'Jack,', ' ', 'all', ' ', 'his', ' ', 'life,', ' ', 'had', ' ', 'been', ' ', 'surrounded', ' ', 'by', ' ', 'interesting', ' ', 'women:', ' ', 'they', ' ', 'had', ' ', 'fostered', ' ', 'his', ' ', 'art,', ' ', 'it', ' ', 'had', ' ', 'been', ' ', 'reared', ' ', 'in', ' ', 'the', ' ', 'hot-house', ' ', 'of', ' ', 'their', ' ', 'adulation.', ' ', 'And', ' ', 'it', ' ', 'was', ' ', 'therefore', ' ', 'instructive', ' ', 'to', ' ', 'note', ' ', 'what', ' ', 'effect', ' ', 'the', ' ', '\"deadening', ' ', 'atmosphere', ' ', 'of', ' ', 'mediocrity\"', ' ', '(I', ' ', 'quote', ' ', 'Miss', ' ', 'Croft)', ' ', 'was', ' ', 'having', ' ', 'on', ' ', 'him.', '\\n', '', '\\n', 'I', ' ', 'have', ' ', 'mentioned', ' ', 'that', ' ', 'Mrs.', ' ', 'Gisburn', ' ', 'was', ' ', 'rich;', ' ', 'and', ' ', 'it', ' ', 'was', ' ', 'immediately', ' ', 'perceptible', ' ', 'that', ' ', 'her', ' ', 'husband', ' ', 'was', ' ', 'extracting', ' ', 'from', ' ', 'this', ' ', 'circumstance', ' ', 'a', ' ', 'delicate', ' ', 'but', ' ', 'substantial', ' ', 'satisfaction.', ' ', 'It', ' ', 'is,', ' ', 'as', ' ', 'a', ' ', 'rule,', ' ', 'the', ' ', 'people', ' ', 'who', ' ', 'scorn', ' ', 'money', ' ', 'who', ' ', 'get', ' ', 'most', ' ', 'out', ' ', 'of', ' ', 'it;', ' ', 'and', ' ', \"Jack's\", ' ', 'elegant', ' ', 'disdain', ' ', 'of', ' ', 'his', ' ', \"wife's\", ' ', 'big', ' ', 'balance', ' ', 'enabled', ' ', 'him,', ' ', 'with', ' ', 'an', ' ', 'appearance', ' ', 'of', ' ', 'perfect', ' ', 'good-breeding,', ' ', 'to', ' ', 'transmute', ' ', 'it', ' ', 'into', ' ', 'objects', ' ', 'of', ' ', 'art', ' ', 'and', ' ', 'luxury.', ' ', 'To', ' ', 'the', ' ', 'latter,', ' ', 'I', ' ', 'must', ' ', 'add,', ' ', 'he', ' ', 'remained', ' ', 'relatively', ' ', 'indifferent;', ' ', 'but', ' ', 'he', ' ', 'was', ' ', 'buying', ' ', 'Renaissance', ' ', 'bronzes', ' ', 'and', ' ', 'eighteenth-century', ' ', 'pictures', ' ', 'with', ' ', 'a', ' ', 'discrimination', ' ', 'that', ' ', 'bespoke', ' ', 'the', ' ', 'amplest', ' ', 'resources.', '\\n', '', '\\n', '\"Money\\'s', ' ', 'only', ' ', 'excuse', ' ', 'is', ' ', 'to', ' ', 'put', ' ', 'beauty', ' ', 'into', ' ', 'circulation,\"', ' ', 'was', ' ', 'one', ' ', 'of', ' ', 'the', ' ', 'axioms', ' ', 'he', ' ', 'laid', ' ', 'down', ' ', 'across', ' ', 'the', ' ', 'Sevres', ' ', 'and', ' ', 'silver', ' ', 'of', ' ', 'an', ' ', 'exquisitely', ' ', 'appointed', ' ', 'luncheon-table,', ' ', 'when,', ' ', 'on', ' ', 'a', ' ', 'later', ' ', 'day,', ' ', 'I', ' ', 'had', ' ', 'again', ' ', 'run', ' ', 'over', ' ', 'from', ' ', 'Monte', ' ', 'Carlo;', ' ', 'and', ' ', 'Mrs.', ' ', 'Gisburn,', ' ', 'beaming', ' ', 'on', ' ', 'him,', ' ', 'added', ' ', 'for', ' ', 'my', ' ', 'enlightenment:', ' ', '\"Jack', ' ', 'is', ' ', 'so', ' ', 'morbidly', ' ', 'sensitive', ' ', 'to', ' ', 'every', ' ', 'form', ' ', 'of', ' ', 'beauty.\"', '\\n', '', '\\n', 'Poor', ' ', 'Jack!', ' ', 'It', ' ', 'had', ' ', 'always', ' ', 'been', ' ', 'his', ' ', 'fate', ' ', 'to', ' ', 'have', ' ', 'women', ' ', 'say', ' ', 'such', ' ', 'things', ' ', 'of', ' ', 'him:', ' ', 'the', ' ', 'fact', ' ', 'should', ' ', 'be', ' ', 'set', ' ', 'down', ' ', 'in', ' ', 'extenuation.', ' ', 'What', ' ', 'struck', ' ', 'me', ' ', 'now', ' ', 'was', ' ', 'that,', ' ', 'for', ' ', 'the', ' ', 'first', ' ', 'time,', ' ', 'he', ' ', 'resented', ' ', 'the', ' ', 'tone.', ' ', 'I', ' ', 'had', ' ', 'seen', ' ', 'him,', ' ', 'so', ' ', 'often,', ' ', 'basking', ' ', 'under', ' ', 'similar', ' ', 'tributes--was', ' ', 'it', ' ', 'the', ' ', 'conjugal', ' ', 'note', ' ', 'that', ' ', 'robbed', ' ', 'them', ' ', 'of', ' ', 'their', ' ', 'savour?', ' ', 'No--for,', ' ', 'oddly', ' ', 'enough,', ' ', 'it', ' ', 'became', ' ', 'apparent', ' ', 'that', ' ', 'he', ' ', 'was', ' ', 'fond', ' ', 'of', ' ', 'Mrs.', ' ', 'Gisburn--fond', ' ', 'enough', ' ', 'not', ' ', 'to', ' ', 'see', ' ', 'her', ' ', 'absurdity.', ' ', 'It', ' ', 'was', ' ', 'his', ' ', 'own', ' ', 'absurdity', ' ', 'he', ' ', 'seemed', ' ', 'to', ' ', 'be', ' ', 'wincing', ' ', 'under--his', ' ', 'own', ' ', 'attitude', ' ', 'as', ' ', 'an', ' ', 'object', ' ', 'for', ' ', 'garlands', ' ', 'and', ' ', 'incense.', '\\n', '', '\\n', '\"My', ' ', 'dear,', ' ', 'since', ' ', \"I've\", ' ', 'chucked', ' ', 'painting', ' ', 'people', ' ', \"don't\", ' ', 'say', ' ', 'that', ' ', 'stuff', ' ', 'about', ' ', 'me--they', ' ', 'say', ' ', 'it', ' ', 'about', ' ', 'Victor', ' ', 'Grindle,\"', ' ', 'was', ' ', 'his', ' ', 'only', ' ', 'protest,', ' ', 'as', ' ', 'he', ' ', 'rose', ' ', 'from', ' ', 'the', ' ', 'table', ' ', 'and', ' ', 'strolled', ' ', 'out', ' ', 'onto', ' ', 'the', ' ', 'sunlit', ' ', 'terrace.', '\\n', '', '\\n', 'I', ' ', 'glanced', ' ', 'after', ' ', 'him,', ' ', 'struck', ' ', 'by', ' ', 'his', ' ', 'last', ' ', 'word.', ' ', 'Victor', ' ', 'Grindle', ' ', 'was,', ' ', 'in', ' ', 'fact,', ' ', 'becoming', ' ', 'the', ' ', 'man', ' ', 'of', ' ', 'the', ' ', 'moment--as', ' ', 'Jack', ' ', 'himself,', ' ', 'one', ' ', 'might', ' ', 'put', ' ', 'it,', ' ', 'had', ' ', 'been', ' ', 'the', ' ', 'man', ' ', 'of', ' ', 'the', ' ', 'hour.', ' ', 'The', ' ', 'younger', ' ', 'artist', ' ', 'was', ' ', 'said', ' ', 'to', ' ', 'have', ' ', 'formed', ' ', 'himself', ' ', 'at', ' ', 'my', ' ', \"friend's\", ' ', 'feet,', ' ', 'and', ' ', 'I', ' ', 'wondered', ' ', 'if', ' ', 'a', ' ', 'tinge', ' ', 'of', ' ', 'jealousy', ' ', 'underlay', ' ', 'the', ' ', \"latter's\", ' ', 'mysterious', ' ', 'abdication.', ' ', 'But', ' ', 'no--for', ' ', 'it', ' ', 'was', ' ', 'not', ' ', 'till', ' ', 'after', ' ', 'that', ' ', 'event', ' ', 'that', ' ', 'the', ' ', '_rose', ' ', 'Dubarry_', ' ', 'drawing-rooms', ' ', 'had', ' ', 'begun', ' ', 'to', ' ', 'display', ' ', 'their', ' ', '\"Grindles.\"', '\\n', '', '\\n', 'I', ' ', 'turned', ' ', 'to', ' ', 'Mrs.', ' ', 'Gisburn,', ' ', 'who', ' ', 'had', ' ', 'lingered', ' ', 'to', ' ', 'give', ' ', 'a', ' ', 'lump', ' ', 'of', ' ', 'sugar', ' ', 'to', ' ', 'her', ' ', 'spaniel', ' ', 'in', ' ', 'the', ' ', 'dining-room.', '\\n', '', '\\n', '\"Why', ' ', '_has_', ' ', 'he', ' ', 'chucked', ' ', 'painting?\"', ' ', 'I', ' ', 'asked', ' ', 'abruptly.', '\\n', '', '\\n', 'She', ' ', 'raised', ' ', 'her', ' ', 'eyebrows', ' ', 'with', ' ', 'a', ' ', 'hint', ' ', 'of', ' ', 'good-humoured', ' ', 'surprise.', '\\n', '', '\\n', '\"Oh,', ' ', 'he', ' ', \"doesn't\", ' ', '_have_', ' ', 'to', ' ', 'now,', ' ', 'you', ' ', 'know;', ' ', 'and', ' ', 'I', ' ', 'want', ' ', 'him', ' ', 'to', ' ', 'enjoy', ' ', 'himself,\"', ' ', 'she', ' ', 'said', ' ', 'quite', ' ', 'simply.', '\\n', '', '\\n', 'I', ' ', 'looked', ' ', 'about', ' ', 'the', ' ', 'spacious', ' ', 'white-panelled', ' ', 'room,', ' ', 'with', ' ', 'its', ' ', '_famille-verte_', ' ', 'vases', ' ', 'repeating', ' ', 'the', ' ', 'tones', ' ', 'of', ' ', 'the', ' ', 'pale', ' ', 'damask', ' ', 'curtains,', ' ', 'and', ' ', 'its', ' ', 'eighteenth-century', ' ', 'pastels', ' ', 'in', ' ', 'delicate', ' ', 'faded', ' ', 'frames.', '\\n', '', '\\n', '\"Has', ' ', 'he', ' ', 'chucked', ' ', 'his', ' ', 'pictures', ' ', 'too?', ' ', 'I', ' ', \"haven't\", ' ', 'seen', ' ', 'a', ' ', 'single', ' ', 'one', ' ', 'in', ' ', 'the', ' ', 'house.\"', '\\n', '', '\\n', 'A', ' ', 'slight', ' ', 'shade', ' ', 'of', ' ', 'constraint', ' ', 'crossed', ' ', 'Mrs.', ' ', \"Gisburn's\", ' ', 'open', ' ', 'countenance.', ' ', '\"It\\'s', ' ', 'his', ' ', 'ridiculous', ' ', 'modesty,', ' ', 'you', ' ', 'know.', ' ', 'He', ' ', 'says', ' ', \"they're\", ' ', 'not', ' ', 'fit', ' ', 'to', ' ', 'have', ' ', 'about;', ' ', \"he's\", ' ', 'sent', ' ', 'them', ' ', 'all', ' ', 'away', ' ', 'except', ' ', 'one--my', ' ', 'portrait--and', ' ', 'that', ' ', 'I', ' ', 'have', ' ', 'to', ' ', 'keep', ' ', 'upstairs.\"', '\\n', '', '\\n', 'His', ' ', 'ridiculous', ' ', \"modesty--Jack's\", ' ', 'modesty', ' ', 'about', ' ', 'his', ' ', 'pictures?', ' ', 'My', ' ', 'curiosity', ' ', 'was', ' ', 'growing', ' ', 'like', ' ', 'the', ' ', 'bean-stalk.', ' ', 'I', ' ', 'said', ' ', 'persuasively', ' ', 'to', ' ', 'my', ' ', 'hostess:', ' ', '\"I', ' ', 'must', ' ', 'really', ' ', 'see', ' ', 'your', ' ', 'portrait,', ' ', 'you', ' ', 'know.\"', '\\n', '', '\\n', 'She', ' ', 'glanced', ' ', 'out', ' ', 'almost', ' ', 'timorously', ' ', 'at', ' ', 'the', ' ', 'terrace', ' ', 'where', ' ', 'her', ' ', 'husband,', ' ', 'lounging', ' ', 'in', ' ', 'a', ' ', 'hooded', ' ', 'chair,', ' ', 'had', ' ', 'lit', ' ', 'a', ' ', 'cigar', ' ', 'and', ' ', 'drawn', ' ', 'the', ' ', 'Russian', ' ', \"deerhound's\", ' ', 'head', ' ', 'between', ' ', 'his', ' ', 'knees.', '\\n', '', '\\n', '\"Well,', ' ', 'come', ' ', 'while', ' ', \"he's\", ' ', 'not', ' ', 'looking,\"', ' ', 'she', ' ', 'said,', ' ', 'with', ' ', 'a', ' ', 'laugh', ' ', 'that', ' ', 'tried', ' ', 'to', ' ', 'hide', ' ', 'her', ' ', 'nervousness;', ' ', 'and', ' ', 'I', ' ', 'followed', ' ', 'her', ' ', 'between', ' ', 'the', ' ', 'marble', ' ', 'Emperors', ' ', 'of', ' ', 'the', ' ', 'hall,', ' ', 'and', ' ', 'up', ' ', 'the', ' ', 'wide', ' ', 'stairs', ' ', 'with', ' ', 'terra-cotta', ' ', 'nymphs', ' ', 'poised', ' ', 'among', ' ', 'flowers', ' ', 'at', ' ', 'each', ' ', 'landing.', '\\n', '', '\\n', 'In', ' ', 'the', ' ', 'dimmest', ' ', 'corner', ' ', 'of', ' ', 'her', ' ', 'boudoir,', ' ', 'amid', ' ', 'a', ' ', 'profusion', ' ', 'of', ' ', 'delicate', ' ', 'and', ' ', 'distinguished', ' ', 'objects,', ' ', 'hung', ' ', 'one', ' ', 'of', ' ', 'the', ' ', 'familiar', ' ', 'oval', ' ', 'canvases,', ' ', 'in', ' ', 'the', ' ', 'inevitable', ' ', 'garlanded', ' ', 'frame.', ' ', 'The', ' ', 'mere', ' ', 'outline', ' ', 'of', ' ', 'the', ' ', 'frame', ' ', 'called', ' ', 'up', ' ', 'all', ' ', \"Gisburn's\", ' ', 'past!', '\\n', '', '\\n', 'Mrs.', ' ', 'Gisburn', ' ', 'drew', ' ', 'back', ' ', 'the', ' ', 'window-curtains,', ' ', 'moved', ' ', 'aside', ' ', 'a', ' ', '_jardiniere_', ' ', 'full', ' ', 'of', ' ', 'pink', ' ', 'azaleas,', ' ', 'pushed', ' ', 'an', ' ', 'arm-chair', ' ', 'away,', ' ', 'and', ' ', 'said:', ' ', '\"If', ' ', 'you', ' ', 'stand', ' ', 'here', ' ', 'you', ' ', 'can', ' ', 'just', ' ', 'manage', ' ', 'to', ' ', 'see', ' ', 'it.', ' ', 'I', ' ', 'had', ' ', 'it', ' ', 'over', ' ', 'the', ' ', 'mantel-piece,', ' ', 'but', ' ', 'he', ' ', \"wouldn't\", ' ', 'let', ' ', 'it', ' ', 'stay.\"', '\\n', '', '\\n', 'Yes--I', ' ', 'could', ' ', 'just', ' ', 'manage', ' ', 'to', ' ', 'see', ' ', 'it--the', ' ', 'first', ' ', 'portrait', ' ', 'of', ' ', \"Jack's\", ' ', 'I', ' ', 'had', ' ', 'ever', ' ', 'had', ' ', 'to', ' ', 'strain', ' ', 'my', ' ', 'eyes', ' ', 'over!', ' ', 'Usually', ' ', 'they', ' ', 'had', ' ', 'the', ' ', 'place', ' ', 'of', ' ', 'honour--say', ' ', 'the', ' ', 'central', ' ', 'panel', ' ', 'in', ' ', 'a', ' ', 'pale', ' ', 'yellow', ' ', 'or', ' ', '_rose', ' ', 'Dubarry_', ' ', 'drawing-room,', ' ', 'or', ' ', 'a', ' ', 'monumental', ' ', 'easel', ' ', 'placed', ' ', 'so', ' ', 'that', ' ', 'it', ' ', 'took', ' ', 'the', ' ', 'light', ' ', 'through', ' ', 'curtains', ' ', 'of', ' ', 'old', ' ', 'Venetian', ' ', 'point.', ' ', 'The', ' ', 'more', ' ', 'modest', ' ', 'place', ' ', 'became', ' ', 'the', ' ', 'picture', ' ', 'better;', ' ', 'yet,', ' ', 'as', ' ', 'my', ' ', 'eyes', ' ', 'grew', ' ', 'accustomed', ' ', 'to', ' ', 'the', ' ', 'half-light,', ' ', 'all', ' ', 'the', ' ', 'characteristic', ' ', 'qualities', ' ', 'came', ' ', 'out--all', ' ', 'the', ' ', 'hesitations', ' ', 'disguised', ' ', 'as', ' ', 'audacities,', ' ', 'the', ' ', 'tricks', ' ', 'of', ' ', 'prestidigitation', ' ', 'by', ' ', 'which,', ' ', 'with', ' ', 'such', ' ', 'consummate', ' ', 'skill,', ' ', 'he', ' ', 'managed', ' ', 'to', ' ', 'divert', ' ', 'attention', ' ', 'from', ' ', 'the', ' ', 'real', ' ', 'business', ' ', 'of', ' ', 'the', ' ', 'picture', ' ', 'to', ' ', 'some', ' ', 'pretty', ' ', 'irrelevance', ' ', 'of', ' ', 'detail.', ' ', 'Mrs.', ' ', 'Gisburn,', ' ', 'presenting', ' ', 'a', ' ', 'neutral', ' ', 'surface', ' ', 'to', ' ', 'work', ' ', 'on--forming,', ' ', 'as', ' ', 'it', ' ', 'were,', ' ', 'so', ' ', 'inevitably', ' ', 'the', ' ', 'background', ' ', 'of', ' ', 'her', ' ', 'own', ' ', 'picture--had', ' ', 'lent', ' ', 'herself', ' ', 'in', ' ', 'an', ' ', 'unusual', ' ', 'degree', ' ', 'to', ' ', 'the', ' ', 'display', ' ', 'of', ' ', 'this', ' ', 'false', ' ', 'virtuosity.', ' ', 'The', ' ', 'picture', ' ', 'was', ' ', 'one', ' ', 'of', ' ', \"Jack's\", ' ', '\"strongest,\"', ' ', 'as', ' ', 'his', ' ', 'admirers', ' ', 'would', ' ', 'have', ' ', 'put', ' ', 'it--it', ' ', 'represented,', ' ', 'on', ' ', 'his', ' ', 'part,', ' ', 'a', ' ', 'swelling', ' ', 'of', ' ', 'muscles,', ' ', 'a', ' ', 'congesting', ' ', 'of', ' ', 'veins,', ' ', 'a', ' ', 'balancing,', ' ', 'straddling', ' ', 'and', ' ', 'straining,', ' ', 'that', ' ', 'reminded', ' ', 'one', ' ', 'of', ' ', 'the', ' ', \"circus-clown's\", ' ', 'ironic', ' ', 'efforts', ' ', 'to', ' ', 'lift', ' ', 'a', ' ', 'feather.', ' ', 'It', ' ', 'met,', ' ', 'in', ' ', 'short,', ' ', 'at', ' ', 'every', ' ', 'point', ' ', 'the', ' ', 'demand', ' ', 'of', ' ', 'lovely', ' ', 'woman', ' ', 'to', ' ', 'be', ' ', 'painted', ' ', '\"strongly\"', ' ', 'because', ' ', 'she', ' ', 'was', ' ', 'tired', ' ', 'of', ' ', 'being', ' ', 'painted', ' ', '\"sweetly\"--and', ' ', 'yet', ' ', 'not', ' ', 'to', ' ', 'lose', ' ', 'an', ' ', 'atom', ' ', 'of', ' ', 'the', ' ', 'sweetness.', '\\n', '', '\\n', '\"It\\'s', ' ', 'the', ' ', 'last', ' ', 'he', ' ', 'painted,', ' ', 'you', ' ', 'know,\"', ' ', 'Mrs.', ' ', 'Gisburn', ' ', 'said', ' ', 'with', ' ', 'pardonable', ' ', 'pride.', ' ', '\"The', ' ', 'last', ' ', 'but', ' ', 'one,\"', ' ', 'she', ' ', 'corrected', ' ', 'herself--\"but', ' ', 'the', ' ', 'other', ' ', \"doesn't\", ' ', 'count,', ' ', 'because', ' ', 'he', ' ', 'destroyed', ' ', 'it.\"', '\\n', '', '\\n', '\"Destroyed', ' ', 'it?\"', ' ', 'I', ' ', 'was', ' ', 'about', ' ', 'to', ' ', 'follow', ' ', 'up', ' ', 'this', ' ', 'clue', ' ', 'when', ' ', 'I', ' ', 'heard', ' ', 'a', ' ', 'footstep', ' ', 'and', ' ', 'saw', ' ', 'Jack', ' ', 'himself', ' ', 'on', ' ', 'the', ' ', 'threshold.', '\\n', '', '\\n', 'As', ' ', 'he', ' ', 'stood', ' ', 'there,', ' ', 'his', ' ', 'hands', ' ', 'in', ' ', 'the', ' ', 'pockets', ' ', 'of', ' ', 'his', ' ', 'velveteen', ' ', 'coat,', ' ', 'the', ' ', 'thin', ' ', 'brown', ' ', 'waves', ' ', 'of', ' ', 'hair', ' ', 'pushed', ' ', 'back', ' ', 'from', ' ', 'his', ' ', 'white', ' ', 'forehead,', ' ', 'his', ' ', 'lean', ' ', 'sunburnt', ' ', 'cheeks', ' ', 'furrowed', ' ', 'by', ' ', 'a', ' ', 'smile', ' ', 'that', ' ', 'lifted', ' ', 'the', ' ', 'tips', ' ', 'of', ' ', 'a', ' ', 'self-confident', ' ', 'moustache,', ' ', 'I', ' ', 'felt', ' ', 'to', ' ', 'what', ' ', 'a', ' ', 'degree', ' ', 'he', ' ', 'had', ' ', 'the', ' ', 'same', ' ', 'quality', ' ', 'as', ' ', 'his', ' ', 'pictures--the', ' ', 'quality', ' ', 'of', ' ', 'looking', ' ', 'cleverer', ' ', 'than', ' ', 'he', ' ', 'was.', '\\n', '', '\\n', 'His', ' ', 'wife', ' ', 'glanced', ' ', 'at', ' ', 'him', ' ', 'deprecatingly,', ' ', 'but', ' ', 'his', ' ', 'eyes', ' ', 'travelled', ' ', 'past', ' ', 'her', ' ', 'to', ' ', 'the', ' ', 'portrait.', '\\n', '', '\\n', '\"Mr.', ' ', 'Rickham', ' ', 'wanted', ' ', 'to', ' ', 'see', ' ', 'it,\"', ' ', 'she', ' ', 'began,', ' ', 'as', ' ', 'if', ' ', 'excusing', ' ', 'herself.', ' ', 'He', ' ', 'shrugged', ' ', 'his', ' ', 'shoulders,', ' ', 'still', ' ', 'smiling.', '\\n', '', '\\n', '\"Oh,', ' ', 'Rickham', ' ', 'found', ' ', 'me', ' ', 'out', ' ', 'long', ' ', 'ago,\"', ' ', 'he', ' ', 'said', ' ', 'lightly;', ' ', 'then,', ' ', 'passing', ' ', 'his', ' ', 'arm', ' ', 'through', ' ', 'mine:', ' ', '\"Come', ' ', 'and', ' ', 'see', ' ', 'the', ' ', 'rest', ' ', 'of', ' ', 'the', ' ', 'house.\"', '\\n', '', '\\n', 'He', ' ', 'showed', ' ', 'it', ' ', 'to', ' ', 'me', ' ', 'with', ' ', 'a', ' ', 'kind', ' ', 'of', ' ', 'naive', ' ', 'suburban', ' ', 'pride:', ' ', 'the', ' ', 'bath-rooms,', ' ', 'the', ' ', 'speaking-tubes,', ' ', 'the', ' ', 'dress-closets,', ' ', 'the', ' ', 'trouser-presses--all', ' ', 'the', ' ', 'complex', ' ', 'simplifications', ' ', 'of', ' ', 'the', ' ', \"millionaire's\", ' ', 'domestic', ' ', 'economy.', ' ', 'And', ' ', 'whenever', ' ', 'my', ' ', 'wonder', ' ', 'paid', ' ', 'the', ' ', 'expected', ' ', 'tribute', ' ', 'he', ' ', 'said,', ' ', 'throwing', ' ', 'out', ' ', 'his', ' ', 'chest', ' ', 'a', ' ', 'little:', ' ', '\"Yes,', ' ', 'I', ' ', 'really', ' ', \"don't\", ' ', 'see', ' ', 'how', ' ', 'people', ' ', 'manage', ' ', 'to', ' ', 'live', ' ', 'without', ' ', 'that.\"', '\\n', '', '\\n', 'Well--it', ' ', 'was', ' ', 'just', ' ', 'the', ' ', 'end', ' ', 'one', ' ', 'might', ' ', 'have', ' ', 'foreseen', ' ', 'for', ' ', 'him.', ' ', 'Only', ' ', 'he', ' ', 'was,', ' ', 'through', ' ', 'it', ' ', 'all', ' ', 'and', ' ', 'in', ' ', 'spite', ' ', 'of', ' ', 'it', ' ', 'all--as', ' ', 'he', ' ', 'had', ' ', 'been', ' ', 'through,', ' ', 'and', ' ', 'in', ' ', 'spite', ' ', 'of,', ' ', 'his', ' ', 'pictures--so', ' ', 'handsome,', ' ', 'so', ' ', 'charming,', ' ', 'so', ' ', 'disarming,', ' ', 'that', ' ', 'one', ' ', 'longed', ' ', 'to', ' ', 'cry', ' ', 'out:', ' ', '\"Be', ' ', 'dissatisfied', ' ', 'with', ' ', 'your', ' ', 'leisure!\"', ' ', 'as', ' ', 'once', ' ', 'one', ' ', 'had', ' ', 'longed', ' ', 'to', ' ', 'say:', ' ', '\"Be', ' ', 'dissatisfied', ' ', 'with', ' ', 'your', ' ', 'work!\"', '\\n', '', '\\n', 'But,', ' ', 'with', ' ', 'the', ' ', 'cry', ' ', 'on', ' ', 'my', ' ', 'lips,', ' ', 'my', ' ', 'diagnosis', ' ', 'suffered', ' ', 'an', ' ', 'unexpected', ' ', 'check.', '\\n', '', '\\n', '\"This', ' ', 'is', ' ', 'my', ' ', 'own', ' ', 'lair,\"', ' ', 'he', ' ', 'said,', ' ', 'leading', ' ', 'me', ' ', 'into', ' ', 'a', ' ', 'dark', ' ', 'plain', ' ', 'room', ' ', 'at', ' ', 'the', ' ', 'end', ' ', 'of', ' ', 'the', ' ', 'florid', ' ', 'vista.', ' ', 'It', ' ', 'was', ' ', 'square', ' ', 'and', ' ', 'brown', ' ', 'and', ' ', 'leathery:', ' ', 'no', ' ', '\"effects\";', ' ', 'no', ' ', 'bric-a-brac,', ' ', 'none', ' ', 'of', ' ', 'the', ' ', 'air', ' ', 'of', ' ', 'posing', ' ', 'for', ' ', 'reproduction', ' ', 'in', ' ', 'a', ' ', 'picture', ' ', 'weekly--above', ' ', 'all,', ' ', 'no', ' ', 'least', ' ', 'sign', ' ', 'of', ' ', 'ever', ' ', 'having', ' ', 'been', ' ', 'used', ' ', 'as', ' ', 'a', ' ', 'studio.', '\\n', '', '\\n', 'The', ' ', 'fact', ' ', 'brought', ' ', 'home', ' ', 'to', ' ', 'me', ' ', 'the', ' ', 'absolute', ' ', 'finality', ' ', 'of', ' ', \"Jack's\", ' ', 'break', ' ', 'with', ' ', 'his', ' ', 'old', ' ', 'life.', '\\n', '', '\\n', '\"Don\\'t', ' ', 'you', ' ', 'ever', ' ', 'dabble', ' ', 'with', ' ', 'paint', ' ', 'any', ' ', 'more?\"', ' ', 'I', ' ', 'asked,', ' ', 'still', ' ', 'looking', ' ', 'about', ' ', 'for', ' ', 'a', ' ', 'trace', ' ', 'of', ' ', 'such', ' ', 'activity.', '\\n', '', '\\n', '\"Never,\"', ' ', 'he', ' ', 'said', ' ', 'briefly.', '\\n', '', '\\n', '\"Or', ' ', 'water-colour--or', ' ', 'etching?\"', '\\n', '', '\\n', 'His', ' ', 'confident', ' ', 'eyes', ' ', 'grew', ' ', 'dim,', ' ', 'and', ' ', 'his', ' ', 'cheeks', ' ', 'paled', ' ', 'a', ' ', 'little', ' ', 'under', ' ', 'their', ' ', 'handsome', ' ', 'sunburn.', '\\n', '', '\\n', '\"Never', ' ', 'think', ' ', 'of', ' ', 'it,', ' ', 'my', ' ', 'dear', ' ', 'fellow--any', ' ', 'more', ' ', 'than', ' ', 'if', ' ', \"I'd\", ' ', 'never', ' ', 'touched', ' ', 'a', ' ', 'brush.\"', '\\n', '', '\\n', 'And', ' ', 'his', ' ', 'tone', ' ', 'told', ' ', 'me', ' ', 'in', ' ', 'a', ' ', 'flash', ' ', 'that', ' ', 'he', ' ', 'never', ' ', 'thought', ' ', 'of', ' ', 'anything', ' ', 'else.', '\\n', '', '\\n', 'I', ' ', 'moved', ' ', 'away,', ' ', 'instinctively', ' ', 'embarrassed', ' ', 'by', ' ', 'my', ' ', 'unexpected', ' ', 'discovery;', ' ', 'and', ' ', 'as', ' ', 'I', ' ', 'turned,', ' ', 'my', ' ', 'eye', ' ', 'fell', ' ', 'on', ' ', 'a', ' ', 'small', ' ', 'picture', ' ', 'above', ' ', 'the', ' ', 'mantel-piece--the', ' ', 'only', ' ', 'object', ' ', 'breaking', ' ', 'the', ' ', 'plain', ' ', 'oak', ' ', 'panelling', ' ', 'of', ' ', 'the', ' ', 'room.', '\\n', '', '\\n', '\"Oh,', ' ', 'by', ' ', 'Jove!\"', ' ', 'I', ' ', 'said.', '\\n', '', '\\n', 'It', ' ', 'was', ' ', 'a', ' ', 'sketch', ' ', 'of', ' ', 'a', ' ', 'donkey--an', ' ', 'old', ' ', 'tired', ' ', 'donkey,', ' ', 'standing', ' ', 'in', ' ', 'the', ' ', 'rain', ' ', 'under', ' ', 'a', ' ', 'wall.', '\\n', '', '\\n', '\"By', ' ', 'Jove--a', ' ', 'Stroud!\"', ' ', 'I', ' ', 'cried.', '\\n', '', '\\n', 'He', ' ', 'was', ' ', 'silent;', ' ', 'but', ' ', 'I', ' ', 'felt', ' ', 'him', ' ', 'close', ' ', 'behind', ' ', 'me,', ' ', 'breathing', ' ', 'a', ' ', 'little', ' ', 'quickly.', '\\n', '', '\\n', '\"What', ' ', 'a', ' ', 'wonder!', ' ', 'Made', ' ', 'with', ' ', 'a', ' ', 'dozen', ' ', 'lines--but', ' ', 'on', ' ', 'everlasting', ' ', 'foundations.', ' ', 'You', ' ', 'lucky', ' ', 'chap,', ' ', 'where', ' ', 'did', ' ', 'you', ' ', 'get', ' ', 'it?\"', '\\n', '', '\\n', 'He', ' ', 'answered', ' ', 'slowly:', ' ', '\"Mrs.', ' ', 'Stroud', ' ', 'gave', ' ', 'it', ' ', 'to', ' ', 'me.\"', '\\n', '', '\\n', '\"Ah--I', ' ', \"didn't\", ' ', 'know', ' ', 'you', ' ', 'even', ' ', 'knew', ' ', 'the', ' ', 'Strouds.', ' ', 'He', ' ', 'was', ' ', 'such', ' ', 'an', ' ', 'inflexible', ' ', 'hermit.\"', '\\n', '', '\\n', '\"I', ' ', \"didn't--till\", ' ', 'after.', ' ', '.', ' ', '.', ' ', '.', ' ', 'She', ' ', 'sent', ' ', 'for', ' ', 'me', ' ', 'to', ' ', 'paint', ' ', 'him', ' ', 'when', ' ', 'he', ' ', 'was', ' ', 'dead.\"', '\\n', '', '\\n', '\"When', ' ', 'he', ' ', 'was', ' ', 'dead?', ' ', 'You?\"', '\\n', '', '\\n', 'I', ' ', 'must', ' ', 'have', ' ', 'let', ' ', 'a', ' ', 'little', ' ', 'too', ' ', 'much', ' ', 'amazement', ' ', 'escape', ' ', 'through', ' ', 'my', ' ', 'surprise,', ' ', 'for', ' ', 'he', ' ', 'answered', ' ', 'with', ' ', 'a', ' ', 'deprecating', ' ', 'laugh:', ' ', '\"Yes--she\\'s', ' ', 'an', ' ', 'awful', ' ', 'simpleton,', ' ', 'you', ' ', 'know,', ' ', 'Mrs.', ' ', 'Stroud.', ' ', 'Her', ' ', 'only', ' ', 'idea', ' ', 'was', ' ', 'to', ' ', 'have', ' ', 'him', ' ', 'done', ' ', 'by', ' ', 'a', ' ', 'fashionable', ' ', 'painter--ah,', ' ', 'poor', ' ', 'Stroud!', ' ', 'She', ' ', 'thought', ' ', 'it', ' ', 'the', ' ', 'surest', ' ', 'way', ' ', 'of', ' ', 'proclaiming', ' ', 'his', ' ', 'greatness--of', ' ', 'forcing', ' ', 'it', ' ', 'on', ' ', 'a', ' ', 'purblind', ' ', 'public.', ' ', 'And', ' ', 'at', ' ', 'the', ' ', 'moment', ' ', 'I', ' ', 'was', ' ', '_the_', ' ', 'fashionable', ' ', 'painter.\"', '\\n', '', '\\n', '\"Ah,', ' ', 'poor', ' ', 'Stroud--as', ' ', 'you', ' ', 'say.', ' ', 'Was', ' ', '_that_', ' ', 'his', ' ', 'history?\"', '\\n', '', '\\n', '\"That', ' ', 'was', ' ', 'his', ' ', 'history.', ' ', 'She', ' ', 'believed', ' ', 'in', ' ', 'him,', ' ', 'gloried', ' ', 'in', ' ', 'him--or', ' ', 'thought', ' ', 'she', ' ', 'did.', ' ', 'But', ' ', 'she', ' ', \"couldn't\", ' ', 'bear', ' ', 'not', ' ', 'to', ' ', 'have', ' ', 'all', ' ', 'the', ' ', 'drawing-rooms', ' ', 'with', ' ', 'her.', ' ', 'She', ' ', \"couldn't\", ' ', 'bear', ' ', 'the', ' ', 'fact', ' ', 'that,', ' ', 'on', ' ', 'varnishing', ' ', 'days,', ' ', 'one', ' ', 'could', ' ', 'always', ' ', 'get', ' ', 'near', ' ', 'enough', ' ', 'to', ' ', 'see', ' ', 'his', ' ', 'pictures.', ' ', 'Poor', ' ', 'woman!', ' ', \"She's\", ' ', 'just', ' ', 'a', ' ', 'fragment', ' ', 'groping', ' ', 'for', ' ', 'other', ' ', 'fragments.', ' ', 'Stroud', ' ', 'is', ' ', 'the', ' ', 'only', ' ', 'whole', ' ', 'I', ' ', 'ever', ' ', 'knew.\"', '\\n', '', '\\n', '\"You', ' ', 'ever', ' ', 'knew?', ' ', 'But', ' ', 'you', ' ', 'just', ' ', 'said--\"', '\\n', '', '\\n', 'Gisburn', ' ', 'had', ' ', 'a', ' ', 'curious', ' ', 'smile', ' ', 'in', ' ', 'his', ' ', 'eyes.', '\\n', '', '\\n', '\"Oh,', ' ', 'I', ' ', 'knew', ' ', 'him,', ' ', 'and', ' ', 'he', ' ', 'knew', ' ', 'me--only', ' ', 'it', ' ', 'happened', ' ', 'after', ' ', 'he', ' ', 'was', ' ', 'dead.\"', '\\n', '', '\\n', 'I', ' ', 'dropped', ' ', 'my', ' ', 'voice', ' ', 'instinctively.', ' ', '\"When', ' ', 'she', ' ', 'sent', ' ', 'for', ' ', 'you?\"', '\\n', '', '\\n', '\"Yes--quite', ' ', 'insensible', ' ', 'to', ' ', 'the', ' ', 'irony.', ' ', 'She', ' ', 'wanted', ' ', 'him', ' ', 'vindicated--and', ' ', 'by', ' ', 'me!\"', '\\n', '', '\\n', 'He', ' ', 'laughed', ' ', 'again,', ' ', 'and', ' ', 'threw', ' ', 'back', ' ', 'his', ' ', 'head', ' ', 'to', ' ', 'look', ' ', 'up', ' ', 'at', ' ', 'the', ' ', 'sketch', ' ', 'of', ' ', 'the', ' ', 'donkey.', ' ', '\"There', ' ', 'were', ' ', 'days', ' ', 'when', ' ', 'I', ' ', \"couldn't\", ' ', 'look', ' ', 'at', ' ', 'that', ' ', \"thing--couldn't\", ' ', 'face', ' ', 'it.', ' ', 'But', ' ', 'I', ' ', 'forced', ' ', 'myself', ' ', 'to', ' ', 'put', ' ', 'it', ' ', 'here;', ' ', 'and', ' ', 'now', ' ', \"it's\", ' ', 'cured', ' ', 'me--cured', ' ', 'me.', ' ', \"That's\", ' ', 'the', ' ', 'reason', ' ', 'why', ' ', 'I', ' ', \"don't\", ' ', 'dabble', ' ', 'any', ' ', 'more,', ' ', 'my', ' ', 'dear', ' ', 'Rickham;', ' ', 'or', ' ', 'rather', ' ', 'Stroud', ' ', 'himself', ' ', 'is', ' ', 'the', ' ', 'reason.\"', '\\n', '', '\\n', 'For', ' ', 'the', ' ', 'first', ' ', 'time', ' ', 'my', ' ', 'idle', ' ', 'curiosity', ' ', 'about', ' ', 'my', ' ', 'companion', ' ', 'turned', ' ', 'into', ' ', 'a', ' ', 'serious', ' ', 'desire', ' ', 'to', ' ', 'understand', ' ', 'him', ' ', 'better.', '\\n', '', '\\n', '\"I', ' ', 'wish', ' ', \"you'd\", ' ', 'tell', ' ', 'me', ' ', 'how', ' ', 'it', ' ', 'happened,\"', ' ', 'I', ' ', 'said.', '\\n', '', '\\n', 'He', ' ', 'stood', ' ', 'looking', ' ', 'up', ' ', 'at', ' ', 'the', ' ', 'sketch,', ' ', 'and', ' ', 'twirling', ' ', 'between', ' ', 'his', ' ', 'fingers', ' ', 'a', ' ', 'cigarette', ' ', 'he', ' ', 'had', ' ', 'forgotten', ' ', 'to', ' ', 'light.', ' ', 'Suddenly', ' ', 'he', ' ', 'turned', ' ', 'toward', ' ', 'me.', '\\n', '', '\\n', '\"I\\'d', ' ', 'rather', ' ', 'like', ' ', 'to', ' ', 'tell', ' ', 'you--because', ' ', \"I've\", ' ', 'always', ' ', 'suspected', ' ', 'you', ' ', 'of', ' ', 'loathing', ' ', 'my', ' ', 'work.\"', '\\n', '', '\\n', 'I', ' ', 'made', ' ', 'a', ' ', 'deprecating', ' ', 'gesture,', ' ', 'which', ' ', 'he', ' ', 'negatived', ' ', 'with', ' ', 'a', ' ', 'good-humoured', ' ', 'shrug.', '\\n', '', '\\n', '\"Oh,', ' ', 'I', ' ', \"didn't\", ' ', 'care', ' ', 'a', ' ', 'straw', ' ', 'when', ' ', 'I', ' ', 'believed', ' ', 'in', ' ', 'myself--and', ' ', 'now', ' ', \"it's\", ' ', 'an', ' ', 'added', ' ', 'tie', ' ', 'between', ' ', 'us!\"', '\\n', '', '\\n', 'He', ' ', 'laughed', ' ', 'slightly,', ' ', 'without', ' ', 'bitterness,', ' ', 'and', ' ', 'pushed', ' ', 'one', ' ', 'of', ' ', 'the', ' ', 'deep', ' ', 'arm-chairs', ' ', 'forward.', ' ', '\"There:', ' ', 'make', ' ', 'yourself', ' ', 'comfortable--and', ' ', 'here', ' ', 'are', ' ', 'the', ' ', 'cigars', ' ', 'you', ' ', 'like.\"', '\\n', '', '\\n', 'He', ' ', 'placed', ' ', 'them', ' ', 'at', ' ', 'my', ' ', 'elbow', ' ', 'and', ' ', 'continued', ' ', 'to', ' ', 'wander', ' ', 'up', ' ', 'and', ' ', 'down', ' ', 'the', ' ', 'room,', ' ', 'stopping', ' ', 'now', ' ', 'and', ' ', 'then', ' ', 'beneath', ' ', 'the', ' ', 'picture.', '\\n', '', '\\n', '\"How', ' ', 'it', ' ', 'happened?', ' ', 'I', ' ', 'can', ' ', 'tell', ' ', 'you', ' ', 'in', ' ', 'five', ' ', 'minutes--and', ' ', 'it', ' ', \"didn't\", ' ', 'take', ' ', 'much', ' ', 'longer', ' ', 'to', ' ', 'happen.', ' ', '.', ' ', '.', ' ', '.', ' ', 'I', ' ', 'can', ' ', 'remember', ' ', 'now', ' ', 'how', ' ', 'surprised', ' ', 'and', ' ', 'pleased', ' ', 'I', ' ', 'was', ' ', 'when', ' ', 'I', ' ', 'got', ' ', 'Mrs.', ' ', \"Stroud's\", ' ', 'note.', ' ', 'Of', ' ', 'course,', ' ', 'deep', ' ', 'down,', ' ', 'I', ' ', 'had', ' ', 'always', ' ', '_felt_', ' ', 'there', ' ', 'was', ' ', 'no', ' ', 'one', ' ', 'like', ' ', 'him--only', ' ', 'I', ' ', 'had', ' ', 'gone', ' ', 'with', ' ', 'the', ' ', 'stream,', ' ', 'echoed', ' ', 'the', ' ', 'usual', ' ', 'platitudes', ' ', 'about', ' ', 'him,', ' ', 'till', ' ', 'I', ' ', 'half', ' ', 'got', ' ', 'to', ' ', 'think', ' ', 'he', ' ', 'was', ' ', 'a', ' ', 'failure,', ' ', 'one', ' ', 'of', ' ', 'the', ' ', 'kind', ' ', 'that', ' ', 'are', ' ', 'left', ' ', 'behind.', ' ', 'By', ' ', 'Jove,', ' ', 'and', ' ', 'he', ' ', '_was_', ' ', 'left', ' ', 'behind--because', ' ', 'he', ' ', 'had', ' ', 'come', ' ', 'to', ' ', 'stay!', ' ', 'The', ' ', 'rest', ' ', 'of', ' ', 'us', ' ', 'had', ' ', 'to', ' ', 'let', ' ', 'ourselves', ' ', 'be', ' ', 'swept', ' ', 'along', ' ', 'or', ' ', 'go', ' ', 'under,', ' ', 'but', ' ', 'he', ' ', 'was', ' ', 'high', ' ', 'above', ' ', 'the', ' ', 'current--on', ' ', 'everlasting', ' ', 'foundations,', ' ', 'as', ' ', 'you', ' ', 'say.', '\\n', '', '\\n', '\"Well,', ' ', 'I', ' ', 'went', ' ', 'off', ' ', 'to', ' ', 'the', ' ', 'house', ' ', 'in', ' ', 'my', ' ', 'most', ' ', 'egregious', ' ', 'mood--rather', ' ', 'moved,', ' ', 'Lord', ' ', 'forgive', ' ', 'me,', ' ', 'at', ' ', 'the', ' ', 'pathos', ' ', 'of', ' ', 'poor', ' ', \"Stroud's\", ' ', 'career', ' ', 'of', ' ', 'failure', ' ', 'being', ' ', 'crowned', ' ', 'by', ' ', 'the', ' ', 'glory', ' ', 'of', ' ', 'my', ' ', 'painting', ' ', 'him!', ' ', 'Of', ' ', 'course', ' ', 'I', ' ', 'meant', ' ', 'to', ' ', 'do', ' ', 'the', ' ', 'picture', ' ', 'for', ' ', 'nothing--I', ' ', 'told', ' ', 'Mrs.', ' ', 'Stroud', ' ', 'so', ' ', 'when', ' ', 'she', ' ', 'began', ' ', 'to', ' ', 'stammer', ' ', 'something', ' ', 'about', ' ', 'her', ' ', 'poverty.', ' ', 'I', ' ', 'remember', ' ', 'getting', ' ', 'off', ' ', 'a', ' ', 'prodigious', ' ', 'phrase', ' ', 'about', ' ', 'the', ' ', 'honour', ' ', 'being', ' ', '_mine_--oh,', ' ', 'I', ' ', 'was', ' ', 'princely,', ' ', 'my', ' ', 'dear', ' ', 'Rickham!', ' ', 'I', ' ', 'was', ' ', 'posing', ' ', 'to', ' ', 'myself', ' ', 'like', ' ', 'one', ' ', 'of', ' ', 'my', ' ', 'own', ' ', 'sitters.', '\\n', '', '\\n', '\"Then', ' ', 'I', ' ', 'was', ' ', 'taken', ' ', 'up', ' ', 'and', ' ', 'left', ' ', 'alone', ' ', 'with', ' ', 'him.', ' ', 'I', ' ', 'had', ' ', 'sent', ' ', 'all', ' ', 'my', ' ', 'traps', ' ', 'in', ' ', 'advance,', ' ', 'and', ' ', 'I', ' ', 'had', ' ', 'only', ' ', 'to', ' ', 'set', ' ', 'up', ' ', 'the', ' ', 'easel', ' ', 'and', ' ', 'get', ' ', 'to', ' ', 'work.', ' ', 'He', ' ', 'had', ' ', 'been', ' ', 'dead', ' ', 'only', ' ', 'twenty-four', ' ', 'hours,', ' ', 'and', ' ', 'he', ' ', 'died', ' ', 'suddenly,', ' ', 'of', ' ', 'heart', ' ', 'disease,', ' ', 'so', ' ', 'that', ' ', 'there', ' ', 'had', ' ', 'been', ' ', 'no', ' ', 'preliminary', ' ', 'work', ' ', 'of', ' ', 'destruction--his', ' ', 'face', ' ', 'was', ' ', 'clear', ' ', 'and', ' ', 'untouched.', ' ', 'I', ' ', 'had', ' ', 'met', ' ', 'him', ' ', 'once', ' ', 'or', ' ', 'twice,', ' ', 'years', ' ', 'before,', ' ', 'and', ' ', 'thought', ' ', 'him', ' ', 'insignificant', ' ', 'and', ' ', 'dingy.', ' ', 'Now', ' ', 'I', ' ', 'saw', ' ', 'that', ' ', 'he', ' ', 'was', ' ', 'superb.', '\\n', '', '\\n', '\"I', ' ', 'was', ' ', 'glad', ' ', 'at', ' ', 'first,', ' ', 'with', ' ', 'a', ' ', 'merely', ' ', 'aesthetic', ' ', 'satisfaction:', ' ', 'glad', ' ', 'to', ' ', 'have', ' ', 'my', ' ', 'hand', ' ', 'on', ' ', 'such', ' ', 'a', ' ', \"'subject.'\", ' ', 'Then', ' ', 'his', ' ', 'strange', ' ', 'life-likeness', ' ', 'began', ' ', 'to', ' ', 'affect', ' ', 'me', ' ', 'queerly--as', ' ', 'I', ' ', 'blocked', ' ', 'the', ' ', 'head', ' ', 'in', ' ', 'I', ' ', 'felt', ' ', 'as', ' ', 'if', ' ', 'he', ' ', 'were', ' ', 'watching', ' ', 'me', ' ', 'do', ' ', 'it.', ' ', 'The', ' ', 'sensation', ' ', 'was', ' ', 'followed', ' ', 'by', ' ', 'the', ' ', 'thought:', ' ', 'if', ' ', 'he', ' ', '_were_', ' ', 'watching', ' ', 'me,', ' ', 'what', ' ', 'would', ' ', 'he', ' ', 'say', ' ', 'to', ' ', 'my', ' ', 'way', ' ', 'of', ' ', 'working?', ' ', 'My', ' ', 'strokes', ' ', 'began', ' ', 'to', ' ', 'go', ' ', 'a', ' ', 'little', ' ', 'wild--I', ' ', 'felt', ' ', 'nervous', ' ', 'and', ' ', 'uncertain.', '\\n', '', '\\n', '\"Once,', ' ', 'when', ' ', 'I', ' ', 'looked', ' ', 'up,', ' ', 'I', ' ', 'seemed', ' ', 'to', ' ', 'see', ' ', 'a', ' ', 'smile', ' ', 'behind', ' ', 'his', ' ', 'close', ' ', 'grayish', ' ', 'beard--as', ' ', 'if', ' ', 'he', ' ', 'had', ' ', 'the', ' ', 'secret,', ' ', 'and', ' ', 'were', ' ', 'amusing', ' ', 'himself', ' ', 'by', ' ', 'holding', ' ', 'it', ' ', 'back', ' ', 'from', ' ', 'me.', ' ', 'That', ' ', 'exasperated', ' ', 'me', ' ', 'still', ' ', 'more.', ' ', 'The', ' ', 'secret?', ' ', 'Why,', ' ', 'I', ' ', 'had', ' ', 'a', ' ', 'secret', ' ', 'worth', ' ', 'twenty', ' ', 'of', ' ', 'his!', ' ', 'I', ' ', 'dashed', ' ', 'at', ' ', 'the', ' ', 'canvas', ' ', 'furiously,', ' ', 'and', ' ', 'tried', ' ', 'some', ' ', 'of', ' ', 'my', ' ', 'bravura', ' ', 'tricks.', ' ', 'But', ' ', 'they', ' ', 'failed', ' ', 'me,', ' ', 'they', ' ', 'crumbled.', ' ', 'I', ' ', 'saw', ' ', 'that', ' ', 'he', ' ', \"wasn't\", ' ', 'watching', ' ', 'the', ' ', 'showy', ' ', 'bits--I', ' ', \"couldn't\", ' ', 'distract', ' ', 'his', ' ', 'attention;', ' ', 'he', ' ', 'just', ' ', 'kept', ' ', 'his', ' ', 'eyes', ' ', 'on', ' ', 'the', ' ', 'hard', ' ', 'passages', ' ', 'between.', ' ', 'Those', ' ', 'were', ' ', 'the', ' ', 'ones', ' ', 'I', ' ', 'had', ' ', 'always', ' ', 'shirked,', ' ', 'or', ' ', 'covered', ' ', 'up', ' ', 'with', ' ', 'some', ' ', 'lying', ' ', 'paint.', ' ', 'And', ' ', 'how', ' ', 'he', ' ', 'saw', ' ', 'through', ' ', 'my', ' ', 'lies!', '\\n', '', '\\n', '\"I', ' ', 'looked', ' ', 'up', ' ', 'again,', ' ', 'and', ' ', 'caught', ' ', 'sight', ' ', 'of', ' ', 'that', ' ', 'sketch', ' ', 'of', ' ', 'the', ' ', 'donkey', ' ', 'hanging', ' ', 'on', ' ', 'the', ' ', 'wall', ' ', 'near', ' ', 'his', ' ', 'bed.', ' ', 'His', ' ', 'wife', ' ', 'told', ' ', 'me', ' ', 'afterward', ' ', 'it', ' ', 'was', ' ', 'the', ' ', 'last', ' ', 'thing', ' ', 'he', ' ', 'had', ' ', 'done--just', ' ', 'a', ' ', 'note', ' ', 'taken', ' ', 'with', ' ', 'a', ' ', 'shaking', ' ', 'hand,', ' ', 'when', ' ', 'he', ' ', 'was', ' ', 'down', ' ', 'in', ' ', 'Devonshire', ' ', 'recovering', ' ', 'from', ' ', 'a', ' ', 'previous', ' ', 'heart', ' ', 'attack.', ' ', 'Just', ' ', 'a', ' ', 'note!', ' ', 'But', ' ', 'it', ' ', 'tells', ' ', 'his', ' ', 'whole', ' ', 'history.', ' ', 'There', ' ', 'are', ' ', 'years', ' ', 'of', ' ', 'patient', ' ', 'scornful', ' ', 'persistence', ' ', 'in', ' ', 'every', ' ', 'line.', ' ', 'A', ' ', 'man', ' ', 'who', ' ', 'had', ' ', 'swum', ' ', 'with', ' ', 'the', ' ', 'current', ' ', 'could', ' ', 'never', ' ', 'have', ' ', 'learned', ' ', 'that', ' ', 'mighty', ' ', 'up-stream', ' ', 'stroke.', ' ', '.', ' ', '.', ' ', '.', '\\n', '', '\\n', '\"I', ' ', 'turned', ' ', 'back', ' ', 'to', ' ', 'my', ' ', 'work,', ' ', 'and', ' ', 'went', ' ', 'on', ' ', 'groping', ' ', 'and', ' ', 'muddling;', ' ', 'then', ' ', 'I', ' ', 'looked', ' ', 'at', ' ', 'the', ' ', 'donkey', ' ', 'again.', ' ', 'I', ' ', 'saw', ' ', 'that,', ' ', 'when', ' ', 'Stroud', ' ', 'laid', ' ', 'in', ' ', 'the', ' ', 'first', ' ', 'stroke,', ' ', 'he', ' ', 'knew', ' ', 'just', ' ', 'what', ' ', 'the', ' ', 'end', ' ', 'would', ' ', 'be.', ' ', 'He', ' ', 'had', ' ', 'possessed', ' ', 'his', ' ', 'subject,', ' ', 'absorbed', ' ', 'it,', ' ', 'recreated', ' ', 'it.', ' ', 'When', ' ', 'had', ' ', 'I', ' ', 'done', ' ', 'that', ' ', 'with', ' ', 'any', ' ', 'of', ' ', 'my', ' ', 'things?', ' ', 'They', ' ', \"hadn't\", ' ', 'been', ' ', 'born', ' ', 'of', ' ', 'me--I', ' ', 'had', ' ', 'just', ' ', 'adopted', ' ', 'them.', ' ', '.', ' ', '.', ' ', '.', '\\n', '', '\\n', '\"Hang', ' ', 'it,', ' ', 'Rickham,', ' ', 'with', ' ', 'that', ' ', 'face', ' ', 'watching', ' ', 'me', ' ', 'I', ' ', \"couldn't\", ' ', 'do', ' ', 'another', ' ', 'stroke.', ' ', 'The', ' ', 'plain', ' ', 'truth', ' ', 'was,', ' ', 'I', ' ', \"didn't\", ' ', 'know', ' ', 'where', ' ', 'to', ' ', 'put', ' ', 'it--_I', ' ', 'had', ' ', 'never', ' ', 'known_.', ' ', 'Only,', ' ', 'with', ' ', 'my', ' ', 'sitters', ' ', 'and', ' ', 'my', ' ', 'public,', ' ', 'a', ' ', 'showy', ' ', 'splash', ' ', 'of', ' ', 'colour', ' ', 'covered', ' ', 'up', ' ', 'the', ' ', 'fact--I', ' ', 'just', ' ', 'threw', ' ', 'paint', ' ', 'into', ' ', 'their', ' ', 'faces.', ' ', '.', ' ', '.', ' ', '.', ' ', 'Well,', ' ', 'paint', ' ', 'was', ' ', 'the', ' ', 'one', ' ', 'medium', ' ', 'those', ' ', 'dead', ' ', 'eyes', ' ', 'could', ' ', 'see', ' ', 'through--see', ' ', 'straight', ' ', 'to', ' ', 'the', ' ', 'tottering', ' ', 'foundations', ' ', 'underneath.', ' ', \"Don't\", ' ', 'you', ' ', 'know', ' ', 'how,', ' ', 'in', ' ', 'talking', ' ', 'a', ' ', 'foreign', ' ', 'language,', ' ', 'even', ' ', 'fluently,', ' ', 'one', ' ', 'says', ' ', 'half', ' ', 'the', ' ', 'time', ' ', 'not', ' ', 'what', ' ', 'one', ' ', 'wants', ' ', 'to', ' ', 'but', ' ', 'what', ' ', 'one', ' ', 'can?', ' ', 'Well--that', ' ', 'was', ' ', 'the', ' ', 'way', ' ', 'I', ' ', 'painted;', ' ', 'and', ' ', 'as', ' ', 'he', ' ', 'lay', ' ', 'there', ' ', 'and', ' ', 'watched', ' ', 'me,', ' ', 'the', ' ', 'thing', ' ', 'they', ' ', 'called', ' ', 'my', ' ', \"'technique'\", ' ', 'collapsed', ' ', 'like', ' ', 'a', ' ', 'house', ' ', 'of', ' ', 'cards.', ' ', 'He', ' ', \"didn't\", ' ', 'sneer,', ' ', 'you', ' ', 'understand,', ' ', 'poor', ' ', 'Stroud--he', ' ', 'just', ' ', 'lay', ' ', 'there', ' ', 'quietly', ' ', 'watching,', ' ', 'and', ' ', 'on', ' ', 'his', ' ', 'lips,', ' ', 'through', ' ', 'the', ' ', 'gray', ' ', 'beard,', ' ', 'I', ' ', 'seemed', ' ', 'to', ' ', 'hear', ' ', 'the', ' ', 'question:', ' ', \"'Are\", ' ', 'you', ' ', 'sure', ' ', 'you', ' ', 'know', ' ', 'where', ' ', \"you're\", ' ', 'coming', ' ', \"out?'\", '\\n', '', '\\n', '\"If', ' ', 'I', ' ', 'could', ' ', 'have', ' ', 'painted', ' ', 'that', ' ', 'face,', ' ', 'with', ' ', 'that', ' ', 'question', ' ', 'on', ' ', 'it,', ' ', 'I', ' ', 'should', ' ', 'have', ' ', 'done', ' ', 'a', ' ', 'great', ' ', 'thing.', ' ', 'The', ' ', 'next', ' ', 'greatest', ' ', 'thing', ' ', 'was', ' ', 'to', ' ', 'see', ' ', 'that', ' ', 'I', ' ', \"couldn't--and\", ' ', 'that', ' ', 'grace', ' ', 'was', ' ', 'given', ' ', 'me.', ' ', 'But,', ' ', 'oh,', ' ', 'at', ' ', 'that', ' ', 'minute,', ' ', 'Rickham,', ' ', 'was', ' ', 'there', ' ', 'anything', ' ', 'on', ' ', 'earth', ' ', 'I', ' ', \"wouldn't\", ' ', 'have', ' ', 'given', ' ', 'to', ' ', 'have', ' ', 'Stroud', ' ', 'alive', ' ', 'before', ' ', 'me,', ' ', 'and', ' ', 'to', ' ', 'hear', ' ', 'him', ' ', 'say:', ' ', \"'It's\", ' ', 'not', ' ', 'too', ' ', \"late--I'll\", ' ', 'show', ' ', 'you', ' ', \"how'?\", '\\n', '', '\\n', '\"It', ' ', '_was_', ' ', 'too', ' ', 'late--it', ' ', 'would', ' ', 'have', ' ', 'been,', ' ', 'even', ' ', 'if', ' ', \"he'd\", ' ', 'been', ' ', 'alive.', ' ', 'I', ' ', 'packed', ' ', 'up', ' ', 'my', ' ', 'traps,', ' ', 'and', ' ', 'went', ' ', 'down', ' ', 'and', ' ', 'told', ' ', 'Mrs.', ' ', 'Stroud.', ' ', 'Of', ' ', 'course', ' ', 'I', ' ', \"didn't\", ' ', 'tell', ' ', 'her', ' ', '_that_--it', ' ', 'would', ' ', 'have', ' ', 'been', ' ', 'Greek', ' ', 'to', ' ', 'her.', ' ', 'I', ' ', 'simply', ' ', 'said', ' ', 'I', ' ', \"couldn't\", ' ', 'paint', ' ', 'him,', ' ', 'that', ' ', 'I', ' ', 'was', ' ', 'too', ' ', 'moved.', ' ', 'She', ' ', 'rather', ' ', 'liked', ' ', 'the', ' ', \"idea--she's\", ' ', 'so', ' ', 'romantic!', ' ', 'It', ' ', 'was', ' ', 'that', ' ', 'that', ' ', 'made', ' ', 'her', ' ', 'give', ' ', 'me', ' ', 'the', ' ', 'donkey.', ' ', 'But', ' ', 'she', ' ', 'was', ' ', 'terribly', ' ', 'upset', ' ', 'at', ' ', 'not', ' ', 'getting', ' ', 'the', ' ', 'portrait--she', ' ', 'did', ' ', 'so', ' ', 'want', ' ', 'him', ' ', \"'done'\", ' ', 'by', ' ', 'some', ' ', 'one', ' ', 'showy!', ' ', 'At', ' ', 'first', ' ', 'I', ' ', 'was', ' ', 'afraid', ' ', 'she', ' ', \"wouldn't\", ' ', 'let', ' ', 'me', ' ', 'off--and', ' ', 'at', ' ', 'my', ' ', \"wits'\", ' ', 'end', ' ', 'I', ' ', 'suggested', ' ', 'Grindle.', ' ', 'Yes,', ' ', 'it', ' ', 'was', ' ', 'I', ' ', 'who', ' ', 'started', ' ', 'Grindle:', ' ', 'I', ' ', 'told', ' ', 'Mrs.', ' ', 'Stroud', ' ', 'he', ' ', 'was', ' ', 'the', ' ', \"'coming'\", ' ', 'man,', ' ', 'and', ' ', 'she', ' ', 'told', ' ', 'somebody', ' ', 'else,', ' ', 'and', ' ', 'so', ' ', 'it', ' ', 'got', ' ', 'to', ' ', 'be', ' ', 'true.', ' ', '.', ' ', '.', ' ', '.', ' ', 'And', ' ', 'he', ' ', 'painted', ' ', 'Stroud', ' ', 'without', ' ', 'wincing;', ' ', 'and', ' ', 'she', ' ', 'hung', ' ', 'the', ' ', 'picture', ' ', 'among', ' ', 'her', ' ', \"husband's\", ' ', 'things.', ' ', '.', ' ', '.', ' ', '.\"', '\\n', '', '\\n', 'He', ' ', 'flung', ' ', 'himself', ' ', 'down', ' ', 'in', ' ', 'the', ' ', 'arm-chair', ' ', 'near', ' ', 'mine,', ' ', 'laid', ' ', 'back', ' ', 'his', ' ', 'head,', ' ', 'and', ' ', 'clasping', ' ', 'his', ' ', 'arms', ' ', 'beneath', ' ', 'it,', ' ', 'looked', ' ', 'up', ' ', 'at', ' ', 'the', ' ', 'picture', ' ', 'above', ' ', 'the', ' ', 'chimney-piece.', '\\n', '', '\\n', '\"I', ' ', 'like', ' ', 'to', ' ', 'fancy', ' ', 'that', ' ', 'Stroud', ' ', 'himself', ' ', 'would', ' ', 'have', ' ', 'given', ' ', 'it', ' ', 'to', ' ', 'me,', ' ', 'if', ' ', \"he'd\", ' ', 'been', ' ', 'able', ' ', 'to', ' ', 'say', ' ', 'what', ' ', 'he', ' ', 'thought', ' ', 'that', ' ', 'day.\"', '\\n', '', '\\n', 'And,', ' ', 'in', ' ', 'answer', ' ', 'to', ' ', 'a', ' ', 'question', ' ', 'I', ' ', 'put', ' ', 'half-mechanically--\"Begin', ' ', 'again?\"', ' ', 'he', ' ', 'flashed', ' ', 'out.', ' ', '\"When', ' ', 'the', ' ', 'one', ' ', 'thing', ' ', 'that', ' ', 'brings', ' ', 'me', ' ', 'anywhere', ' ', 'near', ' ', 'him', ' ', 'is', ' ', 'that', ' ', 'I', ' ', 'knew', ' ', 'enough', ' ', 'to', ' ', 'leave', ' ', 'off?\"', '\\n', '', '\\n', 'He', ' ', 'stood', ' ', 'up', ' ', 'and', ' ', 'laid', ' ', 'his', ' ', 'hand', ' ', 'on', ' ', 'my', ' ', 'shoulder', ' ', 'with', ' ', 'a', ' ', 'laugh.', ' ', '\"Only', ' ', 'the', ' ', 'irony', ' ', 'of', ' ', 'it', ' ', 'is', ' ', 'that', ' ', 'I', ' ', '_am_', ' ', 'still', ' ', 'painting--since', ' ', \"Grindle's\", ' ', 'doing', ' ', 'it', ' ', 'for', ' ', 'me!', ' ', 'The', ' ', 'Strouds', ' ', 'stand', ' ', 'alone,', ' ', 'and', ' ', 'happen', ' ', 'once--but', ' ', \"there's\", ' ', 'no', ' ', 'exterminating', ' ', 'our', ' ', 'kind', ' ', 'of', ' ', 'art.\"']\n"
     ]
    }
   ],
   "execution_count": 8
  },
  {
   "metadata": {
    "ExecuteTime": {
     "end_time": "2025-04-15T06:20:59.059319Z",
     "start_time": "2025-04-15T06:20:59.050806Z"
    }
   },
   "cell_type": "code",
   "source": [
    "raw_text_split_2 = re.split(r'([,.]|\\s)', raw_text)\n",
    "\n",
    "print(len(raw_text_split_2))\n",
    "\n",
    "print(raw_text_split_2)"
   ],
   "id": "11f30199a0cb67fd",
   "outputs": [
    {
     "name": "stdout",
     "output_type": "stream",
     "text": [
      "8313\n",
      "['I', ' ', 'HAD', ' ', 'always', ' ', 'thought', ' ', 'Jack', ' ', 'Gisburn', ' ', 'rather', ' ', 'a', ' ', 'cheap', ' ', 'genius--though', ' ', 'a', ' ', 'good', ' ', 'fellow', ' ', 'enough--so', ' ', 'it', ' ', 'was', ' ', 'no', ' ', 'great', ' ', 'surprise', ' ', 'to', ' ', 'me', ' ', 'to', ' ', 'hear', ' ', 'that', ',', '', ' ', 'in', ' ', 'the', ' ', 'height', ' ', 'of', ' ', 'his', ' ', 'glory', ',', '', ' ', 'he', ' ', 'had', ' ', 'dropped', ' ', 'his', ' ', 'painting', ',', '', ' ', 'married', ' ', 'a', ' ', 'rich', ' ', 'widow', ',', '', ' ', 'and', ' ', 'established', ' ', 'himself', ' ', 'in', ' ', 'a', ' ', 'villa', ' ', 'on', ' ', 'the', ' ', 'Riviera', '.', '', ' ', '(Though', ' ', 'I', ' ', 'rather', ' ', 'thought', ' ', 'it', ' ', 'would', ' ', 'have', ' ', 'been', ' ', 'Rome', ' ', 'or', ' ', 'Florence', '.', ')', '\\n', '', '\\n', '\"The', ' ', 'height', ' ', 'of', ' ', 'his', ' ', 'glory\"--that', ' ', 'was', ' ', 'what', ' ', 'the', ' ', 'women', ' ', 'called', ' ', 'it', '.', '', ' ', 'I', ' ', 'can', ' ', 'hear', ' ', 'Mrs', '.', '', ' ', 'Gideon', ' ', 'Thwing--his', ' ', 'last', ' ', 'Chicago', ' ', 'sitter--deploring', ' ', 'his', ' ', 'unaccountable', ' ', 'abdication', '.', '', ' ', '\"Of', ' ', 'course', ' ', \"it's\", ' ', 'going', ' ', 'to', ' ', 'send', ' ', 'the', ' ', 'value', ' ', 'of', ' ', 'my', ' ', 'picture', ' ', \"'way\", ' ', 'up;', ' ', 'but', ' ', 'I', ' ', \"don't\", ' ', 'think', ' ', 'of', ' ', 'that', ',', '', ' ', 'Mr', '.', '', ' ', 'Rickham--the', ' ', 'loss', ' ', 'to', ' ', 'Arrt', ' ', 'is', ' ', 'all', ' ', 'I', ' ', 'think', ' ', 'of', '.', '\"', ' ', 'The', ' ', 'word', ',', '', ' ', 'on', ' ', 'Mrs', '.', '', ' ', \"Thwing's\", ' ', 'lips', ',', '', ' ', 'multiplied', ' ', 'its', ' ', '_rs_', ' ', 'as', ' ', 'though', ' ', 'they', ' ', 'were', ' ', 'reflected', ' ', 'in', ' ', 'an', ' ', 'endless', ' ', 'vista', ' ', 'of', ' ', 'mirrors', '.', '', ' ', 'And', ' ', 'it', ' ', 'was', ' ', 'not', ' ', 'only', ' ', 'the', ' ', 'Mrs', '.', '', ' ', 'Thwings', ' ', 'who', ' ', 'mourned', '.', '', ' ', 'Had', ' ', 'not', ' ', 'the', ' ', 'exquisite', ' ', 'Hermia', ' ', 'Croft', ',', '', ' ', 'at', ' ', 'the', ' ', 'last', ' ', 'Grafton', ' ', 'Gallery', ' ', 'show', ',', '', ' ', 'stopped', ' ', 'me', ' ', 'before', ' ', \"Gisburn's\", ' ', '\"Moon-dancers\"', ' ', 'to', ' ', 'say', ',', '', ' ', 'with', ' ', 'tears', ' ', 'in', ' ', 'her', ' ', 'eyes:', ' ', '\"We', ' ', 'shall', ' ', 'not', ' ', 'look', ' ', 'upon', ' ', 'its', ' ', 'like', ' ', 'again\"?', '\\n', '', '\\n', 'Well!--even', ' ', 'through', ' ', 'the', ' ', 'prism', ' ', 'of', ' ', \"Hermia's\", ' ', 'tears', ' ', 'I', ' ', 'felt', ' ', 'able', ' ', 'to', ' ', 'face', ' ', 'the', ' ', 'fact', ' ', 'with', ' ', 'equanimity', '.', '', ' ', 'Poor', ' ', 'Jack', ' ', 'Gisburn!', ' ', 'The', ' ', 'women', ' ', 'had', ' ', 'made', ' ', 'him--it', ' ', 'was', ' ', 'fitting', ' ', 'that', ' ', 'they', ' ', 'should', ' ', 'mourn', ' ', 'him', '.', '', ' ', 'Among', ' ', 'his', ' ', 'own', ' ', 'sex', ' ', 'fewer', ' ', 'regrets', ' ', 'were', ' ', 'heard', ',', '', ' ', 'and', ' ', 'in', ' ', 'his', ' ', 'own', ' ', 'trade', ' ', 'hardly', ' ', 'a', ' ', 'murmur', '.', '', ' ', 'Professional', ' ', 'jealousy?', ' ', 'Perhaps', '.', '', ' ', 'If', ' ', 'it', ' ', 'were', ',', '', ' ', 'the', ' ', 'honour', ' ', 'of', ' ', 'the', ' ', 'craft', ' ', 'was', ' ', 'vindicated', ' ', 'by', ' ', 'little', ' ', 'Claude', ' ', 'Nutley', ',', '', ' ', 'who', ',', '', ' ', 'in', ' ', 'all', ' ', 'good', ' ', 'faith', ',', '', ' ', 'brought', ' ', 'out', ' ', 'in', ' ', 'the', ' ', 'Burlington', ' ', 'a', ' ', 'very', ' ', 'handsome', ' ', '\"obituary\"', ' ', 'on', ' ', 'Jack--one', ' ', 'of', ' ', 'those', ' ', 'showy', ' ', 'articles', ' ', 'stocked', ' ', 'with', ' ', 'random', ' ', 'technicalities', ' ', 'that', ' ', 'I', ' ', 'have', ' ', 'heard', ' ', '(I', ' ', \"won't\", ' ', 'say', ' ', 'by', ' ', 'whom)', ' ', 'compared', ' ', 'to', ' ', \"Gisburn's\", ' ', 'painting', '.', '', ' ', 'And', ' ', 'so--his', ' ', 'resolve', ' ', 'being', ' ', 'apparently', ' ', 'irrevocable--the', ' ', 'discussion', ' ', 'gradually', ' ', 'died', ' ', 'out', ',', '', ' ', 'and', ',', '', ' ', 'as', ' ', 'Mrs', '.', '', ' ', 'Thwing', ' ', 'had', ' ', 'predicted', ',', '', ' ', 'the', ' ', 'price', ' ', 'of', ' ', '\"Gisburns\"', ' ', 'went', ' ', 'up', '.', '', '\\n', '', '\\n', 'It', ' ', 'was', ' ', 'not', ' ', 'till', ' ', 'three', ' ', 'years', ' ', 'later', ' ', 'that', ',', '', ' ', 'in', ' ', 'the', ' ', 'course', ' ', 'of', ' ', 'a', ' ', 'few', ' ', \"weeks'\", ' ', 'idling', ' ', 'on', ' ', 'the', ' ', 'Riviera', ',', '', ' ', 'it', ' ', 'suddenly', ' ', 'occurred', ' ', 'to', ' ', 'me', ' ', 'to', ' ', 'wonder', ' ', 'why', ' ', 'Gisburn', ' ', 'had', ' ', 'given', ' ', 'up', ' ', 'his', ' ', 'painting', '.', '', ' ', 'On', ' ', 'reflection', ',', '', ' ', 'it', ' ', 'really', ' ', 'was', ' ', 'a', ' ', 'tempting', ' ', 'problem', '.', '', ' ', 'To', ' ', 'accuse', ' ', 'his', ' ', 'wife', ' ', 'would', ' ', 'have', ' ', 'been', ' ', 'too', ' ', 'easy--his', ' ', 'fair', ' ', 'sitters', ' ', 'had', ' ', 'been', ' ', 'denied', ' ', 'the', ' ', 'solace', ' ', 'of', ' ', 'saying', ' ', 'that', ' ', 'Mrs', '.', '', ' ', 'Gisburn', ' ', 'had', ' ', '\"dragged', ' ', 'him', ' ', 'down', '.', '\"', ' ', 'For', ' ', 'Mrs', '.', '', ' ', 'Gisburn--as', ' ', 'such--had', ' ', 'not', ' ', 'existed', ' ', 'till', ' ', 'nearly', ' ', 'a', ' ', 'year', ' ', 'after', ' ', \"Jack's\", ' ', 'resolve', ' ', 'had', ' ', 'been', ' ', 'taken', '.', '', ' ', 'It', ' ', 'might', ' ', 'be', ' ', 'that', ' ', 'he', ' ', 'had', ' ', 'married', ' ', 'her--since', ' ', 'he', ' ', 'liked', ' ', 'his', ' ', 'ease--because', ' ', 'he', ' ', \"didn't\", ' ', 'want', ' ', 'to', ' ', 'go', ' ', 'on', ' ', 'painting;', ' ', 'but', ' ', 'it', ' ', 'would', ' ', 'have', ' ', 'been', ' ', 'hard', ' ', 'to', ' ', 'prove', ' ', 'that', ' ', 'he', ' ', 'had', ' ', 'given', ' ', 'up', ' ', 'his', ' ', 'painting', ' ', 'because', ' ', 'he', ' ', 'had', ' ', 'married', ' ', 'her', '.', '', '\\n', '', '\\n', 'Of', ' ', 'course', ',', '', ' ', 'if', ' ', 'she', ' ', 'had', ' ', 'not', ' ', 'dragged', ' ', 'him', ' ', 'down', ',', '', ' ', 'she', ' ', 'had', ' ', 'equally', ',', '', ' ', 'as', ' ', 'Miss', ' ', 'Croft', ' ', 'contended', ',', '', ' ', 'failed', ' ', 'to', ' ', '\"lift', ' ', 'him', ' ', 'up\"--she', ' ', 'had', ' ', 'not', ' ', 'led', ' ', 'him', ' ', 'back', ' ', 'to', ' ', 'the', ' ', 'easel', '.', '', ' ', 'To', ' ', 'put', ' ', 'the', ' ', 'brush', ' ', 'into', ' ', 'his', ' ', 'hand', ' ', 'again--what', ' ', 'a', ' ', 'vocation', ' ', 'for', ' ', 'a', ' ', 'wife!', ' ', 'But', ' ', 'Mrs', '.', '', ' ', 'Gisburn', ' ', 'appeared', ' ', 'to', ' ', 'have', ' ', 'disdained', ' ', 'it--and', ' ', 'I', ' ', 'felt', ' ', 'it', ' ', 'might', ' ', 'be', ' ', 'interesting', ' ', 'to', ' ', 'find', ' ', 'out', ' ', 'why', '.', '', '\\n', '', '\\n', 'The', ' ', 'desultory', ' ', 'life', ' ', 'of', ' ', 'the', ' ', 'Riviera', ' ', 'lends', ' ', 'itself', ' ', 'to', ' ', 'such', ' ', 'purely', ' ', 'academic', ' ', 'speculations;', ' ', 'and', ' ', 'having', ',', '', ' ', 'on', ' ', 'my', ' ', 'way', ' ', 'to', ' ', 'Monte', ' ', 'Carlo', ',', '', ' ', 'caught', ' ', 'a', ' ', 'glimpse', ' ', 'of', ' ', \"Jack's\", ' ', 'balustraded', ' ', 'terraces', ' ', 'between', ' ', 'the', ' ', 'pines', ',', '', ' ', 'I', ' ', 'had', ' ', 'myself', ' ', 'borne', ' ', 'thither', ' ', 'the', ' ', 'next', ' ', 'day', '.', '', '\\n', '', '\\n', 'I', ' ', 'found', ' ', 'the', ' ', 'couple', ' ', 'at', ' ', 'tea', ' ', 'beneath', ' ', 'their', ' ', 'palm-trees;', ' ', 'and', ' ', 'Mrs', '.', '', ' ', \"Gisburn's\", ' ', 'welcome', ' ', 'was', ' ', 'so', ' ', 'genial', ' ', 'that', ',', '', ' ', 'in', ' ', 'the', ' ', 'ensuing', ' ', 'weeks', ',', '', ' ', 'I', ' ', 'claimed', ' ', 'it', ' ', 'frequently', '.', '', ' ', 'It', ' ', 'was', ' ', 'not', ' ', 'that', ' ', 'my', ' ', 'hostess', ' ', 'was', ' ', '\"interesting\":', ' ', 'on', ' ', 'that', ' ', 'point', ' ', 'I', ' ', 'could', ' ', 'have', ' ', 'given', ' ', 'Miss', ' ', 'Croft', ' ', 'the', ' ', 'fullest', ' ', 'reassurance', '.', '', ' ', 'It', ' ', 'was', ' ', 'just', ' ', 'because', ' ', 'she', ' ', 'was', ' ', '_not_', ' ', 'interesting--if', ' ', 'I', ' ', 'may', ' ', 'be', ' ', 'pardoned', ' ', 'the', ' ', 'bull--that', ' ', 'I', ' ', 'found', ' ', 'her', ' ', 'so', '.', '', ' ', 'For', ' ', 'Jack', ',', '', ' ', 'all', ' ', 'his', ' ', 'life', ',', '', ' ', 'had', ' ', 'been', ' ', 'surrounded', ' ', 'by', ' ', 'interesting', ' ', 'women:', ' ', 'they', ' ', 'had', ' ', 'fostered', ' ', 'his', ' ', 'art', ',', '', ' ', 'it', ' ', 'had', ' ', 'been', ' ', 'reared', ' ', 'in', ' ', 'the', ' ', 'hot-house', ' ', 'of', ' ', 'their', ' ', 'adulation', '.', '', ' ', 'And', ' ', 'it', ' ', 'was', ' ', 'therefore', ' ', 'instructive', ' ', 'to', ' ', 'note', ' ', 'what', ' ', 'effect', ' ', 'the', ' ', '\"deadening', ' ', 'atmosphere', ' ', 'of', ' ', 'mediocrity\"', ' ', '(I', ' ', 'quote', ' ', 'Miss', ' ', 'Croft)', ' ', 'was', ' ', 'having', ' ', 'on', ' ', 'him', '.', '', '\\n', '', '\\n', 'I', ' ', 'have', ' ', 'mentioned', ' ', 'that', ' ', 'Mrs', '.', '', ' ', 'Gisburn', ' ', 'was', ' ', 'rich;', ' ', 'and', ' ', 'it', ' ', 'was', ' ', 'immediately', ' ', 'perceptible', ' ', 'that', ' ', 'her', ' ', 'husband', ' ', 'was', ' ', 'extracting', ' ', 'from', ' ', 'this', ' ', 'circumstance', ' ', 'a', ' ', 'delicate', ' ', 'but', ' ', 'substantial', ' ', 'satisfaction', '.', '', ' ', 'It', ' ', 'is', ',', '', ' ', 'as', ' ', 'a', ' ', 'rule', ',', '', ' ', 'the', ' ', 'people', ' ', 'who', ' ', 'scorn', ' ', 'money', ' ', 'who', ' ', 'get', ' ', 'most', ' ', 'out', ' ', 'of', ' ', 'it;', ' ', 'and', ' ', \"Jack's\", ' ', 'elegant', ' ', 'disdain', ' ', 'of', ' ', 'his', ' ', \"wife's\", ' ', 'big', ' ', 'balance', ' ', 'enabled', ' ', 'him', ',', '', ' ', 'with', ' ', 'an', ' ', 'appearance', ' ', 'of', ' ', 'perfect', ' ', 'good-breeding', ',', '', ' ', 'to', ' ', 'transmute', ' ', 'it', ' ', 'into', ' ', 'objects', ' ', 'of', ' ', 'art', ' ', 'and', ' ', 'luxury', '.', '', ' ', 'To', ' ', 'the', ' ', 'latter', ',', '', ' ', 'I', ' ', 'must', ' ', 'add', ',', '', ' ', 'he', ' ', 'remained', ' ', 'relatively', ' ', 'indifferent;', ' ', 'but', ' ', 'he', ' ', 'was', ' ', 'buying', ' ', 'Renaissance', ' ', 'bronzes', ' ', 'and', ' ', 'eighteenth-century', ' ', 'pictures', ' ', 'with', ' ', 'a', ' ', 'discrimination', ' ', 'that', ' ', 'bespoke', ' ', 'the', ' ', 'amplest', ' ', 'resources', '.', '', '\\n', '', '\\n', '\"Money\\'s', ' ', 'only', ' ', 'excuse', ' ', 'is', ' ', 'to', ' ', 'put', ' ', 'beauty', ' ', 'into', ' ', 'circulation', ',', '\"', ' ', 'was', ' ', 'one', ' ', 'of', ' ', 'the', ' ', 'axioms', ' ', 'he', ' ', 'laid', ' ', 'down', ' ', 'across', ' ', 'the', ' ', 'Sevres', ' ', 'and', ' ', 'silver', ' ', 'of', ' ', 'an', ' ', 'exquisitely', ' ', 'appointed', ' ', 'luncheon-table', ',', '', ' ', 'when', ',', '', ' ', 'on', ' ', 'a', ' ', 'later', ' ', 'day', ',', '', ' ', 'I', ' ', 'had', ' ', 'again', ' ', 'run', ' ', 'over', ' ', 'from', ' ', 'Monte', ' ', 'Carlo;', ' ', 'and', ' ', 'Mrs', '.', '', ' ', 'Gisburn', ',', '', ' ', 'beaming', ' ', 'on', ' ', 'him', ',', '', ' ', 'added', ' ', 'for', ' ', 'my', ' ', 'enlightenment:', ' ', '\"Jack', ' ', 'is', ' ', 'so', ' ', 'morbidly', ' ', 'sensitive', ' ', 'to', ' ', 'every', ' ', 'form', ' ', 'of', ' ', 'beauty', '.', '\"', '\\n', '', '\\n', 'Poor', ' ', 'Jack!', ' ', 'It', ' ', 'had', ' ', 'always', ' ', 'been', ' ', 'his', ' ', 'fate', ' ', 'to', ' ', 'have', ' ', 'women', ' ', 'say', ' ', 'such', ' ', 'things', ' ', 'of', ' ', 'him:', ' ', 'the', ' ', 'fact', ' ', 'should', ' ', 'be', ' ', 'set', ' ', 'down', ' ', 'in', ' ', 'extenuation', '.', '', ' ', 'What', ' ', 'struck', ' ', 'me', ' ', 'now', ' ', 'was', ' ', 'that', ',', '', ' ', 'for', ' ', 'the', ' ', 'first', ' ', 'time', ',', '', ' ', 'he', ' ', 'resented', ' ', 'the', ' ', 'tone', '.', '', ' ', 'I', ' ', 'had', ' ', 'seen', ' ', 'him', ',', '', ' ', 'so', ' ', 'often', ',', '', ' ', 'basking', ' ', 'under', ' ', 'similar', ' ', 'tributes--was', ' ', 'it', ' ', 'the', ' ', 'conjugal', ' ', 'note', ' ', 'that', ' ', 'robbed', ' ', 'them', ' ', 'of', ' ', 'their', ' ', 'savour?', ' ', 'No--for', ',', '', ' ', 'oddly', ' ', 'enough', ',', '', ' ', 'it', ' ', 'became', ' ', 'apparent', ' ', 'that', ' ', 'he', ' ', 'was', ' ', 'fond', ' ', 'of', ' ', 'Mrs', '.', '', ' ', 'Gisburn--fond', ' ', 'enough', ' ', 'not', ' ', 'to', ' ', 'see', ' ', 'her', ' ', 'absurdity', '.', '', ' ', 'It', ' ', 'was', ' ', 'his', ' ', 'own', ' ', 'absurdity', ' ', 'he', ' ', 'seemed', ' ', 'to', ' ', 'be', ' ', 'wincing', ' ', 'under--his', ' ', 'own', ' ', 'attitude', ' ', 'as', ' ', 'an', ' ', 'object', ' ', 'for', ' ', 'garlands', ' ', 'and', ' ', 'incense', '.', '', '\\n', '', '\\n', '\"My', ' ', 'dear', ',', '', ' ', 'since', ' ', \"I've\", ' ', 'chucked', ' ', 'painting', ' ', 'people', ' ', \"don't\", ' ', 'say', ' ', 'that', ' ', 'stuff', ' ', 'about', ' ', 'me--they', ' ', 'say', ' ', 'it', ' ', 'about', ' ', 'Victor', ' ', 'Grindle', ',', '\"', ' ', 'was', ' ', 'his', ' ', 'only', ' ', 'protest', ',', '', ' ', 'as', ' ', 'he', ' ', 'rose', ' ', 'from', ' ', 'the', ' ', 'table', ' ', 'and', ' ', 'strolled', ' ', 'out', ' ', 'onto', ' ', 'the', ' ', 'sunlit', ' ', 'terrace', '.', '', '\\n', '', '\\n', 'I', ' ', 'glanced', ' ', 'after', ' ', 'him', ',', '', ' ', 'struck', ' ', 'by', ' ', 'his', ' ', 'last', ' ', 'word', '.', '', ' ', 'Victor', ' ', 'Grindle', ' ', 'was', ',', '', ' ', 'in', ' ', 'fact', ',', '', ' ', 'becoming', ' ', 'the', ' ', 'man', ' ', 'of', ' ', 'the', ' ', 'moment--as', ' ', 'Jack', ' ', 'himself', ',', '', ' ', 'one', ' ', 'might', ' ', 'put', ' ', 'it', ',', '', ' ', 'had', ' ', 'been', ' ', 'the', ' ', 'man', ' ', 'of', ' ', 'the', ' ', 'hour', '.', '', ' ', 'The', ' ', 'younger', ' ', 'artist', ' ', 'was', ' ', 'said', ' ', 'to', ' ', 'have', ' ', 'formed', ' ', 'himself', ' ', 'at', ' ', 'my', ' ', \"friend's\", ' ', 'feet', ',', '', ' ', 'and', ' ', 'I', ' ', 'wondered', ' ', 'if', ' ', 'a', ' ', 'tinge', ' ', 'of', ' ', 'jealousy', ' ', 'underlay', ' ', 'the', ' ', \"latter's\", ' ', 'mysterious', ' ', 'abdication', '.', '', ' ', 'But', ' ', 'no--for', ' ', 'it', ' ', 'was', ' ', 'not', ' ', 'till', ' ', 'after', ' ', 'that', ' ', 'event', ' ', 'that', ' ', 'the', ' ', '_rose', ' ', 'Dubarry_', ' ', 'drawing-rooms', ' ', 'had', ' ', 'begun', ' ', 'to', ' ', 'display', ' ', 'their', ' ', '\"Grindles', '.', '\"', '\\n', '', '\\n', 'I', ' ', 'turned', ' ', 'to', ' ', 'Mrs', '.', '', ' ', 'Gisburn', ',', '', ' ', 'who', ' ', 'had', ' ', 'lingered', ' ', 'to', ' ', 'give', ' ', 'a', ' ', 'lump', ' ', 'of', ' ', 'sugar', ' ', 'to', ' ', 'her', ' ', 'spaniel', ' ', 'in', ' ', 'the', ' ', 'dining-room', '.', '', '\\n', '', '\\n', '\"Why', ' ', '_has_', ' ', 'he', ' ', 'chucked', ' ', 'painting?\"', ' ', 'I', ' ', 'asked', ' ', 'abruptly', '.', '', '\\n', '', '\\n', 'She', ' ', 'raised', ' ', 'her', ' ', 'eyebrows', ' ', 'with', ' ', 'a', ' ', 'hint', ' ', 'of', ' ', 'good-humoured', ' ', 'surprise', '.', '', '\\n', '', '\\n', '\"Oh', ',', '', ' ', 'he', ' ', \"doesn't\", ' ', '_have_', ' ', 'to', ' ', 'now', ',', '', ' ', 'you', ' ', 'know;', ' ', 'and', ' ', 'I', ' ', 'want', ' ', 'him', ' ', 'to', ' ', 'enjoy', ' ', 'himself', ',', '\"', ' ', 'she', ' ', 'said', ' ', 'quite', ' ', 'simply', '.', '', '\\n', '', '\\n', 'I', ' ', 'looked', ' ', 'about', ' ', 'the', ' ', 'spacious', ' ', 'white-panelled', ' ', 'room', ',', '', ' ', 'with', ' ', 'its', ' ', '_famille-verte_', ' ', 'vases', ' ', 'repeating', ' ', 'the', ' ', 'tones', ' ', 'of', ' ', 'the', ' ', 'pale', ' ', 'damask', ' ', 'curtains', ',', '', ' ', 'and', ' ', 'its', ' ', 'eighteenth-century', ' ', 'pastels', ' ', 'in', ' ', 'delicate', ' ', 'faded', ' ', 'frames', '.', '', '\\n', '', '\\n', '\"Has', ' ', 'he', ' ', 'chucked', ' ', 'his', ' ', 'pictures', ' ', 'too?', ' ', 'I', ' ', \"haven't\", ' ', 'seen', ' ', 'a', ' ', 'single', ' ', 'one', ' ', 'in', ' ', 'the', ' ', 'house', '.', '\"', '\\n', '', '\\n', 'A', ' ', 'slight', ' ', 'shade', ' ', 'of', ' ', 'constraint', ' ', 'crossed', ' ', 'Mrs', '.', '', ' ', \"Gisburn's\", ' ', 'open', ' ', 'countenance', '.', '', ' ', '\"It\\'s', ' ', 'his', ' ', 'ridiculous', ' ', 'modesty', ',', '', ' ', 'you', ' ', 'know', '.', '', ' ', 'He', ' ', 'says', ' ', \"they're\", ' ', 'not', ' ', 'fit', ' ', 'to', ' ', 'have', ' ', 'about;', ' ', \"he's\", ' ', 'sent', ' ', 'them', ' ', 'all', ' ', 'away', ' ', 'except', ' ', 'one--my', ' ', 'portrait--and', ' ', 'that', ' ', 'I', ' ', 'have', ' ', 'to', ' ', 'keep', ' ', 'upstairs', '.', '\"', '\\n', '', '\\n', 'His', ' ', 'ridiculous', ' ', \"modesty--Jack's\", ' ', 'modesty', ' ', 'about', ' ', 'his', ' ', 'pictures?', ' ', 'My', ' ', 'curiosity', ' ', 'was', ' ', 'growing', ' ', 'like', ' ', 'the', ' ', 'bean-stalk', '.', '', ' ', 'I', ' ', 'said', ' ', 'persuasively', ' ', 'to', ' ', 'my', ' ', 'hostess:', ' ', '\"I', ' ', 'must', ' ', 'really', ' ', 'see', ' ', 'your', ' ', 'portrait', ',', '', ' ', 'you', ' ', 'know', '.', '\"', '\\n', '', '\\n', 'She', ' ', 'glanced', ' ', 'out', ' ', 'almost', ' ', 'timorously', ' ', 'at', ' ', 'the', ' ', 'terrace', ' ', 'where', ' ', 'her', ' ', 'husband', ',', '', ' ', 'lounging', ' ', 'in', ' ', 'a', ' ', 'hooded', ' ', 'chair', ',', '', ' ', 'had', ' ', 'lit', ' ', 'a', ' ', 'cigar', ' ', 'and', ' ', 'drawn', ' ', 'the', ' ', 'Russian', ' ', \"deerhound's\", ' ', 'head', ' ', 'between', ' ', 'his', ' ', 'knees', '.', '', '\\n', '', '\\n', '\"Well', ',', '', ' ', 'come', ' ', 'while', ' ', \"he's\", ' ', 'not', ' ', 'looking', ',', '\"', ' ', 'she', ' ', 'said', ',', '', ' ', 'with', ' ', 'a', ' ', 'laugh', ' ', 'that', ' ', 'tried', ' ', 'to', ' ', 'hide', ' ', 'her', ' ', 'nervousness;', ' ', 'and', ' ', 'I', ' ', 'followed', ' ', 'her', ' ', 'between', ' ', 'the', ' ', 'marble', ' ', 'Emperors', ' ', 'of', ' ', 'the', ' ', 'hall', ',', '', ' ', 'and', ' ', 'up', ' ', 'the', ' ', 'wide', ' ', 'stairs', ' ', 'with', ' ', 'terra-cotta', ' ', 'nymphs', ' ', 'poised', ' ', 'among', ' ', 'flowers', ' ', 'at', ' ', 'each', ' ', 'landing', '.', '', '\\n', '', '\\n', 'In', ' ', 'the', ' ', 'dimmest', ' ', 'corner', ' ', 'of', ' ', 'her', ' ', 'boudoir', ',', '', ' ', 'amid', ' ', 'a', ' ', 'profusion', ' ', 'of', ' ', 'delicate', ' ', 'and', ' ', 'distinguished', ' ', 'objects', ',', '', ' ', 'hung', ' ', 'one', ' ', 'of', ' ', 'the', ' ', 'familiar', ' ', 'oval', ' ', 'canvases', ',', '', ' ', 'in', ' ', 'the', ' ', 'inevitable', ' ', 'garlanded', ' ', 'frame', '.', '', ' ', 'The', ' ', 'mere', ' ', 'outline', ' ', 'of', ' ', 'the', ' ', 'frame', ' ', 'called', ' ', 'up', ' ', 'all', ' ', \"Gisburn's\", ' ', 'past!', '\\n', '', '\\n', 'Mrs', '.', '', ' ', 'Gisburn', ' ', 'drew', ' ', 'back', ' ', 'the', ' ', 'window-curtains', ',', '', ' ', 'moved', ' ', 'aside', ' ', 'a', ' ', '_jardiniere_', ' ', 'full', ' ', 'of', ' ', 'pink', ' ', 'azaleas', ',', '', ' ', 'pushed', ' ', 'an', ' ', 'arm-chair', ' ', 'away', ',', '', ' ', 'and', ' ', 'said:', ' ', '\"If', ' ', 'you', ' ', 'stand', ' ', 'here', ' ', 'you', ' ', 'can', ' ', 'just', ' ', 'manage', ' ', 'to', ' ', 'see', ' ', 'it', '.', '', ' ', 'I', ' ', 'had', ' ', 'it', ' ', 'over', ' ', 'the', ' ', 'mantel-piece', ',', '', ' ', 'but', ' ', 'he', ' ', \"wouldn't\", ' ', 'let', ' ', 'it', ' ', 'stay', '.', '\"', '\\n', '', '\\n', 'Yes--I', ' ', 'could', ' ', 'just', ' ', 'manage', ' ', 'to', ' ', 'see', ' ', 'it--the', ' ', 'first', ' ', 'portrait', ' ', 'of', ' ', \"Jack's\", ' ', 'I', ' ', 'had', ' ', 'ever', ' ', 'had', ' ', 'to', ' ', 'strain', ' ', 'my', ' ', 'eyes', ' ', 'over!', ' ', 'Usually', ' ', 'they', ' ', 'had', ' ', 'the', ' ', 'place', ' ', 'of', ' ', 'honour--say', ' ', 'the', ' ', 'central', ' ', 'panel', ' ', 'in', ' ', 'a', ' ', 'pale', ' ', 'yellow', ' ', 'or', ' ', '_rose', ' ', 'Dubarry_', ' ', 'drawing-room', ',', '', ' ', 'or', ' ', 'a', ' ', 'monumental', ' ', 'easel', ' ', 'placed', ' ', 'so', ' ', 'that', ' ', 'it', ' ', 'took', ' ', 'the', ' ', 'light', ' ', 'through', ' ', 'curtains', ' ', 'of', ' ', 'old', ' ', 'Venetian', ' ', 'point', '.', '', ' ', 'The', ' ', 'more', ' ', 'modest', ' ', 'place', ' ', 'became', ' ', 'the', ' ', 'picture', ' ', 'better;', ' ', 'yet', ',', '', ' ', 'as', ' ', 'my', ' ', 'eyes', ' ', 'grew', ' ', 'accustomed', ' ', 'to', ' ', 'the', ' ', 'half-light', ',', '', ' ', 'all', ' ', 'the', ' ', 'characteristic', ' ', 'qualities', ' ', 'came', ' ', 'out--all', ' ', 'the', ' ', 'hesitations', ' ', 'disguised', ' ', 'as', ' ', 'audacities', ',', '', ' ', 'the', ' ', 'tricks', ' ', 'of', ' ', 'prestidigitation', ' ', 'by', ' ', 'which', ',', '', ' ', 'with', ' ', 'such', ' ', 'consummate', ' ', 'skill', ',', '', ' ', 'he', ' ', 'managed', ' ', 'to', ' ', 'divert', ' ', 'attention', ' ', 'from', ' ', 'the', ' ', 'real', ' ', 'business', ' ', 'of', ' ', 'the', ' ', 'picture', ' ', 'to', ' ', 'some', ' ', 'pretty', ' ', 'irrelevance', ' ', 'of', ' ', 'detail', '.', '', ' ', 'Mrs', '.', '', ' ', 'Gisburn', ',', '', ' ', 'presenting', ' ', 'a', ' ', 'neutral', ' ', 'surface', ' ', 'to', ' ', 'work', ' ', 'on--forming', ',', '', ' ', 'as', ' ', 'it', ' ', 'were', ',', '', ' ', 'so', ' ', 'inevitably', ' ', 'the', ' ', 'background', ' ', 'of', ' ', 'her', ' ', 'own', ' ', 'picture--had', ' ', 'lent', ' ', 'herself', ' ', 'in', ' ', 'an', ' ', 'unusual', ' ', 'degree', ' ', 'to', ' ', 'the', ' ', 'display', ' ', 'of', ' ', 'this', ' ', 'false', ' ', 'virtuosity', '.', '', ' ', 'The', ' ', 'picture', ' ', 'was', ' ', 'one', ' ', 'of', ' ', \"Jack's\", ' ', '\"strongest', ',', '\"', ' ', 'as', ' ', 'his', ' ', 'admirers', ' ', 'would', ' ', 'have', ' ', 'put', ' ', 'it--it', ' ', 'represented', ',', '', ' ', 'on', ' ', 'his', ' ', 'part', ',', '', ' ', 'a', ' ', 'swelling', ' ', 'of', ' ', 'muscles', ',', '', ' ', 'a', ' ', 'congesting', ' ', 'of', ' ', 'veins', ',', '', ' ', 'a', ' ', 'balancing', ',', '', ' ', 'straddling', ' ', 'and', ' ', 'straining', ',', '', ' ', 'that', ' ', 'reminded', ' ', 'one', ' ', 'of', ' ', 'the', ' ', \"circus-clown's\", ' ', 'ironic', ' ', 'efforts', ' ', 'to', ' ', 'lift', ' ', 'a', ' ', 'feather', '.', '', ' ', 'It', ' ', 'met', ',', '', ' ', 'in', ' ', 'short', ',', '', ' ', 'at', ' ', 'every', ' ', 'point', ' ', 'the', ' ', 'demand', ' ', 'of', ' ', 'lovely', ' ', 'woman', ' ', 'to', ' ', 'be', ' ', 'painted', ' ', '\"strongly\"', ' ', 'because', ' ', 'she', ' ', 'was', ' ', 'tired', ' ', 'of', ' ', 'being', ' ', 'painted', ' ', '\"sweetly\"--and', ' ', 'yet', ' ', 'not', ' ', 'to', ' ', 'lose', ' ', 'an', ' ', 'atom', ' ', 'of', ' ', 'the', ' ', 'sweetness', '.', '', '\\n', '', '\\n', '\"It\\'s', ' ', 'the', ' ', 'last', ' ', 'he', ' ', 'painted', ',', '', ' ', 'you', ' ', 'know', ',', '\"', ' ', 'Mrs', '.', '', ' ', 'Gisburn', ' ', 'said', ' ', 'with', ' ', 'pardonable', ' ', 'pride', '.', '', ' ', '\"The', ' ', 'last', ' ', 'but', ' ', 'one', ',', '\"', ' ', 'she', ' ', 'corrected', ' ', 'herself--\"but', ' ', 'the', ' ', 'other', ' ', \"doesn't\", ' ', 'count', ',', '', ' ', 'because', ' ', 'he', ' ', 'destroyed', ' ', 'it', '.', '\"', '\\n', '', '\\n', '\"Destroyed', ' ', 'it?\"', ' ', 'I', ' ', 'was', ' ', 'about', ' ', 'to', ' ', 'follow', ' ', 'up', ' ', 'this', ' ', 'clue', ' ', 'when', ' ', 'I', ' ', 'heard', ' ', 'a', ' ', 'footstep', ' ', 'and', ' ', 'saw', ' ', 'Jack', ' ', 'himself', ' ', 'on', ' ', 'the', ' ', 'threshold', '.', '', '\\n', '', '\\n', 'As', ' ', 'he', ' ', 'stood', ' ', 'there', ',', '', ' ', 'his', ' ', 'hands', ' ', 'in', ' ', 'the', ' ', 'pockets', ' ', 'of', ' ', 'his', ' ', 'velveteen', ' ', 'coat', ',', '', ' ', 'the', ' ', 'thin', ' ', 'brown', ' ', 'waves', ' ', 'of', ' ', 'hair', ' ', 'pushed', ' ', 'back', ' ', 'from', ' ', 'his', ' ', 'white', ' ', 'forehead', ',', '', ' ', 'his', ' ', 'lean', ' ', 'sunburnt', ' ', 'cheeks', ' ', 'furrowed', ' ', 'by', ' ', 'a', ' ', 'smile', ' ', 'that', ' ', 'lifted', ' ', 'the', ' ', 'tips', ' ', 'of', ' ', 'a', ' ', 'self-confident', ' ', 'moustache', ',', '', ' ', 'I', ' ', 'felt', ' ', 'to', ' ', 'what', ' ', 'a', ' ', 'degree', ' ', 'he', ' ', 'had', ' ', 'the', ' ', 'same', ' ', 'quality', ' ', 'as', ' ', 'his', ' ', 'pictures--the', ' ', 'quality', ' ', 'of', ' ', 'looking', ' ', 'cleverer', ' ', 'than', ' ', 'he', ' ', 'was', '.', '', '\\n', '', '\\n', 'His', ' ', 'wife', ' ', 'glanced', ' ', 'at', ' ', 'him', ' ', 'deprecatingly', ',', '', ' ', 'but', ' ', 'his', ' ', 'eyes', ' ', 'travelled', ' ', 'past', ' ', 'her', ' ', 'to', ' ', 'the', ' ', 'portrait', '.', '', '\\n', '', '\\n', '\"Mr', '.', '', ' ', 'Rickham', ' ', 'wanted', ' ', 'to', ' ', 'see', ' ', 'it', ',', '\"', ' ', 'she', ' ', 'began', ',', '', ' ', 'as', ' ', 'if', ' ', 'excusing', ' ', 'herself', '.', '', ' ', 'He', ' ', 'shrugged', ' ', 'his', ' ', 'shoulders', ',', '', ' ', 'still', ' ', 'smiling', '.', '', '\\n', '', '\\n', '\"Oh', ',', '', ' ', 'Rickham', ' ', 'found', ' ', 'me', ' ', 'out', ' ', 'long', ' ', 'ago', ',', '\"', ' ', 'he', ' ', 'said', ' ', 'lightly;', ' ', 'then', ',', '', ' ', 'passing', ' ', 'his', ' ', 'arm', ' ', 'through', ' ', 'mine:', ' ', '\"Come', ' ', 'and', ' ', 'see', ' ', 'the', ' ', 'rest', ' ', 'of', ' ', 'the', ' ', 'house', '.', '\"', '\\n', '', '\\n', 'He', ' ', 'showed', ' ', 'it', ' ', 'to', ' ', 'me', ' ', 'with', ' ', 'a', ' ', 'kind', ' ', 'of', ' ', 'naive', ' ', 'suburban', ' ', 'pride:', ' ', 'the', ' ', 'bath-rooms', ',', '', ' ', 'the', ' ', 'speaking-tubes', ',', '', ' ', 'the', ' ', 'dress-closets', ',', '', ' ', 'the', ' ', 'trouser-presses--all', ' ', 'the', ' ', 'complex', ' ', 'simplifications', ' ', 'of', ' ', 'the', ' ', \"millionaire's\", ' ', 'domestic', ' ', 'economy', '.', '', ' ', 'And', ' ', 'whenever', ' ', 'my', ' ', 'wonder', ' ', 'paid', ' ', 'the', ' ', 'expected', ' ', 'tribute', ' ', 'he', ' ', 'said', ',', '', ' ', 'throwing', ' ', 'out', ' ', 'his', ' ', 'chest', ' ', 'a', ' ', 'little:', ' ', '\"Yes', ',', '', ' ', 'I', ' ', 'really', ' ', \"don't\", ' ', 'see', ' ', 'how', ' ', 'people', ' ', 'manage', ' ', 'to', ' ', 'live', ' ', 'without', ' ', 'that', '.', '\"', '\\n', '', '\\n', 'Well--it', ' ', 'was', ' ', 'just', ' ', 'the', ' ', 'end', ' ', 'one', ' ', 'might', ' ', 'have', ' ', 'foreseen', ' ', 'for', ' ', 'him', '.', '', ' ', 'Only', ' ', 'he', ' ', 'was', ',', '', ' ', 'through', ' ', 'it', ' ', 'all', ' ', 'and', ' ', 'in', ' ', 'spite', ' ', 'of', ' ', 'it', ' ', 'all--as', ' ', 'he', ' ', 'had', ' ', 'been', ' ', 'through', ',', '', ' ', 'and', ' ', 'in', ' ', 'spite', ' ', 'of', ',', '', ' ', 'his', ' ', 'pictures--so', ' ', 'handsome', ',', '', ' ', 'so', ' ', 'charming', ',', '', ' ', 'so', ' ', 'disarming', ',', '', ' ', 'that', ' ', 'one', ' ', 'longed', ' ', 'to', ' ', 'cry', ' ', 'out:', ' ', '\"Be', ' ', 'dissatisfied', ' ', 'with', ' ', 'your', ' ', 'leisure!\"', ' ', 'as', ' ', 'once', ' ', 'one', ' ', 'had', ' ', 'longed', ' ', 'to', ' ', 'say:', ' ', '\"Be', ' ', 'dissatisfied', ' ', 'with', ' ', 'your', ' ', 'work!\"', '\\n', '', '\\n', 'But', ',', '', ' ', 'with', ' ', 'the', ' ', 'cry', ' ', 'on', ' ', 'my', ' ', 'lips', ',', '', ' ', 'my', ' ', 'diagnosis', ' ', 'suffered', ' ', 'an', ' ', 'unexpected', ' ', 'check', '.', '', '\\n', '', '\\n', '\"This', ' ', 'is', ' ', 'my', ' ', 'own', ' ', 'lair', ',', '\"', ' ', 'he', ' ', 'said', ',', '', ' ', 'leading', ' ', 'me', ' ', 'into', ' ', 'a', ' ', 'dark', ' ', 'plain', ' ', 'room', ' ', 'at', ' ', 'the', ' ', 'end', ' ', 'of', ' ', 'the', ' ', 'florid', ' ', 'vista', '.', '', ' ', 'It', ' ', 'was', ' ', 'square', ' ', 'and', ' ', 'brown', ' ', 'and', ' ', 'leathery:', ' ', 'no', ' ', '\"effects\";', ' ', 'no', ' ', 'bric-a-brac', ',', '', ' ', 'none', ' ', 'of', ' ', 'the', ' ', 'air', ' ', 'of', ' ', 'posing', ' ', 'for', ' ', 'reproduction', ' ', 'in', ' ', 'a', ' ', 'picture', ' ', 'weekly--above', ' ', 'all', ',', '', ' ', 'no', ' ', 'least', ' ', 'sign', ' ', 'of', ' ', 'ever', ' ', 'having', ' ', 'been', ' ', 'used', ' ', 'as', ' ', 'a', ' ', 'studio', '.', '', '\\n', '', '\\n', 'The', ' ', 'fact', ' ', 'brought', ' ', 'home', ' ', 'to', ' ', 'me', ' ', 'the', ' ', 'absolute', ' ', 'finality', ' ', 'of', ' ', \"Jack's\", ' ', 'break', ' ', 'with', ' ', 'his', ' ', 'old', ' ', 'life', '.', '', '\\n', '', '\\n', '\"Don\\'t', ' ', 'you', ' ', 'ever', ' ', 'dabble', ' ', 'with', ' ', 'paint', ' ', 'any', ' ', 'more?\"', ' ', 'I', ' ', 'asked', ',', '', ' ', 'still', ' ', 'looking', ' ', 'about', ' ', 'for', ' ', 'a', ' ', 'trace', ' ', 'of', ' ', 'such', ' ', 'activity', '.', '', '\\n', '', '\\n', '\"Never', ',', '\"', ' ', 'he', ' ', 'said', ' ', 'briefly', '.', '', '\\n', '', '\\n', '\"Or', ' ', 'water-colour--or', ' ', 'etching?\"', '\\n', '', '\\n', 'His', ' ', 'confident', ' ', 'eyes', ' ', 'grew', ' ', 'dim', ',', '', ' ', 'and', ' ', 'his', ' ', 'cheeks', ' ', 'paled', ' ', 'a', ' ', 'little', ' ', 'under', ' ', 'their', ' ', 'handsome', ' ', 'sunburn', '.', '', '\\n', '', '\\n', '\"Never', ' ', 'think', ' ', 'of', ' ', 'it', ',', '', ' ', 'my', ' ', 'dear', ' ', 'fellow--any', ' ', 'more', ' ', 'than', ' ', 'if', ' ', \"I'd\", ' ', 'never', ' ', 'touched', ' ', 'a', ' ', 'brush', '.', '\"', '\\n', '', '\\n', 'And', ' ', 'his', ' ', 'tone', ' ', 'told', ' ', 'me', ' ', 'in', ' ', 'a', ' ', 'flash', ' ', 'that', ' ', 'he', ' ', 'never', ' ', 'thought', ' ', 'of', ' ', 'anything', ' ', 'else', '.', '', '\\n', '', '\\n', 'I', ' ', 'moved', ' ', 'away', ',', '', ' ', 'instinctively', ' ', 'embarrassed', ' ', 'by', ' ', 'my', ' ', 'unexpected', ' ', 'discovery;', ' ', 'and', ' ', 'as', ' ', 'I', ' ', 'turned', ',', '', ' ', 'my', ' ', 'eye', ' ', 'fell', ' ', 'on', ' ', 'a', ' ', 'small', ' ', 'picture', ' ', 'above', ' ', 'the', ' ', 'mantel-piece--the', ' ', 'only', ' ', 'object', ' ', 'breaking', ' ', 'the', ' ', 'plain', ' ', 'oak', ' ', 'panelling', ' ', 'of', ' ', 'the', ' ', 'room', '.', '', '\\n', '', '\\n', '\"Oh', ',', '', ' ', 'by', ' ', 'Jove!\"', ' ', 'I', ' ', 'said', '.', '', '\\n', '', '\\n', 'It', ' ', 'was', ' ', 'a', ' ', 'sketch', ' ', 'of', ' ', 'a', ' ', 'donkey--an', ' ', 'old', ' ', 'tired', ' ', 'donkey', ',', '', ' ', 'standing', ' ', 'in', ' ', 'the', ' ', 'rain', ' ', 'under', ' ', 'a', ' ', 'wall', '.', '', '\\n', '', '\\n', '\"By', ' ', 'Jove--a', ' ', 'Stroud!\"', ' ', 'I', ' ', 'cried', '.', '', '\\n', '', '\\n', 'He', ' ', 'was', ' ', 'silent;', ' ', 'but', ' ', 'I', ' ', 'felt', ' ', 'him', ' ', 'close', ' ', 'behind', ' ', 'me', ',', '', ' ', 'breathing', ' ', 'a', ' ', 'little', ' ', 'quickly', '.', '', '\\n', '', '\\n', '\"What', ' ', 'a', ' ', 'wonder!', ' ', 'Made', ' ', 'with', ' ', 'a', ' ', 'dozen', ' ', 'lines--but', ' ', 'on', ' ', 'everlasting', ' ', 'foundations', '.', '', ' ', 'You', ' ', 'lucky', ' ', 'chap', ',', '', ' ', 'where', ' ', 'did', ' ', 'you', ' ', 'get', ' ', 'it?\"', '\\n', '', '\\n', 'He', ' ', 'answered', ' ', 'slowly:', ' ', '\"Mrs', '.', '', ' ', 'Stroud', ' ', 'gave', ' ', 'it', ' ', 'to', ' ', 'me', '.', '\"', '\\n', '', '\\n', '\"Ah--I', ' ', \"didn't\", ' ', 'know', ' ', 'you', ' ', 'even', ' ', 'knew', ' ', 'the', ' ', 'Strouds', '.', '', ' ', 'He', ' ', 'was', ' ', 'such', ' ', 'an', ' ', 'inflexible', ' ', 'hermit', '.', '\"', '\\n', '', '\\n', '\"I', ' ', \"didn't--till\", ' ', 'after', '.', '', ' ', '', '.', '', ' ', '', '.', '', ' ', '', '.', '', ' ', 'She', ' ', 'sent', ' ', 'for', ' ', 'me', ' ', 'to', ' ', 'paint', ' ', 'him', ' ', 'when', ' ', 'he', ' ', 'was', ' ', 'dead', '.', '\"', '\\n', '', '\\n', '\"When', ' ', 'he', ' ', 'was', ' ', 'dead?', ' ', 'You?\"', '\\n', '', '\\n', 'I', ' ', 'must', ' ', 'have', ' ', 'let', ' ', 'a', ' ', 'little', ' ', 'too', ' ', 'much', ' ', 'amazement', ' ', 'escape', ' ', 'through', ' ', 'my', ' ', 'surprise', ',', '', ' ', 'for', ' ', 'he', ' ', 'answered', ' ', 'with', ' ', 'a', ' ', 'deprecating', ' ', 'laugh:', ' ', '\"Yes--she\\'s', ' ', 'an', ' ', 'awful', ' ', 'simpleton', ',', '', ' ', 'you', ' ', 'know', ',', '', ' ', 'Mrs', '.', '', ' ', 'Stroud', '.', '', ' ', 'Her', ' ', 'only', ' ', 'idea', ' ', 'was', ' ', 'to', ' ', 'have', ' ', 'him', ' ', 'done', ' ', 'by', ' ', 'a', ' ', 'fashionable', ' ', 'painter--ah', ',', '', ' ', 'poor', ' ', 'Stroud!', ' ', 'She', ' ', 'thought', ' ', 'it', ' ', 'the', ' ', 'surest', ' ', 'way', ' ', 'of', ' ', 'proclaiming', ' ', 'his', ' ', 'greatness--of', ' ', 'forcing', ' ', 'it', ' ', 'on', ' ', 'a', ' ', 'purblind', ' ', 'public', '.', '', ' ', 'And', ' ', 'at', ' ', 'the', ' ', 'moment', ' ', 'I', ' ', 'was', ' ', '_the_', ' ', 'fashionable', ' ', 'painter', '.', '\"', '\\n', '', '\\n', '\"Ah', ',', '', ' ', 'poor', ' ', 'Stroud--as', ' ', 'you', ' ', 'say', '.', '', ' ', 'Was', ' ', '_that_', ' ', 'his', ' ', 'history?\"', '\\n', '', '\\n', '\"That', ' ', 'was', ' ', 'his', ' ', 'history', '.', '', ' ', 'She', ' ', 'believed', ' ', 'in', ' ', 'him', ',', '', ' ', 'gloried', ' ', 'in', ' ', 'him--or', ' ', 'thought', ' ', 'she', ' ', 'did', '.', '', ' ', 'But', ' ', 'she', ' ', \"couldn't\", ' ', 'bear', ' ', 'not', ' ', 'to', ' ', 'have', ' ', 'all', ' ', 'the', ' ', 'drawing-rooms', ' ', 'with', ' ', 'her', '.', '', ' ', 'She', ' ', \"couldn't\", ' ', 'bear', ' ', 'the', ' ', 'fact', ' ', 'that', ',', '', ' ', 'on', ' ', 'varnishing', ' ', 'days', ',', '', ' ', 'one', ' ', 'could', ' ', 'always', ' ', 'get', ' ', 'near', ' ', 'enough', ' ', 'to', ' ', 'see', ' ', 'his', ' ', 'pictures', '.', '', ' ', 'Poor', ' ', 'woman!', ' ', \"She's\", ' ', 'just', ' ', 'a', ' ', 'fragment', ' ', 'groping', ' ', 'for', ' ', 'other', ' ', 'fragments', '.', '', ' ', 'Stroud', ' ', 'is', ' ', 'the', ' ', 'only', ' ', 'whole', ' ', 'I', ' ', 'ever', ' ', 'knew', '.', '\"', '\\n', '', '\\n', '\"You', ' ', 'ever', ' ', 'knew?', ' ', 'But', ' ', 'you', ' ', 'just', ' ', 'said--\"', '\\n', '', '\\n', 'Gisburn', ' ', 'had', ' ', 'a', ' ', 'curious', ' ', 'smile', ' ', 'in', ' ', 'his', ' ', 'eyes', '.', '', '\\n', '', '\\n', '\"Oh', ',', '', ' ', 'I', ' ', 'knew', ' ', 'him', ',', '', ' ', 'and', ' ', 'he', ' ', 'knew', ' ', 'me--only', ' ', 'it', ' ', 'happened', ' ', 'after', ' ', 'he', ' ', 'was', ' ', 'dead', '.', '\"', '\\n', '', '\\n', 'I', ' ', 'dropped', ' ', 'my', ' ', 'voice', ' ', 'instinctively', '.', '', ' ', '\"When', ' ', 'she', ' ', 'sent', ' ', 'for', ' ', 'you?\"', '\\n', '', '\\n', '\"Yes--quite', ' ', 'insensible', ' ', 'to', ' ', 'the', ' ', 'irony', '.', '', ' ', 'She', ' ', 'wanted', ' ', 'him', ' ', 'vindicated--and', ' ', 'by', ' ', 'me!\"', '\\n', '', '\\n', 'He', ' ', 'laughed', ' ', 'again', ',', '', ' ', 'and', ' ', 'threw', ' ', 'back', ' ', 'his', ' ', 'head', ' ', 'to', ' ', 'look', ' ', 'up', ' ', 'at', ' ', 'the', ' ', 'sketch', ' ', 'of', ' ', 'the', ' ', 'donkey', '.', '', ' ', '\"There', ' ', 'were', ' ', 'days', ' ', 'when', ' ', 'I', ' ', \"couldn't\", ' ', 'look', ' ', 'at', ' ', 'that', ' ', \"thing--couldn't\", ' ', 'face', ' ', 'it', '.', '', ' ', 'But', ' ', 'I', ' ', 'forced', ' ', 'myself', ' ', 'to', ' ', 'put', ' ', 'it', ' ', 'here;', ' ', 'and', ' ', 'now', ' ', \"it's\", ' ', 'cured', ' ', 'me--cured', ' ', 'me', '.', '', ' ', \"That's\", ' ', 'the', ' ', 'reason', ' ', 'why', ' ', 'I', ' ', \"don't\", ' ', 'dabble', ' ', 'any', ' ', 'more', ',', '', ' ', 'my', ' ', 'dear', ' ', 'Rickham;', ' ', 'or', ' ', 'rather', ' ', 'Stroud', ' ', 'himself', ' ', 'is', ' ', 'the', ' ', 'reason', '.', '\"', '\\n', '', '\\n', 'For', ' ', 'the', ' ', 'first', ' ', 'time', ' ', 'my', ' ', 'idle', ' ', 'curiosity', ' ', 'about', ' ', 'my', ' ', 'companion', ' ', 'turned', ' ', 'into', ' ', 'a', ' ', 'serious', ' ', 'desire', ' ', 'to', ' ', 'understand', ' ', 'him', ' ', 'better', '.', '', '\\n', '', '\\n', '\"I', ' ', 'wish', ' ', \"you'd\", ' ', 'tell', ' ', 'me', ' ', 'how', ' ', 'it', ' ', 'happened', ',', '\"', ' ', 'I', ' ', 'said', '.', '', '\\n', '', '\\n', 'He', ' ', 'stood', ' ', 'looking', ' ', 'up', ' ', 'at', ' ', 'the', ' ', 'sketch', ',', '', ' ', 'and', ' ', 'twirling', ' ', 'between', ' ', 'his', ' ', 'fingers', ' ', 'a', ' ', 'cigarette', ' ', 'he', ' ', 'had', ' ', 'forgotten', ' ', 'to', ' ', 'light', '.', '', ' ', 'Suddenly', ' ', 'he', ' ', 'turned', ' ', 'toward', ' ', 'me', '.', '', '\\n', '', '\\n', '\"I\\'d', ' ', 'rather', ' ', 'like', ' ', 'to', ' ', 'tell', ' ', 'you--because', ' ', \"I've\", ' ', 'always', ' ', 'suspected', ' ', 'you', ' ', 'of', ' ', 'loathing', ' ', 'my', ' ', 'work', '.', '\"', '\\n', '', '\\n', 'I', ' ', 'made', ' ', 'a', ' ', 'deprecating', ' ', 'gesture', ',', '', ' ', 'which', ' ', 'he', ' ', 'negatived', ' ', 'with', ' ', 'a', ' ', 'good-humoured', ' ', 'shrug', '.', '', '\\n', '', '\\n', '\"Oh', ',', '', ' ', 'I', ' ', \"didn't\", ' ', 'care', ' ', 'a', ' ', 'straw', ' ', 'when', ' ', 'I', ' ', 'believed', ' ', 'in', ' ', 'myself--and', ' ', 'now', ' ', \"it's\", ' ', 'an', ' ', 'added', ' ', 'tie', ' ', 'between', ' ', 'us!\"', '\\n', '', '\\n', 'He', ' ', 'laughed', ' ', 'slightly', ',', '', ' ', 'without', ' ', 'bitterness', ',', '', ' ', 'and', ' ', 'pushed', ' ', 'one', ' ', 'of', ' ', 'the', ' ', 'deep', ' ', 'arm-chairs', ' ', 'forward', '.', '', ' ', '\"There:', ' ', 'make', ' ', 'yourself', ' ', 'comfortable--and', ' ', 'here', ' ', 'are', ' ', 'the', ' ', 'cigars', ' ', 'you', ' ', 'like', '.', '\"', '\\n', '', '\\n', 'He', ' ', 'placed', ' ', 'them', ' ', 'at', ' ', 'my', ' ', 'elbow', ' ', 'and', ' ', 'continued', ' ', 'to', ' ', 'wander', ' ', 'up', ' ', 'and', ' ', 'down', ' ', 'the', ' ', 'room', ',', '', ' ', 'stopping', ' ', 'now', ' ', 'and', ' ', 'then', ' ', 'beneath', ' ', 'the', ' ', 'picture', '.', '', '\\n', '', '\\n', '\"How', ' ', 'it', ' ', 'happened?', ' ', 'I', ' ', 'can', ' ', 'tell', ' ', 'you', ' ', 'in', ' ', 'five', ' ', 'minutes--and', ' ', 'it', ' ', \"didn't\", ' ', 'take', ' ', 'much', ' ', 'longer', ' ', 'to', ' ', 'happen', '.', '', ' ', '', '.', '', ' ', '', '.', '', ' ', '', '.', '', ' ', 'I', ' ', 'can', ' ', 'remember', ' ', 'now', ' ', 'how', ' ', 'surprised', ' ', 'and', ' ', 'pleased', ' ', 'I', ' ', 'was', ' ', 'when', ' ', 'I', ' ', 'got', ' ', 'Mrs', '.', '', ' ', \"Stroud's\", ' ', 'note', '.', '', ' ', 'Of', ' ', 'course', ',', '', ' ', 'deep', ' ', 'down', ',', '', ' ', 'I', ' ', 'had', ' ', 'always', ' ', '_felt_', ' ', 'there', ' ', 'was', ' ', 'no', ' ', 'one', ' ', 'like', ' ', 'him--only', ' ', 'I', ' ', 'had', ' ', 'gone', ' ', 'with', ' ', 'the', ' ', 'stream', ',', '', ' ', 'echoed', ' ', 'the', ' ', 'usual', ' ', 'platitudes', ' ', 'about', ' ', 'him', ',', '', ' ', 'till', ' ', 'I', ' ', 'half', ' ', 'got', ' ', 'to', ' ', 'think', ' ', 'he', ' ', 'was', ' ', 'a', ' ', 'failure', ',', '', ' ', 'one', ' ', 'of', ' ', 'the', ' ', 'kind', ' ', 'that', ' ', 'are', ' ', 'left', ' ', 'behind', '.', '', ' ', 'By', ' ', 'Jove', ',', '', ' ', 'and', ' ', 'he', ' ', '_was_', ' ', 'left', ' ', 'behind--because', ' ', 'he', ' ', 'had', ' ', 'come', ' ', 'to', ' ', 'stay!', ' ', 'The', ' ', 'rest', ' ', 'of', ' ', 'us', ' ', 'had', ' ', 'to', ' ', 'let', ' ', 'ourselves', ' ', 'be', ' ', 'swept', ' ', 'along', ' ', 'or', ' ', 'go', ' ', 'under', ',', '', ' ', 'but', ' ', 'he', ' ', 'was', ' ', 'high', ' ', 'above', ' ', 'the', ' ', 'current--on', ' ', 'everlasting', ' ', 'foundations', ',', '', ' ', 'as', ' ', 'you', ' ', 'say', '.', '', '\\n', '', '\\n', '\"Well', ',', '', ' ', 'I', ' ', 'went', ' ', 'off', ' ', 'to', ' ', 'the', ' ', 'house', ' ', 'in', ' ', 'my', ' ', 'most', ' ', 'egregious', ' ', 'mood--rather', ' ', 'moved', ',', '', ' ', 'Lord', ' ', 'forgive', ' ', 'me', ',', '', ' ', 'at', ' ', 'the', ' ', 'pathos', ' ', 'of', ' ', 'poor', ' ', \"Stroud's\", ' ', 'career', ' ', 'of', ' ', 'failure', ' ', 'being', ' ', 'crowned', ' ', 'by', ' ', 'the', ' ', 'glory', ' ', 'of', ' ', 'my', ' ', 'painting', ' ', 'him!', ' ', 'Of', ' ', 'course', ' ', 'I', ' ', 'meant', ' ', 'to', ' ', 'do', ' ', 'the', ' ', 'picture', ' ', 'for', ' ', 'nothing--I', ' ', 'told', ' ', 'Mrs', '.', '', ' ', 'Stroud', ' ', 'so', ' ', 'when', ' ', 'she', ' ', 'began', ' ', 'to', ' ', 'stammer', ' ', 'something', ' ', 'about', ' ', 'her', ' ', 'poverty', '.', '', ' ', 'I', ' ', 'remember', ' ', 'getting', ' ', 'off', ' ', 'a', ' ', 'prodigious', ' ', 'phrase', ' ', 'about', ' ', 'the', ' ', 'honour', ' ', 'being', ' ', '_mine_--oh', ',', '', ' ', 'I', ' ', 'was', ' ', 'princely', ',', '', ' ', 'my', ' ', 'dear', ' ', 'Rickham!', ' ', 'I', ' ', 'was', ' ', 'posing', ' ', 'to', ' ', 'myself', ' ', 'like', ' ', 'one', ' ', 'of', ' ', 'my', ' ', 'own', ' ', 'sitters', '.', '', '\\n', '', '\\n', '\"Then', ' ', 'I', ' ', 'was', ' ', 'taken', ' ', 'up', ' ', 'and', ' ', 'left', ' ', 'alone', ' ', 'with', ' ', 'him', '.', '', ' ', 'I', ' ', 'had', ' ', 'sent', ' ', 'all', ' ', 'my', ' ', 'traps', ' ', 'in', ' ', 'advance', ',', '', ' ', 'and', ' ', 'I', ' ', 'had', ' ', 'only', ' ', 'to', ' ', 'set', ' ', 'up', ' ', 'the', ' ', 'easel', ' ', 'and', ' ', 'get', ' ', 'to', ' ', 'work', '.', '', ' ', 'He', ' ', 'had', ' ', 'been', ' ', 'dead', ' ', 'only', ' ', 'twenty-four', ' ', 'hours', ',', '', ' ', 'and', ' ', 'he', ' ', 'died', ' ', 'suddenly', ',', '', ' ', 'of', ' ', 'heart', ' ', 'disease', ',', '', ' ', 'so', ' ', 'that', ' ', 'there', ' ', 'had', ' ', 'been', ' ', 'no', ' ', 'preliminary', ' ', 'work', ' ', 'of', ' ', 'destruction--his', ' ', 'face', ' ', 'was', ' ', 'clear', ' ', 'and', ' ', 'untouched', '.', '', ' ', 'I', ' ', 'had', ' ', 'met', ' ', 'him', ' ', 'once', ' ', 'or', ' ', 'twice', ',', '', ' ', 'years', ' ', 'before', ',', '', ' ', 'and', ' ', 'thought', ' ', 'him', ' ', 'insignificant', ' ', 'and', ' ', 'dingy', '.', '', ' ', 'Now', ' ', 'I', ' ', 'saw', ' ', 'that', ' ', 'he', ' ', 'was', ' ', 'superb', '.', '', '\\n', '', '\\n', '\"I', ' ', 'was', ' ', 'glad', ' ', 'at', ' ', 'first', ',', '', ' ', 'with', ' ', 'a', ' ', 'merely', ' ', 'aesthetic', ' ', 'satisfaction:', ' ', 'glad', ' ', 'to', ' ', 'have', ' ', 'my', ' ', 'hand', ' ', 'on', ' ', 'such', ' ', 'a', ' ', \"'subject\", '.', \"'\", ' ', 'Then', ' ', 'his', ' ', 'strange', ' ', 'life-likeness', ' ', 'began', ' ', 'to', ' ', 'affect', ' ', 'me', ' ', 'queerly--as', ' ', 'I', ' ', 'blocked', ' ', 'the', ' ', 'head', ' ', 'in', ' ', 'I', ' ', 'felt', ' ', 'as', ' ', 'if', ' ', 'he', ' ', 'were', ' ', 'watching', ' ', 'me', ' ', 'do', ' ', 'it', '.', '', ' ', 'The', ' ', 'sensation', ' ', 'was', ' ', 'followed', ' ', 'by', ' ', 'the', ' ', 'thought:', ' ', 'if', ' ', 'he', ' ', '_were_', ' ', 'watching', ' ', 'me', ',', '', ' ', 'what', ' ', 'would', ' ', 'he', ' ', 'say', ' ', 'to', ' ', 'my', ' ', 'way', ' ', 'of', ' ', 'working?', ' ', 'My', ' ', 'strokes', ' ', 'began', ' ', 'to', ' ', 'go', ' ', 'a', ' ', 'little', ' ', 'wild--I', ' ', 'felt', ' ', 'nervous', ' ', 'and', ' ', 'uncertain', '.', '', '\\n', '', '\\n', '\"Once', ',', '', ' ', 'when', ' ', 'I', ' ', 'looked', ' ', 'up', ',', '', ' ', 'I', ' ', 'seemed', ' ', 'to', ' ', 'see', ' ', 'a', ' ', 'smile', ' ', 'behind', ' ', 'his', ' ', 'close', ' ', 'grayish', ' ', 'beard--as', ' ', 'if', ' ', 'he', ' ', 'had', ' ', 'the', ' ', 'secret', ',', '', ' ', 'and', ' ', 'were', ' ', 'amusing', ' ', 'himself', ' ', 'by', ' ', 'holding', ' ', 'it', ' ', 'back', ' ', 'from', ' ', 'me', '.', '', ' ', 'That', ' ', 'exasperated', ' ', 'me', ' ', 'still', ' ', 'more', '.', '', ' ', 'The', ' ', 'secret?', ' ', 'Why', ',', '', ' ', 'I', ' ', 'had', ' ', 'a', ' ', 'secret', ' ', 'worth', ' ', 'twenty', ' ', 'of', ' ', 'his!', ' ', 'I', ' ', 'dashed', ' ', 'at', ' ', 'the', ' ', 'canvas', ' ', 'furiously', ',', '', ' ', 'and', ' ', 'tried', ' ', 'some', ' ', 'of', ' ', 'my', ' ', 'bravura', ' ', 'tricks', '.', '', ' ', 'But', ' ', 'they', ' ', 'failed', ' ', 'me', ',', '', ' ', 'they', ' ', 'crumbled', '.', '', ' ', 'I', ' ', 'saw', ' ', 'that', ' ', 'he', ' ', \"wasn't\", ' ', 'watching', ' ', 'the', ' ', 'showy', ' ', 'bits--I', ' ', \"couldn't\", ' ', 'distract', ' ', 'his', ' ', 'attention;', ' ', 'he', ' ', 'just', ' ', 'kept', ' ', 'his', ' ', 'eyes', ' ', 'on', ' ', 'the', ' ', 'hard', ' ', 'passages', ' ', 'between', '.', '', ' ', 'Those', ' ', 'were', ' ', 'the', ' ', 'ones', ' ', 'I', ' ', 'had', ' ', 'always', ' ', 'shirked', ',', '', ' ', 'or', ' ', 'covered', ' ', 'up', ' ', 'with', ' ', 'some', ' ', 'lying', ' ', 'paint', '.', '', ' ', 'And', ' ', 'how', ' ', 'he', ' ', 'saw', ' ', 'through', ' ', 'my', ' ', 'lies!', '\\n', '', '\\n', '\"I', ' ', 'looked', ' ', 'up', ' ', 'again', ',', '', ' ', 'and', ' ', 'caught', ' ', 'sight', ' ', 'of', ' ', 'that', ' ', 'sketch', ' ', 'of', ' ', 'the', ' ', 'donkey', ' ', 'hanging', ' ', 'on', ' ', 'the', ' ', 'wall', ' ', 'near', ' ', 'his', ' ', 'bed', '.', '', ' ', 'His', ' ', 'wife', ' ', 'told', ' ', 'me', ' ', 'afterward', ' ', 'it', ' ', 'was', ' ', 'the', ' ', 'last', ' ', 'thing', ' ', 'he', ' ', 'had', ' ', 'done--just', ' ', 'a', ' ', 'note', ' ', 'taken', ' ', 'with', ' ', 'a', ' ', 'shaking', ' ', 'hand', ',', '', ' ', 'when', ' ', 'he', ' ', 'was', ' ', 'down', ' ', 'in', ' ', 'Devonshire', ' ', 'recovering', ' ', 'from', ' ', 'a', ' ', 'previous', ' ', 'heart', ' ', 'attack', '.', '', ' ', 'Just', ' ', 'a', ' ', 'note!', ' ', 'But', ' ', 'it', ' ', 'tells', ' ', 'his', ' ', 'whole', ' ', 'history', '.', '', ' ', 'There', ' ', 'are', ' ', 'years', ' ', 'of', ' ', 'patient', ' ', 'scornful', ' ', 'persistence', ' ', 'in', ' ', 'every', ' ', 'line', '.', '', ' ', 'A', ' ', 'man', ' ', 'who', ' ', 'had', ' ', 'swum', ' ', 'with', ' ', 'the', ' ', 'current', ' ', 'could', ' ', 'never', ' ', 'have', ' ', 'learned', ' ', 'that', ' ', 'mighty', ' ', 'up-stream', ' ', 'stroke', '.', '', ' ', '', '.', '', ' ', '', '.', '', ' ', '', '.', '', '\\n', '', '\\n', '\"I', ' ', 'turned', ' ', 'back', ' ', 'to', ' ', 'my', ' ', 'work', ',', '', ' ', 'and', ' ', 'went', ' ', 'on', ' ', 'groping', ' ', 'and', ' ', 'muddling;', ' ', 'then', ' ', 'I', ' ', 'looked', ' ', 'at', ' ', 'the', ' ', 'donkey', ' ', 'again', '.', '', ' ', 'I', ' ', 'saw', ' ', 'that', ',', '', ' ', 'when', ' ', 'Stroud', ' ', 'laid', ' ', 'in', ' ', 'the', ' ', 'first', ' ', 'stroke', ',', '', ' ', 'he', ' ', 'knew', ' ', 'just', ' ', 'what', ' ', 'the', ' ', 'end', ' ', 'would', ' ', 'be', '.', '', ' ', 'He', ' ', 'had', ' ', 'possessed', ' ', 'his', ' ', 'subject', ',', '', ' ', 'absorbed', ' ', 'it', ',', '', ' ', 'recreated', ' ', 'it', '.', '', ' ', 'When', ' ', 'had', ' ', 'I', ' ', 'done', ' ', 'that', ' ', 'with', ' ', 'any', ' ', 'of', ' ', 'my', ' ', 'things?', ' ', 'They', ' ', \"hadn't\", ' ', 'been', ' ', 'born', ' ', 'of', ' ', 'me--I', ' ', 'had', ' ', 'just', ' ', 'adopted', ' ', 'them', '.', '', ' ', '', '.', '', ' ', '', '.', '', ' ', '', '.', '', '\\n', '', '\\n', '\"Hang', ' ', 'it', ',', '', ' ', 'Rickham', ',', '', ' ', 'with', ' ', 'that', ' ', 'face', ' ', 'watching', ' ', 'me', ' ', 'I', ' ', \"couldn't\", ' ', 'do', ' ', 'another', ' ', 'stroke', '.', '', ' ', 'The', ' ', 'plain', ' ', 'truth', ' ', 'was', ',', '', ' ', 'I', ' ', \"didn't\", ' ', 'know', ' ', 'where', ' ', 'to', ' ', 'put', ' ', 'it--_I', ' ', 'had', ' ', 'never', ' ', 'known_', '.', '', ' ', 'Only', ',', '', ' ', 'with', ' ', 'my', ' ', 'sitters', ' ', 'and', ' ', 'my', ' ', 'public', ',', '', ' ', 'a', ' ', 'showy', ' ', 'splash', ' ', 'of', ' ', 'colour', ' ', 'covered', ' ', 'up', ' ', 'the', ' ', 'fact--I', ' ', 'just', ' ', 'threw', ' ', 'paint', ' ', 'into', ' ', 'their', ' ', 'faces', '.', '', ' ', '', '.', '', ' ', '', '.', '', ' ', '', '.', '', ' ', 'Well', ',', '', ' ', 'paint', ' ', 'was', ' ', 'the', ' ', 'one', ' ', 'medium', ' ', 'those', ' ', 'dead', ' ', 'eyes', ' ', 'could', ' ', 'see', ' ', 'through--see', ' ', 'straight', ' ', 'to', ' ', 'the', ' ', 'tottering', ' ', 'foundations', ' ', 'underneath', '.', '', ' ', \"Don't\", ' ', 'you', ' ', 'know', ' ', 'how', ',', '', ' ', 'in', ' ', 'talking', ' ', 'a', ' ', 'foreign', ' ', 'language', ',', '', ' ', 'even', ' ', 'fluently', ',', '', ' ', 'one', ' ', 'says', ' ', 'half', ' ', 'the', ' ', 'time', ' ', 'not', ' ', 'what', ' ', 'one', ' ', 'wants', ' ', 'to', ' ', 'but', ' ', 'what', ' ', 'one', ' ', 'can?', ' ', 'Well--that', ' ', 'was', ' ', 'the', ' ', 'way', ' ', 'I', ' ', 'painted;', ' ', 'and', ' ', 'as', ' ', 'he', ' ', 'lay', ' ', 'there', ' ', 'and', ' ', 'watched', ' ', 'me', ',', '', ' ', 'the', ' ', 'thing', ' ', 'they', ' ', 'called', ' ', 'my', ' ', \"'technique'\", ' ', 'collapsed', ' ', 'like', ' ', 'a', ' ', 'house', ' ', 'of', ' ', 'cards', '.', '', ' ', 'He', ' ', \"didn't\", ' ', 'sneer', ',', '', ' ', 'you', ' ', 'understand', ',', '', ' ', 'poor', ' ', 'Stroud--he', ' ', 'just', ' ', 'lay', ' ', 'there', ' ', 'quietly', ' ', 'watching', ',', '', ' ', 'and', ' ', 'on', ' ', 'his', ' ', 'lips', ',', '', ' ', 'through', ' ', 'the', ' ', 'gray', ' ', 'beard', ',', '', ' ', 'I', ' ', 'seemed', ' ', 'to', ' ', 'hear', ' ', 'the', ' ', 'question:', ' ', \"'Are\", ' ', 'you', ' ', 'sure', ' ', 'you', ' ', 'know', ' ', 'where', ' ', \"you're\", ' ', 'coming', ' ', \"out?'\", '\\n', '', '\\n', '\"If', ' ', 'I', ' ', 'could', ' ', 'have', ' ', 'painted', ' ', 'that', ' ', 'face', ',', '', ' ', 'with', ' ', 'that', ' ', 'question', ' ', 'on', ' ', 'it', ',', '', ' ', 'I', ' ', 'should', ' ', 'have', ' ', 'done', ' ', 'a', ' ', 'great', ' ', 'thing', '.', '', ' ', 'The', ' ', 'next', ' ', 'greatest', ' ', 'thing', ' ', 'was', ' ', 'to', ' ', 'see', ' ', 'that', ' ', 'I', ' ', \"couldn't--and\", ' ', 'that', ' ', 'grace', ' ', 'was', ' ', 'given', ' ', 'me', '.', '', ' ', 'But', ',', '', ' ', 'oh', ',', '', ' ', 'at', ' ', 'that', ' ', 'minute', ',', '', ' ', 'Rickham', ',', '', ' ', 'was', ' ', 'there', ' ', 'anything', ' ', 'on', ' ', 'earth', ' ', 'I', ' ', \"wouldn't\", ' ', 'have', ' ', 'given', ' ', 'to', ' ', 'have', ' ', 'Stroud', ' ', 'alive', ' ', 'before', ' ', 'me', ',', '', ' ', 'and', ' ', 'to', ' ', 'hear', ' ', 'him', ' ', 'say:', ' ', \"'It's\", ' ', 'not', ' ', 'too', ' ', \"late--I'll\", ' ', 'show', ' ', 'you', ' ', \"how'?\", '\\n', '', '\\n', '\"It', ' ', '_was_', ' ', 'too', ' ', 'late--it', ' ', 'would', ' ', 'have', ' ', 'been', ',', '', ' ', 'even', ' ', 'if', ' ', \"he'd\", ' ', 'been', ' ', 'alive', '.', '', ' ', 'I', ' ', 'packed', ' ', 'up', ' ', 'my', ' ', 'traps', ',', '', ' ', 'and', ' ', 'went', ' ', 'down', ' ', 'and', ' ', 'told', ' ', 'Mrs', '.', '', ' ', 'Stroud', '.', '', ' ', 'Of', ' ', 'course', ' ', 'I', ' ', \"didn't\", ' ', 'tell', ' ', 'her', ' ', '_that_--it', ' ', 'would', ' ', 'have', ' ', 'been', ' ', 'Greek', ' ', 'to', ' ', 'her', '.', '', ' ', 'I', ' ', 'simply', ' ', 'said', ' ', 'I', ' ', \"couldn't\", ' ', 'paint', ' ', 'him', ',', '', ' ', 'that', ' ', 'I', ' ', 'was', ' ', 'too', ' ', 'moved', '.', '', ' ', 'She', ' ', 'rather', ' ', 'liked', ' ', 'the', ' ', \"idea--she's\", ' ', 'so', ' ', 'romantic!', ' ', 'It', ' ', 'was', ' ', 'that', ' ', 'that', ' ', 'made', ' ', 'her', ' ', 'give', ' ', 'me', ' ', 'the', ' ', 'donkey', '.', '', ' ', 'But', ' ', 'she', ' ', 'was', ' ', 'terribly', ' ', 'upset', ' ', 'at', ' ', 'not', ' ', 'getting', ' ', 'the', ' ', 'portrait--she', ' ', 'did', ' ', 'so', ' ', 'want', ' ', 'him', ' ', \"'done'\", ' ', 'by', ' ', 'some', ' ', 'one', ' ', 'showy!', ' ', 'At', ' ', 'first', ' ', 'I', ' ', 'was', ' ', 'afraid', ' ', 'she', ' ', \"wouldn't\", ' ', 'let', ' ', 'me', ' ', 'off--and', ' ', 'at', ' ', 'my', ' ', \"wits'\", ' ', 'end', ' ', 'I', ' ', 'suggested', ' ', 'Grindle', '.', '', ' ', 'Yes', ',', '', ' ', 'it', ' ', 'was', ' ', 'I', ' ', 'who', ' ', 'started', ' ', 'Grindle:', ' ', 'I', ' ', 'told', ' ', 'Mrs', '.', '', ' ', 'Stroud', ' ', 'he', ' ', 'was', ' ', 'the', ' ', \"'coming'\", ' ', 'man', ',', '', ' ', 'and', ' ', 'she', ' ', 'told', ' ', 'somebody', ' ', 'else', ',', '', ' ', 'and', ' ', 'so', ' ', 'it', ' ', 'got', ' ', 'to', ' ', 'be', ' ', 'true', '.', '', ' ', '', '.', '', ' ', '', '.', '', ' ', '', '.', '', ' ', 'And', ' ', 'he', ' ', 'painted', ' ', 'Stroud', ' ', 'without', ' ', 'wincing;', ' ', 'and', ' ', 'she', ' ', 'hung', ' ', 'the', ' ', 'picture', ' ', 'among', ' ', 'her', ' ', \"husband's\", ' ', 'things', '.', '', ' ', '', '.', '', ' ', '', '.', '', ' ', '', '.', '\"', '\\n', '', '\\n', 'He', ' ', 'flung', ' ', 'himself', ' ', 'down', ' ', 'in', ' ', 'the', ' ', 'arm-chair', ' ', 'near', ' ', 'mine', ',', '', ' ', 'laid', ' ', 'back', ' ', 'his', ' ', 'head', ',', '', ' ', 'and', ' ', 'clasping', ' ', 'his', ' ', 'arms', ' ', 'beneath', ' ', 'it', ',', '', ' ', 'looked', ' ', 'up', ' ', 'at', ' ', 'the', ' ', 'picture', ' ', 'above', ' ', 'the', ' ', 'chimney-piece', '.', '', '\\n', '', '\\n', '\"I', ' ', 'like', ' ', 'to', ' ', 'fancy', ' ', 'that', ' ', 'Stroud', ' ', 'himself', ' ', 'would', ' ', 'have', ' ', 'given', ' ', 'it', ' ', 'to', ' ', 'me', ',', '', ' ', 'if', ' ', \"he'd\", ' ', 'been', ' ', 'able', ' ', 'to', ' ', 'say', ' ', 'what', ' ', 'he', ' ', 'thought', ' ', 'that', ' ', 'day', '.', '\"', '\\n', '', '\\n', 'And', ',', '', ' ', 'in', ' ', 'answer', ' ', 'to', ' ', 'a', ' ', 'question', ' ', 'I', ' ', 'put', ' ', 'half-mechanically--\"Begin', ' ', 'again?\"', ' ', 'he', ' ', 'flashed', ' ', 'out', '.', '', ' ', '\"When', ' ', 'the', ' ', 'one', ' ', 'thing', ' ', 'that', ' ', 'brings', ' ', 'me', ' ', 'anywhere', ' ', 'near', ' ', 'him', ' ', 'is', ' ', 'that', ' ', 'I', ' ', 'knew', ' ', 'enough', ' ', 'to', ' ', 'leave', ' ', 'off?\"', '\\n', '', '\\n', 'He', ' ', 'stood', ' ', 'up', ' ', 'and', ' ', 'laid', ' ', 'his', ' ', 'hand', ' ', 'on', ' ', 'my', ' ', 'shoulder', ' ', 'with', ' ', 'a', ' ', 'laugh', '.', '', ' ', '\"Only', ' ', 'the', ' ', 'irony', ' ', 'of', ' ', 'it', ' ', 'is', ' ', 'that', ' ', 'I', ' ', '_am_', ' ', 'still', ' ', 'painting--since', ' ', \"Grindle's\", ' ', 'doing', ' ', 'it', ' ', 'for', ' ', 'me!', ' ', 'The', ' ', 'Strouds', ' ', 'stand', ' ', 'alone', ',', '', ' ', 'and', ' ', 'happen', ' ', 'once--but', ' ', \"there's\", ' ', 'no', ' ', 'exterminating', ' ', 'our', ' ', 'kind', ' ', 'of', ' ', 'art', '.', '\"']\n"
     ]
    }
   ],
   "execution_count": 9
  },
  {
   "metadata": {
    "ExecuteTime": {
     "end_time": "2025-04-15T06:51:41.538528Z",
     "start_time": "2025-04-15T06:51:41.520020Z"
    }
   },
   "cell_type": "code",
   "source": [
    "result = re.split(r'([,.:;?_!\"()\\']|--|\\s)', raw_text)\n",
    "result = [item.strip() for item in result if item.strip()]\n",
    "print(len(result))"
   ],
   "id": "9da08fdd9bff60e3",
   "outputs": [
    {
     "name": "stdout",
     "output_type": "stream",
     "text": [
      "4690\n"
     ]
    }
   ],
   "execution_count": 10
  },
  {
   "metadata": {
    "ExecuteTime": {
     "end_time": "2025-04-15T08:05:12.293085Z",
     "start_time": "2025-04-15T08:05:12.283830Z"
    }
   },
   "cell_type": "code",
   "source": [
    "vocabulary_text = sorted(set(result))\n",
    "print(len(vocabulary_text))"
   ],
   "id": "bd7dbb779c1d3e7e",
   "outputs": [
    {
     "name": "stdout",
     "output_type": "stream",
     "text": [
      "1130\n"
     ]
    }
   ],
   "execution_count": 39
  },
  {
   "metadata": {
    "ExecuteTime": {
     "end_time": "2025-04-15T06:58:15.014094Z",
     "start_time": "2025-04-15T06:58:15.007791Z"
    }
   },
   "cell_type": "code",
   "source": [
    "vocabulary = {text:token for token,text in enumerate(vocabulary_text)}\n",
    "print(vocabulary)"
   ],
   "id": "3d269aafdb7ca122",
   "outputs": [
    {
     "name": "stdout",
     "output_type": "stream",
     "text": [
      "{'!': 0, '\"': 1, \"'\": 2, '(': 3, ')': 4, ',': 5, '--': 6, '.': 7, ':': 8, ';': 9, '?': 10, 'A': 11, 'Ah': 12, 'Among': 13, 'And': 14, 'Are': 15, 'Arrt': 16, 'As': 17, 'At': 18, 'Be': 19, 'Begin': 20, 'Burlington': 21, 'But': 22, 'By': 23, 'Carlo': 24, 'Chicago': 25, 'Claude': 26, 'Come': 27, 'Croft': 28, 'Destroyed': 29, 'Devonshire': 30, 'Don': 31, 'Dubarry': 32, 'Emperors': 33, 'Florence': 34, 'For': 35, 'Gallery': 36, 'Gideon': 37, 'Gisburn': 38, 'Gisburns': 39, 'Grafton': 40, 'Greek': 41, 'Grindle': 42, 'Grindles': 43, 'HAD': 44, 'Had': 45, 'Hang': 46, 'Has': 47, 'He': 48, 'Her': 49, 'Hermia': 50, 'His': 51, 'How': 52, 'I': 53, 'If': 54, 'In': 55, 'It': 56, 'Jack': 57, 'Jove': 58, 'Just': 59, 'Lord': 60, 'Made': 61, 'Miss': 62, 'Money': 63, 'Monte': 64, 'Moon-dancers': 65, 'Mr': 66, 'Mrs': 67, 'My': 68, 'Never': 69, 'No': 70, 'Now': 71, 'Nutley': 72, 'Of': 73, 'Oh': 74, 'On': 75, 'Once': 76, 'Only': 77, 'Or': 78, 'Perhaps': 79, 'Poor': 80, 'Professional': 81, 'Renaissance': 82, 'Rickham': 83, 'Riviera': 84, 'Rome': 85, 'Russian': 86, 'Sevres': 87, 'She': 88, 'Stroud': 89, 'Strouds': 90, 'Suddenly': 91, 'That': 92, 'The': 93, 'Then': 94, 'There': 95, 'They': 96, 'This': 97, 'Those': 98, 'Though': 99, 'Thwing': 100, 'Thwings': 101, 'To': 102, 'Usually': 103, 'Venetian': 104, 'Victor': 105, 'Was': 106, 'We': 107, 'Well': 108, 'What': 109, 'When': 110, 'Why': 111, 'Yes': 112, 'You': 113, '_': 114, 'a': 115, 'abdication': 116, 'able': 117, 'about': 118, 'above': 119, 'abruptly': 120, 'absolute': 121, 'absorbed': 122, 'absurdity': 123, 'academic': 124, 'accuse': 125, 'accustomed': 126, 'across': 127, 'activity': 128, 'add': 129, 'added': 130, 'admirers': 131, 'adopted': 132, 'adulation': 133, 'advance': 134, 'aesthetic': 135, 'affect': 136, 'afraid': 137, 'after': 138, 'afterward': 139, 'again': 140, 'ago': 141, 'ah': 142, 'air': 143, 'alive': 144, 'all': 145, 'almost': 146, 'alone': 147, 'along': 148, 'always': 149, 'am': 150, 'amazement': 151, 'amid': 152, 'among': 153, 'amplest': 154, 'amusing': 155, 'an': 156, 'and': 157, 'another': 158, 'answer': 159, 'answered': 160, 'any': 161, 'anything': 162, 'anywhere': 163, 'apparent': 164, 'apparently': 165, 'appearance': 166, 'appeared': 167, 'appointed': 168, 'are': 169, 'arm': 170, 'arm-chair': 171, 'arm-chairs': 172, 'arms': 173, 'art': 174, 'articles': 175, 'artist': 176, 'as': 177, 'aside': 178, 'asked': 179, 'at': 180, 'atmosphere': 181, 'atom': 182, 'attack': 183, 'attention': 184, 'attitude': 185, 'audacities': 186, 'away': 187, 'awful': 188, 'axioms': 189, 'azaleas': 190, 'back': 191, 'background': 192, 'balance': 193, 'balancing': 194, 'balustraded': 195, 'basking': 196, 'bath-rooms': 197, 'be': 198, 'beaming': 199, 'bean-stalk': 200, 'bear': 201, 'beard': 202, 'beauty': 203, 'became': 204, 'because': 205, 'becoming': 206, 'bed': 207, 'been': 208, 'before': 209, 'began': 210, 'begun': 211, 'behind': 212, 'being': 213, 'believed': 214, 'beneath': 215, 'bespoke': 216, 'better': 217, 'between': 218, 'big': 219, 'bits': 220, 'bitterness': 221, 'blocked': 222, 'born': 223, 'borne': 224, 'boudoir': 225, 'bravura': 226, 'break': 227, 'breaking': 228, 'breathing': 229, 'bric-a-brac': 230, 'briefly': 231, 'brings': 232, 'bronzes': 233, 'brought': 234, 'brown': 235, 'brush': 236, 'bull': 237, 'business': 238, 'but': 239, 'buying': 240, 'by': 241, 'called': 242, 'came': 243, 'can': 244, 'canvas': 245, 'canvases': 246, 'cards': 247, 'care': 248, 'career': 249, 'caught': 250, 'central': 251, 'chair': 252, 'chap': 253, 'characteristic': 254, 'charming': 255, 'cheap': 256, 'check': 257, 'cheeks': 258, 'chest': 259, 'chimney-piece': 260, 'chucked': 261, 'cigar': 262, 'cigarette': 263, 'cigars': 264, 'circulation': 265, 'circumstance': 266, 'circus-clown': 267, 'claimed': 268, 'clasping': 269, 'clear': 270, 'cleverer': 271, 'close': 272, 'clue': 273, 'coat': 274, 'collapsed': 275, 'colour': 276, 'come': 277, 'comfortable': 278, 'coming': 279, 'companion': 280, 'compared': 281, 'complex': 282, 'confident': 283, 'congesting': 284, 'conjugal': 285, 'constraint': 286, 'consummate': 287, 'contended': 288, 'continued': 289, 'corner': 290, 'corrected': 291, 'could': 292, 'couldn': 293, 'count': 294, 'countenance': 295, 'couple': 296, 'course': 297, 'covered': 298, 'craft': 299, 'cried': 300, 'crossed': 301, 'crowned': 302, 'crumbled': 303, 'cry': 304, 'cured': 305, 'curiosity': 306, 'curious': 307, 'current': 308, 'curtains': 309, 'd': 310, 'dabble': 311, 'damask': 312, 'dark': 313, 'dashed': 314, 'day': 315, 'days': 316, 'dead': 317, 'deadening': 318, 'dear': 319, 'deep': 320, 'deerhound': 321, 'degree': 322, 'delicate': 323, 'demand': 324, 'denied': 325, 'deploring': 326, 'deprecating': 327, 'deprecatingly': 328, 'desire': 329, 'destroyed': 330, 'destruction': 331, 'desultory': 332, 'detail': 333, 'diagnosis': 334, 'did': 335, 'didn': 336, 'died': 337, 'dim': 338, 'dimmest': 339, 'dingy': 340, 'dining-room': 341, 'disarming': 342, 'discovery': 343, 'discrimination': 344, 'discussion': 345, 'disdain': 346, 'disdained': 347, 'disease': 348, 'disguised': 349, 'display': 350, 'dissatisfied': 351, 'distinguished': 352, 'distract': 353, 'divert': 354, 'do': 355, 'doesn': 356, 'doing': 357, 'domestic': 358, 'don': 359, 'done': 360, 'donkey': 361, 'down': 362, 'dozen': 363, 'dragged': 364, 'drawing-room': 365, 'drawing-rooms': 366, 'drawn': 367, 'dress-closets': 368, 'drew': 369, 'dropped': 370, 'each': 371, 'earth': 372, 'ease': 373, 'easel': 374, 'easy': 375, 'echoed': 376, 'economy': 377, 'effect': 378, 'effects': 379, 'efforts': 380, 'egregious': 381, 'eighteenth-century': 382, 'elbow': 383, 'elegant': 384, 'else': 385, 'embarrassed': 386, 'enabled': 387, 'end': 388, 'endless': 389, 'enjoy': 390, 'enlightenment': 391, 'enough': 392, 'ensuing': 393, 'equally': 394, 'equanimity': 395, 'escape': 396, 'established': 397, 'etching': 398, 'even': 399, 'event': 400, 'ever': 401, 'everlasting': 402, 'every': 403, 'exasperated': 404, 'except': 405, 'excuse': 406, 'excusing': 407, 'existed': 408, 'expected': 409, 'exquisite': 410, 'exquisitely': 411, 'extenuation': 412, 'exterminating': 413, 'extracting': 414, 'eye': 415, 'eyebrows': 416, 'eyes': 417, 'face': 418, 'faces': 419, 'fact': 420, 'faded': 421, 'failed': 422, 'failure': 423, 'fair': 424, 'faith': 425, 'false': 426, 'familiar': 427, 'famille-verte': 428, 'fancy': 429, 'fashionable': 430, 'fate': 431, 'feather': 432, 'feet': 433, 'fell': 434, 'fellow': 435, 'felt': 436, 'few': 437, 'fewer': 438, 'finality': 439, 'find': 440, 'fingers': 441, 'first': 442, 'fit': 443, 'fitting': 444, 'five': 445, 'flash': 446, 'flashed': 447, 'florid': 448, 'flowers': 449, 'fluently': 450, 'flung': 451, 'follow': 452, 'followed': 453, 'fond': 454, 'footstep': 455, 'for': 456, 'forced': 457, 'forcing': 458, 'forehead': 459, 'foreign': 460, 'foreseen': 461, 'forgive': 462, 'forgotten': 463, 'form': 464, 'formed': 465, 'forming': 466, 'forward': 467, 'fostered': 468, 'found': 469, 'foundations': 470, 'fragment': 471, 'fragments': 472, 'frame': 473, 'frames': 474, 'frequently': 475, 'friend': 476, 'from': 477, 'full': 478, 'fullest': 479, 'furiously': 480, 'furrowed': 481, 'garlanded': 482, 'garlands': 483, 'gave': 484, 'genial': 485, 'genius': 486, 'gesture': 487, 'get': 488, 'getting': 489, 'give': 490, 'given': 491, 'glad': 492, 'glanced': 493, 'glimpse': 494, 'gloried': 495, 'glory': 496, 'go': 497, 'going': 498, 'gone': 499, 'good': 500, 'good-breeding': 501, 'good-humoured': 502, 'got': 503, 'grace': 504, 'gradually': 505, 'gray': 506, 'grayish': 507, 'great': 508, 'greatest': 509, 'greatness': 510, 'grew': 511, 'groping': 512, 'growing': 513, 'had': 514, 'hadn': 515, 'hair': 516, 'half': 517, 'half-light': 518, 'half-mechanically': 519, 'hall': 520, 'hand': 521, 'hands': 522, 'handsome': 523, 'hanging': 524, 'happen': 525, 'happened': 526, 'hard': 527, 'hardly': 528, 'has': 529, 'have': 530, 'haven': 531, 'having': 532, 'he': 533, 'head': 534, 'hear': 535, 'heard': 536, 'heart': 537, 'height': 538, 'her': 539, 'here': 540, 'hermit': 541, 'herself': 542, 'hesitations': 543, 'hide': 544, 'high': 545, 'him': 546, 'himself': 547, 'hint': 548, 'his': 549, 'history': 550, 'holding': 551, 'home': 552, 'honour': 553, 'hooded': 554, 'hostess': 555, 'hot-house': 556, 'hour': 557, 'hours': 558, 'house': 559, 'how': 560, 'hung': 561, 'husband': 562, 'idea': 563, 'idle': 564, 'idling': 565, 'if': 566, 'immediately': 567, 'in': 568, 'incense': 569, 'indifferent': 570, 'inevitable': 571, 'inevitably': 572, 'inflexible': 573, 'insensible': 574, 'insignificant': 575, 'instinctively': 576, 'instructive': 577, 'interesting': 578, 'into': 579, 'ironic': 580, 'irony': 581, 'irrelevance': 582, 'irrevocable': 583, 'is': 584, 'it': 585, 'its': 586, 'itself': 587, 'jardiniere': 588, 'jealousy': 589, 'just': 590, 'keep': 591, 'kept': 592, 'kind': 593, 'knees': 594, 'knew': 595, 'know': 596, 'known': 597, 'laid': 598, 'lair': 599, 'landing': 600, 'language': 601, 'last': 602, 'late': 603, 'later': 604, 'latter': 605, 'laugh': 606, 'laughed': 607, 'lay': 608, 'leading': 609, 'lean': 610, 'learned': 611, 'least': 612, 'leathery': 613, 'leave': 614, 'led': 615, 'left': 616, 'leisure': 617, 'lends': 618, 'lent': 619, 'let': 620, 'lies': 621, 'life': 622, 'life-likeness': 623, 'lift': 624, 'lifted': 625, 'light': 626, 'lightly': 627, 'like': 628, 'liked': 629, 'line': 630, 'lines': 631, 'lingered': 632, 'lips': 633, 'lit': 634, 'little': 635, 'live': 636, 'll': 637, 'loathing': 638, 'long': 639, 'longed': 640, 'longer': 641, 'look': 642, 'looked': 643, 'looking': 644, 'lose': 645, 'loss': 646, 'lounging': 647, 'lovely': 648, 'lucky': 649, 'lump': 650, 'luncheon-table': 651, 'luxury': 652, 'lying': 653, 'made': 654, 'make': 655, 'man': 656, 'manage': 657, 'managed': 658, 'mantel-piece': 659, 'marble': 660, 'married': 661, 'may': 662, 'me': 663, 'meant': 664, 'mediocrity': 665, 'medium': 666, 'mentioned': 667, 'mere': 668, 'merely': 669, 'met': 670, 'might': 671, 'mighty': 672, 'millionaire': 673, 'mine': 674, 'minute': 675, 'minutes': 676, 'mirrors': 677, 'modest': 678, 'modesty': 679, 'moment': 680, 'money': 681, 'monumental': 682, 'mood': 683, 'morbidly': 684, 'more': 685, 'most': 686, 'mourn': 687, 'mourned': 688, 'moustache': 689, 'moved': 690, 'much': 691, 'muddling': 692, 'multiplied': 693, 'murmur': 694, 'muscles': 695, 'must': 696, 'my': 697, 'myself': 698, 'mysterious': 699, 'naive': 700, 'near': 701, 'nearly': 702, 'negatived': 703, 'nervous': 704, 'nervousness': 705, 'neutral': 706, 'never': 707, 'next': 708, 'no': 709, 'none': 710, 'not': 711, 'note': 712, 'nothing': 713, 'now': 714, 'nymphs': 715, 'oak': 716, 'obituary': 717, 'object': 718, 'objects': 719, 'occurred': 720, 'oddly': 721, 'of': 722, 'off': 723, 'often': 724, 'oh': 725, 'old': 726, 'on': 727, 'once': 728, 'one': 729, 'ones': 730, 'only': 731, 'onto': 732, 'open': 733, 'or': 734, 'other': 735, 'our': 736, 'ourselves': 737, 'out': 738, 'outline': 739, 'oval': 740, 'over': 741, 'own': 742, 'packed': 743, 'paid': 744, 'paint': 745, 'painted': 746, 'painter': 747, 'painting': 748, 'pale': 749, 'paled': 750, 'palm-trees': 751, 'panel': 752, 'panelling': 753, 'pardonable': 754, 'pardoned': 755, 'part': 756, 'passages': 757, 'passing': 758, 'past': 759, 'pastels': 760, 'pathos': 761, 'patient': 762, 'people': 763, 'perceptible': 764, 'perfect': 765, 'persistence': 766, 'persuasively': 767, 'phrase': 768, 'picture': 769, 'pictures': 770, 'pines': 771, 'pink': 772, 'place': 773, 'placed': 774, 'plain': 775, 'platitudes': 776, 'pleased': 777, 'pockets': 778, 'point': 779, 'poised': 780, 'poor': 781, 'portrait': 782, 'posing': 783, 'possessed': 784, 'poverty': 785, 'predicted': 786, 'preliminary': 787, 'presenting': 788, 'prestidigitation': 789, 'pretty': 790, 'previous': 791, 'price': 792, 'pride': 793, 'princely': 794, 'prism': 795, 'problem': 796, 'proclaiming': 797, 'prodigious': 798, 'profusion': 799, 'protest': 800, 'prove': 801, 'public': 802, 'purblind': 803, 'purely': 804, 'pushed': 805, 'put': 806, 'qualities': 807, 'quality': 808, 'queerly': 809, 'question': 810, 'quickly': 811, 'quietly': 812, 'quite': 813, 'quote': 814, 'rain': 815, 'raised': 816, 'random': 817, 'rather': 818, 're': 819, 'real': 820, 'really': 821, 'reared': 822, 'reason': 823, 'reassurance': 824, 'recovering': 825, 'recreated': 826, 'reflected': 827, 'reflection': 828, 'regrets': 829, 'relatively': 830, 'remained': 831, 'remember': 832, 'reminded': 833, 'repeating': 834, 'represented': 835, 'reproduction': 836, 'resented': 837, 'resolve': 838, 'resources': 839, 'rest': 840, 'rich': 841, 'ridiculous': 842, 'robbed': 843, 'romantic': 844, 'room': 845, 'rose': 846, 'rs': 847, 'rule': 848, 'run': 849, 's': 850, 'said': 851, 'same': 852, 'satisfaction': 853, 'savour': 854, 'saw': 855, 'say': 856, 'saying': 857, 'says': 858, 'scorn': 859, 'scornful': 860, 'secret': 861, 'see': 862, 'seemed': 863, 'seen': 864, 'self-confident': 865, 'send': 866, 'sensation': 867, 'sensitive': 868, 'sent': 869, 'serious': 870, 'set': 871, 'sex': 872, 'shade': 873, 'shaking': 874, 'shall': 875, 'she': 876, 'shirked': 877, 'short': 878, 'should': 879, 'shoulder': 880, 'shoulders': 881, 'show': 882, 'showed': 883, 'showy': 884, 'shrug': 885, 'shrugged': 886, 'sight': 887, 'sign': 888, 'silent': 889, 'silver': 890, 'similar': 891, 'simpleton': 892, 'simplifications': 893, 'simply': 894, 'since': 895, 'single': 896, 'sitter': 897, 'sitters': 898, 'sketch': 899, 'skill': 900, 'slight': 901, 'slightly': 902, 'slowly': 903, 'small': 904, 'smile': 905, 'smiling': 906, 'sneer': 907, 'so': 908, 'solace': 909, 'some': 910, 'somebody': 911, 'something': 912, 'spacious': 913, 'spaniel': 914, 'speaking-tubes': 915, 'speculations': 916, 'spite': 917, 'splash': 918, 'square': 919, 'stairs': 920, 'stammer': 921, 'stand': 922, 'standing': 923, 'started': 924, 'stay': 925, 'still': 926, 'stocked': 927, 'stood': 928, 'stopped': 929, 'stopping': 930, 'straddling': 931, 'straight': 932, 'strain': 933, 'straining': 934, 'strange': 935, 'straw': 936, 'stream': 937, 'stroke': 938, 'strokes': 939, 'strolled': 940, 'strongest': 941, 'strongly': 942, 'struck': 943, 'studio': 944, 'stuff': 945, 'subject': 946, 'substantial': 947, 'suburban': 948, 'such': 949, 'suddenly': 950, 'suffered': 951, 'sugar': 952, 'suggested': 953, 'sunburn': 954, 'sunburnt': 955, 'sunlit': 956, 'superb': 957, 'sure': 958, 'surest': 959, 'surface': 960, 'surprise': 961, 'surprised': 962, 'surrounded': 963, 'suspected': 964, 'sweetly': 965, 'sweetness': 966, 'swelling': 967, 'swept': 968, 'swum': 969, 't': 970, 'table': 971, 'take': 972, 'taken': 973, 'talking': 974, 'tea': 975, 'tears': 976, 'technicalities': 977, 'technique': 978, 'tell': 979, 'tells': 980, 'tempting': 981, 'terra-cotta': 982, 'terrace': 983, 'terraces': 984, 'terribly': 985, 'than': 986, 'that': 987, 'the': 988, 'their': 989, 'them': 990, 'then': 991, 'there': 992, 'therefore': 993, 'they': 994, 'thin': 995, 'thing': 996, 'things': 997, 'think': 998, 'this': 999, 'thither': 1000, 'those': 1001, 'though': 1002, 'thought': 1003, 'three': 1004, 'threshold': 1005, 'threw': 1006, 'through': 1007, 'throwing': 1008, 'tie': 1009, 'till': 1010, 'time': 1011, 'timorously': 1012, 'tinge': 1013, 'tips': 1014, 'tired': 1015, 'to': 1016, 'told': 1017, 'tone': 1018, 'tones': 1019, 'too': 1020, 'took': 1021, 'tottering': 1022, 'touched': 1023, 'toward': 1024, 'trace': 1025, 'trade': 1026, 'transmute': 1027, 'traps': 1028, 'travelled': 1029, 'tribute': 1030, 'tributes': 1031, 'tricks': 1032, 'tried': 1033, 'trouser-presses': 1034, 'true': 1035, 'truth': 1036, 'turned': 1037, 'twenty': 1038, 'twenty-four': 1039, 'twice': 1040, 'twirling': 1041, 'unaccountable': 1042, 'uncertain': 1043, 'under': 1044, 'underlay': 1045, 'underneath': 1046, 'understand': 1047, 'unexpected': 1048, 'untouched': 1049, 'unusual': 1050, 'up': 1051, 'up-stream': 1052, 'upon': 1053, 'upset': 1054, 'upstairs': 1055, 'us': 1056, 'used': 1057, 'usual': 1058, 'value': 1059, 'varnishing': 1060, 'vases': 1061, 've': 1062, 'veins': 1063, 'velveteen': 1064, 'very': 1065, 'villa': 1066, 'vindicated': 1067, 'virtuosity': 1068, 'vista': 1069, 'vocation': 1070, 'voice': 1071, 'wall': 1072, 'wander': 1073, 'want': 1074, 'wanted': 1075, 'wants': 1076, 'was': 1077, 'wasn': 1078, 'watched': 1079, 'watching': 1080, 'water-colour': 1081, 'waves': 1082, 'way': 1083, 'weekly': 1084, 'weeks': 1085, 'welcome': 1086, 'went': 1087, 'were': 1088, 'what': 1089, 'when': 1090, 'whenever': 1091, 'where': 1092, 'which': 1093, 'while': 1094, 'white': 1095, 'white-panelled': 1096, 'who': 1097, 'whole': 1098, 'whom': 1099, 'why': 1100, 'wide': 1101, 'widow': 1102, 'wife': 1103, 'wild': 1104, 'wincing': 1105, 'window-curtains': 1106, 'wish': 1107, 'with': 1108, 'without': 1109, 'wits': 1110, 'woman': 1111, 'women': 1112, 'won': 1113, 'wonder': 1114, 'wondered': 1115, 'word': 1116, 'work': 1117, 'working': 1118, 'worth': 1119, 'would': 1120, 'wouldn': 1121, 'year': 1122, 'years': 1123, 'yellow': 1124, 'yet': 1125, 'you': 1126, 'younger': 1127, 'your': 1128, 'yourself': 1129}\n"
     ]
    }
   ],
   "execution_count": 15
  },
  {
   "metadata": {},
   "cell_type": "code",
   "outputs": [],
   "execution_count": null,
   "source": "",
   "id": "4ec037e4506b12b9"
  },
  {
   "metadata": {},
   "cell_type": "markdown",
   "source": [
    "   preprocessed = [\n",
    "            item.strip() for item in preprocessed if item.strip()\n",
    "        ]\n",
    "\n",
    "this line is for removing empty strings"
   ],
   "id": "a6418b7684fed76c"
  },
  {
   "metadata": {
    "ExecuteTime": {
     "end_time": "2025-04-15T07:42:09.590931Z",
     "start_time": "2025-04-15T07:42:09.585374Z"
    }
   },
   "cell_type": "code",
   "source": [
    "class SimpleTokenizer:\n",
    "    def __init__(self, vocabulary):\n",
    "        self.str_to_int = vocabulary\n",
    "        self.int_to_str = {token:text for text,token in vocabulary.items()}\n",
    "\n",
    "    def encode(self,text):\n",
    "        prepossed = re.split(r'([,.:;?_!\"()\\']|--|\\s)', text)\n",
    "\n",
    "        prepossed = [item.strip() for item in prepossed if item.strip()]\n",
    "\n",
    "        tokens = [self.str_to_int[x] for x in prepossed]\n",
    "\n",
    "        return tokens\n",
    "\n",
    "    def decode(self,tokens):\n",
    "        text = \" \".join([self.int_to_str[i] for i in tokens])\n",
    "        text = re.sub(r'\\s+([,.?!\"()\\'])', r'\\1', text)\n",
    "        return text\n",
    "\n",
    "    #I didnt give much thought on re\n"
   ],
   "id": "98b5829844a66d76",
   "outputs": [],
   "execution_count": 24
  },
  {
   "metadata": {
    "ExecuteTime": {
     "end_time": "2025-04-15T07:42:11.377515Z",
     "start_time": "2025-04-15T07:42:11.366948Z"
    }
   },
   "cell_type": "code",
   "source": [
    "tokenizer = SimpleTokenizer(vocabulary)\n",
    "\n",
    "token = tokenizer.encode(raw_text)\n",
    "print(token)"
   ],
   "id": "f38e9f108e1fc88d",
   "outputs": [
    {
     "name": "stdout",
     "output_type": "stream",
     "text": [
      "[53, 44, 149, 1003, 57, 38, 818, 115, 256, 486, 6, 1002, 115, 500, 435, 392, 6, 908, 585, 1077, 709, 508, 961, 1016, 663, 1016, 535, 987, 5, 568, 988, 538, 722, 549, 496, 5, 533, 514, 370, 549, 748, 5, 661, 115, 841, 1102, 5, 157, 397, 547, 568, 115, 1066, 727, 988, 84, 7, 3, 99, 53, 818, 1003, 585, 1120, 530, 208, 85, 734, 34, 7, 4, 1, 93, 538, 722, 549, 496, 1, 6, 987, 1077, 1089, 988, 1112, 242, 585, 7, 53, 244, 535, 67, 7, 37, 100, 6, 549, 602, 25, 897, 6, 326, 549, 1042, 116, 7, 1, 73, 297, 585, 2, 850, 498, 1016, 866, 988, 1059, 722, 697, 769, 2, 1083, 1051, 9, 239, 53, 359, 2, 970, 998, 722, 987, 5, 66, 7, 83, 6, 988, 646, 1016, 16, 584, 145, 53, 998, 722, 7, 1, 93, 1116, 5, 727, 67, 7, 100, 2, 850, 633, 5, 693, 586, 114, 847, 114, 177, 1002, 994, 1088, 827, 568, 156, 389, 1069, 722, 677, 7, 14, 585, 1077, 711, 731, 988, 67, 7, 101, 1097, 688, 7, 45, 711, 988, 410, 50, 28, 5, 180, 988, 602, 40, 36, 882, 5, 929, 663, 209, 38, 2, 850, 1, 65, 1, 1016, 856, 5, 1108, 976, 568, 539, 417, 8, 1, 107, 875, 711, 642, 1053, 586, 628, 140, 1, 10, 108, 0, 6, 399, 1007, 988, 795, 722, 50, 2, 850, 976, 53, 436, 117, 1016, 418, 988, 420, 1108, 395, 7, 80, 57, 38, 0, 93, 1112, 514, 654, 546, 6, 585, 1077, 444, 987, 994, 879, 687, 546, 7, 13, 549, 742, 872, 438, 829, 1088, 536, 5, 157, 568, 549, 742, 1026, 528, 115, 694, 7, 81, 589, 10, 79, 7, 54, 585, 1088, 5, 988, 553, 722, 988, 299, 1077, 1067, 241, 635, 26, 72, 5, 1097, 5, 568, 145, 500, 425, 5, 234, 738, 568, 988, 21, 115, 1065, 523, 1, 717, 1, 727, 57, 6, 729, 722, 1001, 884, 175, 927, 1108, 817, 977, 987, 53, 530, 536, 3, 53, 1113, 2, 970, 856, 241, 1099, 4, 281, 1016, 38, 2, 850, 748, 7, 14, 908, 6, 549, 838, 213, 165, 583, 6, 988, 345, 505, 337, 738, 5, 157, 5, 177, 67, 7, 100, 514, 786, 5, 988, 792, 722, 1, 39, 1, 1087, 1051, 7, 56, 1077, 711, 1010, 1004, 1123, 604, 987, 5, 568, 988, 297, 722, 115, 437, 1085, 2, 565, 727, 988, 84, 5, 585, 950, 720, 1016, 663, 1016, 1114, 1100, 38, 514, 491, 1051, 549, 748, 7, 75, 828, 5, 585, 821, 1077, 115, 981, 796, 7, 102, 125, 549, 1103, 1120, 530, 208, 1020, 375, 6, 549, 424, 898, 514, 208, 325, 988, 909, 722, 857, 987, 67, 7, 38, 514, 1, 364, 546, 362, 7, 1, 35, 67, 7, 38, 6, 177, 949, 6, 514, 711, 408, 1010, 702, 115, 1122, 138, 57, 2, 850, 838, 514, 208, 973, 7, 56, 671, 198, 987, 533, 514, 661, 539, 6, 895, 533, 629, 549, 373, 6, 205, 533, 336, 2, 970, 1074, 1016, 497, 727, 748, 9, 239, 585, 1120, 530, 208, 527, 1016, 801, 987, 533, 514, 491, 1051, 549, 748, 205, 533, 514, 661, 539, 7, 73, 297, 5, 566, 876, 514, 711, 364, 546, 362, 5, 876, 514, 394, 5, 177, 62, 28, 288, 5, 422, 1016, 1, 624, 546, 1051, 1, 6, 876, 514, 711, 615, 546, 191, 1016, 988, 374, 7, 102, 806, 988, 236, 579, 549, 521, 140, 6, 1089, 115, 1070, 456, 115, 1103, 0, 22, 67, 7, 38, 167, 1016, 530, 347, 585, 6, 157, 53, 436, 585, 671, 198, 578, 1016, 440, 738, 1100, 7, 93, 332, 622, 722, 988, 84, 618, 587, 1016, 949, 804, 124, 916, 9, 157, 532, 5, 727, 697, 1083, 1016, 64, 24, 5, 250, 115, 494, 722, 57, 2, 850, 195, 984, 218, 988, 771, 5, 53, 514, 698, 224, 1000, 988, 708, 315, 7, 53, 469, 988, 296, 180, 975, 215, 989, 751, 9, 157, 67, 7, 38, 2, 850, 1086, 1077, 908, 485, 987, 5, 568, 988, 393, 1085, 5, 53, 268, 585, 475, 7, 56, 1077, 711, 987, 697, 555, 1077, 1, 578, 1, 8, 727, 987, 779, 53, 292, 530, 491, 62, 28, 988, 479, 824, 7, 56, 1077, 590, 205, 876, 1077, 114, 711, 114, 578, 6, 566, 53, 662, 198, 755, 988, 237, 6, 987, 53, 469, 539, 908, 7, 35, 57, 5, 145, 549, 622, 5, 514, 208, 963, 241, 578, 1112, 8, 994, 514, 468, 549, 174, 5, 585, 514, 208, 822, 568, 988, 556, 722, 989, 133, 7, 14, 585, 1077, 993, 577, 1016, 712, 1089, 378, 988, 1, 318, 181, 722, 665, 1, 3, 53, 814, 62, 28, 4, 1077, 532, 727, 546, 7, 53, 530, 667, 987, 67, 7, 38, 1077, 841, 9, 157, 585, 1077, 567, 764, 987, 539, 562, 1077, 414, 477, 999, 266, 115, 323, 239, 947, 853, 7, 56, 584, 5, 177, 115, 848, 5, 988, 763, 1097, 859, 681, 1097, 488, 686, 738, 722, 585, 9, 157, 57, 2, 850, 384, 346, 722, 549, 1103, 2, 850, 219, 193, 387, 546, 5, 1108, 156, 166, 722, 765, 501, 5, 1016, 1027, 585, 579, 719, 722, 174, 157, 652, 7, 102, 988, 605, 5, 53, 696, 129, 5, 533, 831, 830, 570, 9, 239, 533, 1077, 240, 82, 233, 157, 382, 770, 1108, 115, 344, 987, 216, 988, 154, 839, 7, 1, 63, 2, 850, 731, 406, 584, 1016, 806, 203, 579, 265, 5, 1, 1077, 729, 722, 988, 189, 533, 598, 362, 127, 988, 87, 157, 890, 722, 156, 411, 168, 651, 5, 1090, 5, 727, 115, 604, 315, 5, 53, 514, 140, 849, 741, 477, 64, 24, 9, 157, 67, 7, 38, 5, 199, 727, 546, 5, 130, 456, 697, 391, 8, 1, 57, 584, 908, 684, 868, 1016, 403, 464, 722, 203, 7, 1, 80, 57, 0, 56, 514, 149, 208, 549, 431, 1016, 530, 1112, 856, 949, 997, 722, 546, 8, 988, 420, 879, 198, 871, 362, 568, 412, 7, 109, 943, 663, 714, 1077, 987, 5, 456, 988, 442, 1011, 5, 533, 837, 988, 1018, 7, 53, 514, 864, 546, 5, 908, 724, 5, 196, 1044, 891, 1031, 6, 1077, 585, 988, 285, 712, 987, 843, 990, 722, 989, 854, 10, 70, 6, 456, 5, 721, 392, 5, 585, 204, 164, 987, 533, 1077, 454, 722, 67, 7, 38, 6, 454, 392, 711, 1016, 862, 539, 123, 7, 56, 1077, 549, 742, 123, 533, 863, 1016, 198, 1105, 1044, 6, 549, 742, 185, 177, 156, 718, 456, 483, 157, 569, 7, 1, 68, 319, 5, 895, 53, 2, 1062, 261, 748, 763, 359, 2, 970, 856, 987, 945, 118, 663, 6, 994, 856, 585, 118, 105, 42, 5, 1, 1077, 549, 731, 800, 5, 177, 533, 846, 477, 988, 971, 157, 940, 738, 732, 988, 956, 983, 7, 53, 493, 138, 546, 5, 943, 241, 549, 602, 1116, 7, 105, 42, 1077, 5, 568, 420, 5, 206, 988, 656, 722, 988, 680, 6, 177, 57, 547, 5, 729, 671, 806, 585, 5, 514, 208, 988, 656, 722, 988, 557, 7, 93, 1127, 176, 1077, 851, 1016, 530, 465, 547, 180, 697, 476, 2, 850, 433, 5, 157, 53, 1115, 566, 115, 1013, 722, 589, 1045, 988, 605, 2, 850, 699, 116, 7, 22, 709, 6, 456, 585, 1077, 711, 1010, 138, 987, 400, 987, 988, 114, 846, 32, 114, 366, 514, 211, 1016, 350, 989, 1, 43, 7, 1, 53, 1037, 1016, 67, 7, 38, 5, 1097, 514, 632, 1016, 490, 115, 650, 722, 952, 1016, 539, 914, 568, 988, 341, 7, 1, 111, 114, 529, 114, 533, 261, 748, 10, 1, 53, 179, 120, 7, 88, 816, 539, 416, 1108, 115, 548, 722, 502, 961, 7, 1, 74, 5, 533, 356, 2, 970, 114, 530, 114, 1016, 714, 5, 1126, 596, 9, 157, 53, 1074, 546, 1016, 390, 547, 5, 1, 876, 851, 813, 894, 7, 53, 643, 118, 988, 913, 1096, 845, 5, 1108, 586, 114, 428, 114, 1061, 834, 988, 1019, 722, 988, 749, 312, 309, 5, 157, 586, 382, 760, 568, 323, 421, 474, 7, 1, 47, 533, 261, 549, 770, 1020, 10, 53, 531, 2, 970, 864, 115, 896, 729, 568, 988, 559, 7, 1, 11, 901, 873, 722, 286, 301, 67, 7, 38, 2, 850, 733, 295, 7, 1, 56, 2, 850, 549, 842, 679, 5, 1126, 596, 7, 48, 858, 994, 2, 819, 711, 443, 1016, 530, 118, 9, 533, 2, 850, 869, 990, 145, 187, 405, 729, 6, 697, 782, 6, 157, 987, 53, 530, 1016, 591, 1055, 7, 1, 51, 842, 679, 6, 57, 2, 850, 679, 118, 549, 770, 10, 68, 306, 1077, 513, 628, 988, 200, 7, 53, 851, 767, 1016, 697, 555, 8, 1, 53, 696, 821, 862, 1128, 782, 5, 1126, 596, 7, 1, 88, 493, 738, 146, 1012, 180, 988, 983, 1092, 539, 562, 5, 647, 568, 115, 554, 252, 5, 514, 634, 115, 262, 157, 367, 988, 86, 321, 2, 850, 534, 218, 549, 594, 7, 1, 108, 5, 277, 1094, 533, 2, 850, 711, 644, 5, 1, 876, 851, 5, 1108, 115, 606, 987, 1033, 1016, 544, 539, 705, 9, 157, 53, 453, 539, 218, 988, 660, 33, 722, 988, 520, 5, 157, 1051, 988, 1101, 920, 1108, 982, 715, 780, 153, 449, 180, 371, 600, 7, 55, 988, 339, 290, 722, 539, 225, 5, 152, 115, 799, 722, 323, 157, 352, 719, 5, 561, 729, 722, 988, 427, 740, 246, 5, 568, 988, 571, 482, 473, 7, 93, 668, 739, 722, 988, 473, 242, 1051, 145, 38, 2, 850, 759, 0, 67, 7, 38, 369, 191, 988, 1106, 5, 690, 178, 115, 114, 588, 114, 478, 722, 772, 190, 5, 805, 156, 171, 187, 5, 157, 851, 8, 1, 54, 1126, 922, 540, 1126, 244, 590, 657, 1016, 862, 585, 7, 53, 514, 585, 741, 988, 659, 5, 239, 533, 1121, 2, 970, 620, 585, 925, 7, 1, 112, 6, 53, 292, 590, 657, 1016, 862, 585, 6, 988, 442, 782, 722, 57, 2, 850, 53, 514, 401, 514, 1016, 933, 697, 417, 741, 0, 103, 994, 514, 988, 773, 722, 553, 6, 856, 988, 251, 752, 568, 115, 749, 1124, 734, 114, 846, 32, 114, 365, 5, 734, 115, 682, 374, 774, 908, 987, 585, 1021, 988, 626, 1007, 309, 722, 726, 104, 779, 7, 93, 685, 678, 773, 204, 988, 769, 217, 9, 1125, 5, 177, 697, 417, 511, 126, 1016, 988, 518, 5, 145, 988, 254, 807, 243, 738, 6, 145, 988, 543, 349, 177, 186, 5, 988, 1032, 722, 789, 241, 1093, 5, 1108, 949, 287, 900, 5, 533, 658, 1016, 354, 184, 477, 988, 820, 238, 722, 988, 769, 1016, 910, 790, 582, 722, 333, 7, 67, 7, 38, 5, 788, 115, 706, 960, 1016, 1117, 727, 6, 466, 5, 177, 585, 1088, 5, 908, 572, 988, 192, 722, 539, 742, 769, 6, 514, 619, 542, 568, 156, 1050, 322, 1016, 988, 350, 722, 999, 426, 1068, 7, 93, 769, 1077, 729, 722, 57, 2, 850, 1, 941, 5, 1, 177, 549, 131, 1120, 530, 806, 585, 6, 585, 835, 5, 727, 549, 756, 5, 115, 967, 722, 695, 5, 115, 284, 722, 1063, 5, 115, 194, 5, 931, 157, 934, 5, 987, 833, 729, 722, 988, 267, 2, 850, 580, 380, 1016, 624, 115, 432, 7, 56, 670, 5, 568, 878, 5, 180, 403, 779, 988, 324, 722, 648, 1111, 1016, 198, 746, 1, 942, 1, 205, 876, 1077, 1015, 722, 213, 746, 1, 965, 1, 6, 157, 1125, 711, 1016, 645, 156, 182, 722, 988, 966, 7, 1, 56, 2, 850, 988, 602, 533, 746, 5, 1126, 596, 5, 1, 67, 7, 38, 851, 1108, 754, 793, 7, 1, 93, 602, 239, 729, 5, 1, 876, 291, 542, 6, 1, 239, 988, 735, 356, 2, 970, 294, 5, 205, 533, 330, 585, 7, 1, 1, 29, 585, 10, 1, 53, 1077, 118, 1016, 452, 1051, 999, 273, 1090, 53, 536, 115, 455, 157, 855, 57, 547, 727, 988, 1005, 7, 17, 533, 928, 992, 5, 549, 522, 568, 988, 778, 722, 549, 1064, 274, 5, 988, 995, 235, 1082, 722, 516, 805, 191, 477, 549, 1095, 459, 5, 549, 610, 955, 258, 481, 241, 115, 905, 987, 625, 988, 1014, 722, 115, 865, 689, 5, 53, 436, 1016, 1089, 115, 322, 533, 514, 988, 852, 808, 177, 549, 770, 6, 988, 808, 722, 644, 271, 986, 533, 1077, 7, 51, 1103, 493, 180, 546, 328, 5, 239, 549, 417, 1029, 759, 539, 1016, 988, 782, 7, 1, 66, 7, 83, 1075, 1016, 862, 585, 5, 1, 876, 210, 5, 177, 566, 407, 542, 7, 48, 886, 549, 881, 5, 926, 906, 7, 1, 74, 5, 83, 469, 663, 738, 639, 141, 5, 1, 533, 851, 627, 9, 991, 5, 758, 549, 170, 1007, 674, 8, 1, 27, 157, 862, 988, 840, 722, 988, 559, 7, 1, 48, 883, 585, 1016, 663, 1108, 115, 593, 722, 700, 948, 793, 8, 988, 197, 5, 988, 915, 5, 988, 368, 5, 988, 1034, 6, 145, 988, 282, 893, 722, 988, 673, 2, 850, 358, 377, 7, 14, 1091, 697, 1114, 744, 988, 409, 1030, 533, 851, 5, 1008, 738, 549, 259, 115, 635, 8, 1, 112, 5, 53, 821, 359, 2, 970, 862, 560, 763, 657, 1016, 636, 1109, 987, 7, 1, 108, 6, 585, 1077, 590, 988, 388, 729, 671, 530, 461, 456, 546, 7, 77, 533, 1077, 5, 1007, 585, 145, 157, 568, 917, 722, 585, 145, 6, 177, 533, 514, 208, 1007, 5, 157, 568, 917, 722, 5, 549, 770, 6, 908, 523, 5, 908, 255, 5, 908, 342, 5, 987, 729, 640, 1016, 304, 738, 8, 1, 19, 351, 1108, 1128, 617, 0, 1, 177, 728, 729, 514, 640, 1016, 856, 8, 1, 19, 351, 1108, 1128, 1117, 0, 1, 22, 5, 1108, 988, 304, 727, 697, 633, 5, 697, 334, 951, 156, 1048, 257, 7, 1, 97, 584, 697, 742, 599, 5, 1, 533, 851, 5, 609, 663, 579, 115, 313, 775, 845, 180, 988, 388, 722, 988, 448, 1069, 7, 56, 1077, 919, 157, 235, 157, 613, 8, 709, 1, 379, 1, 9, 709, 230, 5, 710, 722, 988, 143, 722, 783, 456, 836, 568, 115, 769, 1084, 6, 119, 145, 5, 709, 612, 888, 722, 401, 532, 208, 1057, 177, 115, 944, 7, 93, 420, 234, 552, 1016, 663, 988, 121, 439, 722, 57, 2, 850, 227, 1108, 549, 726, 622, 7, 1, 31, 2, 970, 1126, 401, 311, 1108, 745, 161, 685, 10, 1, 53, 179, 5, 926, 644, 118, 456, 115, 1025, 722, 949, 128, 7, 1, 69, 5, 1, 533, 851, 231, 7, 1, 78, 1081, 6, 734, 398, 10, 1, 51, 283, 417, 511, 338, 5, 157, 549, 258, 750, 115, 635, 1044, 989, 523, 954, 7, 1, 69, 998, 722, 585, 5, 697, 319, 435, 6, 161, 685, 986, 566, 53, 2, 310, 707, 1023, 115, 236, 7, 1, 14, 549, 1018, 1017, 663, 568, 115, 446, 987, 533, 707, 1003, 722, 162, 385, 7, 53, 690, 187, 5, 576, 386, 241, 697, 1048, 343, 9, 157, 177, 53, 1037, 5, 697, 415, 434, 727, 115, 904, 769, 119, 988, 659, 6, 988, 731, 718, 228, 988, 775, 716, 753, 722, 988, 845, 7, 1, 74, 5, 241, 58, 0, 1, 53, 851, 7, 56, 1077, 115, 899, 722, 115, 361, 6, 156, 726, 1015, 361, 5, 923, 568, 988, 815, 1044, 115, 1072, 7, 1, 23, 58, 6, 115, 89, 0, 1, 53, 300, 7, 48, 1077, 889, 9, 239, 53, 436, 546, 272, 212, 663, 5, 229, 115, 635, 811, 7, 1, 109, 115, 1114, 0, 61, 1108, 115, 363, 631, 6, 239, 727, 402, 470, 7, 113, 649, 253, 5, 1092, 335, 1126, 488, 585, 10, 1, 48, 160, 903, 8, 1, 67, 7, 89, 484, 585, 1016, 663, 7, 1, 1, 12, 6, 53, 336, 2, 970, 596, 1126, 399, 595, 988, 90, 7, 48, 1077, 949, 156, 573, 541, 7, 1, 1, 53, 336, 2, 970, 6, 1010, 138, 7, 7, 7, 7, 88, 869, 456, 663, 1016, 745, 546, 1090, 533, 1077, 317, 7, 1, 1, 110, 533, 1077, 317, 10, 113, 10, 1, 53, 696, 530, 620, 115, 635, 1020, 691, 151, 396, 1007, 697, 961, 5, 456, 533, 160, 1108, 115, 327, 606, 8, 1, 112, 6, 876, 2, 850, 156, 188, 892, 5, 1126, 596, 5, 67, 7, 89, 7, 49, 731, 563, 1077, 1016, 530, 546, 360, 241, 115, 430, 747, 6, 142, 5, 781, 89, 0, 88, 1003, 585, 988, 959, 1083, 722, 797, 549, 510, 6, 722, 458, 585, 727, 115, 803, 802, 7, 14, 180, 988, 680, 53, 1077, 114, 988, 114, 430, 747, 7, 1, 1, 12, 5, 781, 89, 6, 177, 1126, 856, 7, 106, 114, 987, 114, 549, 550, 10, 1, 1, 92, 1077, 549, 550, 7, 88, 214, 568, 546, 5, 495, 568, 546, 6, 734, 1003, 876, 335, 7, 22, 876, 293, 2, 970, 201, 711, 1016, 530, 145, 988, 366, 1108, 539, 7, 88, 293, 2, 970, 201, 988, 420, 987, 5, 727, 1060, 316, 5, 729, 292, 149, 488, 701, 392, 1016, 862, 549, 770, 7, 80, 1111, 0, 88, 2, 850, 590, 115, 471, 512, 456, 735, 472, 7, 89, 584, 988, 731, 1098, 53, 401, 595, 7, 1, 1, 113, 401, 595, 10, 22, 1126, 590, 851, 6, 1, 38, 514, 115, 307, 905, 568, 549, 417, 7, 1, 74, 5, 53, 595, 546, 5, 157, 533, 595, 663, 6, 731, 585, 526, 138, 533, 1077, 317, 7, 1, 53, 370, 697, 1071, 576, 7, 1, 110, 876, 869, 456, 1126, 10, 1, 1, 112, 6, 813, 574, 1016, 988, 581, 7, 88, 1075, 546, 1067, 6, 157, 241, 663, 0, 1, 48, 607, 140, 5, 157, 1006, 191, 549, 534, 1016, 642, 1051, 180, 988, 899, 722, 988, 361, 7, 1, 95, 1088, 316, 1090, 53, 293, 2, 970, 642, 180, 987, 996, 6, 293, 2, 970, 418, 585, 7, 22, 53, 457, 698, 1016, 806, 585, 540, 9, 157, 714, 585, 2, 850, 305, 663, 6, 305, 663, 7, 92, 2, 850, 988, 823, 1100, 53, 359, 2, 970, 311, 161, 685, 5, 697, 319, 83, 9, 734, 818, 89, 547, 584, 988, 823, 7, 1, 35, 988, 442, 1011, 697, 564, 306, 118, 697, 280, 1037, 579, 115, 870, 329, 1016, 1047, 546, 217, 7, 1, 53, 1107, 1126, 2, 310, 979, 663, 560, 585, 526, 5, 1, 53, 851, 7, 48, 928, 644, 1051, 180, 988, 899, 5, 157, 1041, 218, 549, 441, 115, 263, 533, 514, 463, 1016, 626, 7, 91, 533, 1037, 1024, 663, 7, 1, 53, 2, 310, 818, 628, 1016, 979, 1126, 6, 205, 53, 2, 1062, 149, 964, 1126, 722, 638, 697, 1117, 7, 1, 53, 654, 115, 327, 487, 5, 1093, 533, 703, 1108, 115, 502, 885, 7, 1, 74, 5, 53, 336, 2, 970, 248, 115, 936, 1090, 53, 214, 568, 698, 6, 157, 714, 585, 2, 850, 156, 130, 1009, 218, 1056, 0, 1, 48, 607, 902, 5, 1109, 221, 5, 157, 805, 729, 722, 988, 320, 172, 467, 7, 1, 95, 8, 655, 1129, 278, 6, 157, 540, 169, 988, 264, 1126, 628, 7, 1, 48, 774, 990, 180, 697, 383, 157, 289, 1016, 1073, 1051, 157, 362, 988, 845, 5, 930, 714, 157, 991, 215, 988, 769, 7, 1, 52, 585, 526, 10, 53, 244, 979, 1126, 568, 445, 676, 6, 157, 585, 336, 2, 970, 972, 691, 641, 1016, 525, 7, 7, 7, 7, 53, 244, 832, 714, 560, 962, 157, 777, 53, 1077, 1090, 53, 503, 67, 7, 89, 2, 850, 712, 7, 73, 297, 5, 320, 362, 5, 53, 514, 149, 114, 436, 114, 992, 1077, 709, 729, 628, 546, 6, 731, 53, 514, 499, 1108, 988, 937, 5, 376, 988, 1058, 776, 118, 546, 5, 1010, 53, 517, 503, 1016, 998, 533, 1077, 115, 423, 5, 729, 722, 988, 593, 987, 169, 616, 212, 7, 23, 58, 5, 157, 533, 114, 1077, 114, 616, 212, 6, 205, 533, 514, 277, 1016, 925, 0, 93, 840, 722, 1056, 514, 1016, 620, 737, 198, 968, 148, 734, 497, 1044, 5, 239, 533, 1077, 545, 119, 988, 308, 6, 727, 402, 470, 5, 177, 1126, 856, 7, 1, 108, 5, 53, 1087, 723, 1016, 988, 559, 568, 697, 686, 381, 683, 6, 818, 690, 5, 60, 462, 663, 5, 180, 988, 761, 722, 781, 89, 2, 850, 249, 722, 423, 213, 302, 241, 988, 496, 722, 697, 748, 546, 0, 73, 297, 53, 664, 1016, 355, 988, 769, 456, 713, 6, 53, 1017, 67, 7, 89, 908, 1090, 876, 210, 1016, 921, 912, 118, 539, 785, 7, 53, 832, 489, 723, 115, 798, 768, 118, 988, 553, 213, 114, 674, 114, 6, 725, 5, 53, 1077, 794, 5, 697, 319, 83, 0, 53, 1077, 783, 1016, 698, 628, 729, 722, 697, 742, 898, 7, 1, 94, 53, 1077, 973, 1051, 157, 616, 147, 1108, 546, 7, 53, 514, 869, 145, 697, 1028, 568, 134, 5, 157, 53, 514, 731, 1016, 871, 1051, 988, 374, 157, 488, 1016, 1117, 7, 48, 514, 208, 317, 731, 1039, 558, 5, 157, 533, 337, 950, 5, 722, 537, 348, 5, 908, 987, 992, 514, 208, 709, 787, 1117, 722, 331, 6, 549, 418, 1077, 270, 157, 1049, 7, 53, 514, 670, 546, 728, 734, 1040, 5, 1123, 209, 5, 157, 1003, 546, 575, 157, 340, 7, 71, 53, 855, 987, 533, 1077, 957, 7, 1, 53, 1077, 492, 180, 442, 5, 1108, 115, 669, 135, 853, 8, 492, 1016, 530, 697, 521, 727, 949, 115, 2, 946, 7, 2, 94, 549, 935, 623, 210, 1016, 136, 663, 809, 6, 177, 53, 222, 988, 534, 568, 53, 436, 177, 566, 533, 1088, 1080, 663, 355, 585, 7, 93, 867, 1077, 453, 241, 988, 1003, 8, 566, 533, 114, 1088, 114, 1080, 663, 5, 1089, 1120, 533, 856, 1016, 697, 1083, 722, 1118, 10, 68, 939, 210, 1016, 497, 115, 635, 1104, 6, 53, 436, 704, 157, 1043, 7, 1, 76, 5, 1090, 53, 643, 1051, 5, 53, 863, 1016, 862, 115, 905, 212, 549, 272, 507, 202, 6, 177, 566, 533, 514, 988, 861, 5, 157, 1088, 155, 547, 241, 551, 585, 191, 477, 663, 7, 92, 404, 663, 926, 685, 7, 93, 861, 10, 111, 5, 53, 514, 115, 861, 1119, 1038, 722, 549, 0, 53, 314, 180, 988, 245, 480, 5, 157, 1033, 910, 722, 697, 226, 1032, 7, 22, 994, 422, 663, 5, 994, 303, 7, 53, 855, 987, 533, 1078, 2, 970, 1080, 988, 884, 220, 6, 53, 293, 2, 970, 353, 549, 184, 9, 533, 590, 592, 549, 417, 727, 988, 527, 757, 218, 7, 98, 1088, 988, 730, 53, 514, 149, 877, 5, 734, 298, 1051, 1108, 910, 653, 745, 7, 14, 560, 533, 855, 1007, 697, 621, 0, 1, 53, 643, 1051, 140, 5, 157, 250, 887, 722, 987, 899, 722, 988, 361, 524, 727, 988, 1072, 701, 549, 207, 7, 51, 1103, 1017, 663, 139, 585, 1077, 988, 602, 996, 533, 514, 360, 6, 590, 115, 712, 973, 1108, 115, 874, 521, 5, 1090, 533, 1077, 362, 568, 30, 825, 477, 115, 791, 537, 183, 7, 59, 115, 712, 0, 22, 585, 980, 549, 1098, 550, 7, 95, 169, 1123, 722, 762, 860, 766, 568, 403, 630, 7, 11, 656, 1097, 514, 969, 1108, 988, 308, 292, 707, 530, 611, 987, 672, 1052, 938, 7, 7, 7, 7, 1, 53, 1037, 191, 1016, 697, 1117, 5, 157, 1087, 727, 512, 157, 692, 9, 991, 53, 643, 180, 988, 361, 140, 7, 53, 855, 987, 5, 1090, 89, 598, 568, 988, 442, 938, 5, 533, 595, 590, 1089, 988, 388, 1120, 198, 7, 48, 514, 784, 549, 946, 5, 122, 585, 5, 826, 585, 7, 110, 514, 53, 360, 987, 1108, 161, 722, 697, 997, 10, 96, 515, 2, 970, 208, 223, 722, 663, 6, 53, 514, 590, 132, 990, 7, 7, 7, 7, 1, 46, 585, 5, 83, 5, 1108, 987, 418, 1080, 663, 53, 293, 2, 970, 355, 158, 938, 7, 93, 775, 1036, 1077, 5, 53, 336, 2, 970, 596, 1092, 1016, 806, 585, 6, 114, 53, 514, 707, 597, 114, 7, 77, 5, 1108, 697, 898, 157, 697, 802, 5, 115, 884, 918, 722, 276, 298, 1051, 988, 420, 6, 53, 590, 1006, 745, 579, 989, 419, 7, 7, 7, 7, 108, 5, 745, 1077, 988, 729, 666, 1001, 317, 417, 292, 862, 1007, 6, 862, 932, 1016, 988, 1022, 470, 1046, 7, 31, 2, 970, 1126, 596, 560, 5, 568, 974, 115, 460, 601, 5, 399, 450, 5, 729, 858, 517, 988, 1011, 711, 1089, 729, 1076, 1016, 239, 1089, 729, 244, 10, 108, 6, 987, 1077, 988, 1083, 53, 746, 9, 157, 177, 533, 608, 992, 157, 1079, 663, 5, 988, 996, 994, 242, 697, 2, 978, 2, 275, 628, 115, 559, 722, 247, 7, 48, 336, 2, 970, 907, 5, 1126, 1047, 5, 781, 89, 6, 533, 590, 608, 992, 812, 1080, 5, 157, 727, 549, 633, 5, 1007, 988, 506, 202, 5, 53, 863, 1016, 535, 988, 810, 8, 2, 15, 1126, 958, 1126, 596, 1092, 1126, 2, 819, 279, 738, 10, 2, 1, 54, 53, 292, 530, 746, 987, 418, 5, 1108, 987, 810, 727, 585, 5, 53, 879, 530, 360, 115, 508, 996, 7, 93, 708, 509, 996, 1077, 1016, 862, 987, 53, 293, 2, 970, 6, 157, 987, 504, 1077, 491, 663, 7, 22, 5, 725, 5, 180, 987, 675, 5, 83, 5, 1077, 992, 162, 727, 372, 53, 1121, 2, 970, 530, 491, 1016, 530, 89, 144, 209, 663, 5, 157, 1016, 535, 546, 856, 8, 2, 56, 2, 850, 711, 1020, 603, 6, 53, 2, 637, 882, 1126, 560, 2, 10, 1, 56, 114, 1077, 114, 1020, 603, 6, 585, 1120, 530, 208, 5, 399, 566, 533, 2, 310, 208, 144, 7, 53, 743, 1051, 697, 1028, 5, 157, 1087, 362, 157, 1017, 67, 7, 89, 7, 73, 297, 53, 336, 2, 970, 979, 539, 114, 987, 114, 6, 585, 1120, 530, 208, 41, 1016, 539, 7, 53, 894, 851, 53, 293, 2, 970, 745, 546, 5, 987, 53, 1077, 1020, 690, 7, 88, 818, 629, 988, 563, 6, 876, 2, 850, 908, 844, 0, 56, 1077, 987, 987, 654, 539, 490, 663, 988, 361, 7, 22, 876, 1077, 985, 1054, 180, 711, 489, 988, 782, 6, 876, 335, 908, 1074, 546, 2, 360, 2, 241, 910, 729, 884, 0, 18, 442, 53, 1077, 137, 876, 1121, 2, 970, 620, 663, 723, 6, 157, 180, 697, 1110, 2, 388, 53, 953, 42, 7, 112, 5, 585, 1077, 53, 1097, 924, 42, 8, 53, 1017, 67, 7, 89, 533, 1077, 988, 2, 279, 2, 656, 5, 157, 876, 1017, 911, 385, 5, 157, 908, 585, 503, 1016, 198, 1035, 7, 7, 7, 7, 14, 533, 746, 89, 1109, 1105, 9, 157, 876, 561, 988, 769, 153, 539, 562, 2, 850, 997, 7, 7, 7, 7, 1, 48, 451, 547, 362, 568, 988, 171, 701, 674, 5, 598, 191, 549, 534, 5, 157, 269, 549, 173, 215, 585, 5, 643, 1051, 180, 988, 769, 119, 988, 260, 7, 1, 53, 628, 1016, 429, 987, 89, 547, 1120, 530, 491, 585, 1016, 663, 5, 566, 533, 2, 310, 208, 117, 1016, 856, 1089, 533, 1003, 987, 315, 7, 1, 14, 5, 568, 159, 1016, 115, 810, 53, 806, 519, 6, 1, 20, 140, 10, 1, 533, 447, 738, 7, 1, 110, 988, 729, 996, 987, 232, 663, 163, 701, 546, 584, 987, 53, 595, 392, 1016, 614, 723, 10, 1, 48, 928, 1051, 157, 598, 549, 521, 727, 697, 880, 1108, 115, 606, 7, 1, 77, 988, 581, 722, 585, 584, 987, 53, 114, 150, 114, 926, 748, 6, 895, 42, 2, 850, 357, 585, 456, 663, 0, 93, 90, 922, 147, 5, 157, 525, 728, 6, 239, 992, 2, 850, 709, 413, 736, 593, 722, 174, 7, 1]\n"
     ]
    }
   ],
   "execution_count": 25
  },
  {
   "metadata": {
    "ExecuteTime": {
     "end_time": "2025-04-15T08:05:22.437353Z",
     "start_time": "2025-04-15T08:05:22.431776Z"
    }
   },
   "cell_type": "code",
   "source": "vocabulary_text[-5:]",
   "id": "f6e824565f687f6c",
   "outputs": [
    {
     "data": {
      "text/plain": [
       "['yet', 'you', 'younger', 'your', 'yourself']"
      ]
     },
     "execution_count": 40,
     "metadata": {},
     "output_type": "execute_result"
    }
   ],
   "execution_count": 40
  },
  {
   "metadata": {
    "ExecuteTime": {
     "end_time": "2025-04-15T08:05:26.931409Z",
     "start_time": "2025-04-15T08:05:26.926170Z"
    }
   },
   "cell_type": "code",
   "source": "type(vocabulary_text)",
   "id": "b282dc03f00ba0e4",
   "outputs": [
    {
     "data": {
      "text/plain": [
       "list"
      ]
     },
     "execution_count": 41,
     "metadata": {},
     "output_type": "execute_result"
    }
   ],
   "execution_count": 41
  },
  {
   "metadata": {
    "ExecuteTime": {
     "end_time": "2025-04-15T08:05:28.565843Z",
     "start_time": "2025-04-15T08:05:28.550322Z"
    }
   },
   "cell_type": "code",
   "source": [
    "vocabulary_text.extend([\"<|endoftext|>\",\"<|unk|>\"])\n",
    "vocabulary = {text:token for token,text in enumerate(vocabulary_text)}\n",
    "len(vocabulary)"
   ],
   "id": "bd8e202aa0b92c31",
   "outputs": [
    {
     "data": {
      "text/plain": [
       "1132"
      ]
     },
     "execution_count": 42,
     "metadata": {},
     "output_type": "execute_result"
    }
   ],
   "execution_count": 42
  },
  {
   "metadata": {
    "ExecuteTime": {
     "end_time": "2025-04-15T08:06:16.049798Z",
     "start_time": "2025-04-15T08:06:16.042375Z"
    }
   },
   "cell_type": "code",
   "source": "vocabulary_text[-5:]",
   "id": "4b5c91dc6ec3bef3",
   "outputs": [
    {
     "data": {
      "text/plain": [
       "['younger', 'your', 'yourself', '<|endoftext|>', '<|unk|>']"
      ]
     },
     "execution_count": 43,
     "metadata": {},
     "output_type": "execute_result"
    }
   ],
   "execution_count": 43
  },
  {
   "metadata": {
    "ExecuteTime": {
     "end_time": "2025-04-15T08:06:23.348414Z",
     "start_time": "2025-04-15T08:06:23.341074Z"
    }
   },
   "cell_type": "code",
   "source": [
    "for i,item in enumerate(list(vocabulary.items())[-5:]):\n",
    "    print(item)\n"
   ],
   "id": "789b42ec388bfeaf",
   "outputs": [
    {
     "name": "stdout",
     "output_type": "stream",
     "text": [
      "('younger', 1127)\n",
      "('your', 1128)\n",
      "('yourself', 1129)\n",
      "('<|endoftext|>', 1130)\n",
      "('<|unk|>', 1131)\n"
     ]
    }
   ],
   "execution_count": 44
  },
  {
   "metadata": {
    "ExecuteTime": {
     "end_time": "2025-04-15T08:06:25.766020Z",
     "start_time": "2025-04-15T08:06:25.749768Z"
    }
   },
   "cell_type": "code",
   "source": "len(list(vocabulary.items()))",
   "id": "ae25d95602ca54b2",
   "outputs": [
    {
     "data": {
      "text/plain": [
       "1132"
      ]
     },
     "execution_count": 45,
     "metadata": {},
     "output_type": "execute_result"
    }
   ],
   "execution_count": 45
  },
  {
   "metadata": {
    "ExecuteTime": {
     "end_time": "2025-04-15T08:33:39.320936Z",
     "start_time": "2025-04-15T08:33:39.300553Z"
    }
   },
   "cell_type": "code",
   "source": [
    "class SimpleTokenizerV2:\n",
    "    def __init__(self, vocabulary):\n",
    "        self.str_to_int = vocabulary\n",
    "        self.int_to_str = {token:text for text,token in vocabulary.items()}\n",
    "\n",
    "    def encode(self,text):\n",
    "        prepossed = re.split(r'([,.:;?_!\"()\\']|--|\\s)', text)\n",
    "\n",
    "        prepossed = [item.strip()  for item in prepossed if item.strip()]\n",
    "\n",
    "        prepossed = [item if item in self.str_to_int else \"<|unk|>\" for item in prepossed ]\n",
    "\n",
    "        tokens = [self.str_to_int[x] for x in prepossed]\n",
    "\n",
    "        return tokens\n",
    "\n",
    "    def decode(self,tokens):\n",
    "        text = \" \".join([self.int_to_str[i] for i in tokens])\n",
    "        text = re.sub(r'\\s+([,.?!\"()\\'])', r'\\1', text)\n",
    "        return text\n"
   ],
   "id": "3f6830e90475ef5d",
   "outputs": [],
   "execution_count": 47
  },
  {
   "metadata": {
    "ExecuteTime": {
     "end_time": "2025-04-15T08:33:40.916696Z",
     "start_time": "2025-04-15T08:33:40.905931Z"
    }
   },
   "cell_type": "code",
   "source": [
    "tokenizer = SimpleTokenizerV2(vocabulary)\n",
    "\n",
    "token = tokenizer.encode(raw_text)\n",
    "print(token)"
   ],
   "id": "80223bb7dea8b06b",
   "outputs": [
    {
     "name": "stdout",
     "output_type": "stream",
     "text": [
      "[53, 44, 149, 1003, 57, 38, 818, 115, 256, 486, 6, 1002, 115, 500, 435, 392, 6, 908, 585, 1077, 709, 508, 961, 1016, 663, 1016, 535, 987, 5, 568, 988, 538, 722, 549, 496, 5, 533, 514, 370, 549, 748, 5, 661, 115, 841, 1102, 5, 157, 397, 547, 568, 115, 1066, 727, 988, 84, 7, 3, 99, 53, 818, 1003, 585, 1120, 530, 208, 85, 734, 34, 7, 4, 1, 93, 538, 722, 549, 496, 1, 6, 987, 1077, 1089, 988, 1112, 242, 585, 7, 53, 244, 535, 67, 7, 37, 100, 6, 549, 602, 25, 897, 6, 326, 549, 1042, 116, 7, 1, 73, 297, 585, 2, 850, 498, 1016, 866, 988, 1059, 722, 697, 769, 2, 1083, 1051, 9, 239, 53, 359, 2, 970, 998, 722, 987, 5, 66, 7, 83, 6, 988, 646, 1016, 16, 584, 145, 53, 998, 722, 7, 1, 93, 1116, 5, 727, 67, 7, 100, 2, 850, 633, 5, 693, 586, 114, 847, 114, 177, 1002, 994, 1088, 827, 568, 156, 389, 1069, 722, 677, 7, 14, 585, 1077, 711, 731, 988, 67, 7, 101, 1097, 688, 7, 45, 711, 988, 410, 50, 28, 5, 180, 988, 602, 40, 36, 882, 5, 929, 663, 209, 38, 2, 850, 1, 65, 1, 1016, 856, 5, 1108, 976, 568, 539, 417, 8, 1, 107, 875, 711, 642, 1053, 586, 628, 140, 1, 10, 108, 0, 6, 399, 1007, 988, 795, 722, 50, 2, 850, 976, 53, 436, 117, 1016, 418, 988, 420, 1108, 395, 7, 80, 57, 38, 0, 93, 1112, 514, 654, 546, 6, 585, 1077, 444, 987, 994, 879, 687, 546, 7, 13, 549, 742, 872, 438, 829, 1088, 536, 5, 157, 568, 549, 742, 1026, 528, 115, 694, 7, 81, 589, 10, 79, 7, 54, 585, 1088, 5, 988, 553, 722, 988, 299, 1077, 1067, 241, 635, 26, 72, 5, 1097, 5, 568, 145, 500, 425, 5, 234, 738, 568, 988, 21, 115, 1065, 523, 1, 717, 1, 727, 57, 6, 729, 722, 1001, 884, 175, 927, 1108, 817, 977, 987, 53, 530, 536, 3, 53, 1113, 2, 970, 856, 241, 1099, 4, 281, 1016, 38, 2, 850, 748, 7, 14, 908, 6, 549, 838, 213, 165, 583, 6, 988, 345, 505, 337, 738, 5, 157, 5, 177, 67, 7, 100, 514, 786, 5, 988, 792, 722, 1, 39, 1, 1087, 1051, 7, 56, 1077, 711, 1010, 1004, 1123, 604, 987, 5, 568, 988, 297, 722, 115, 437, 1085, 2, 565, 727, 988, 84, 5, 585, 950, 720, 1016, 663, 1016, 1114, 1100, 38, 514, 491, 1051, 549, 748, 7, 75, 828, 5, 585, 821, 1077, 115, 981, 796, 7, 102, 125, 549, 1103, 1120, 530, 208, 1020, 375, 6, 549, 424, 898, 514, 208, 325, 988, 909, 722, 857, 987, 67, 7, 38, 514, 1, 364, 546, 362, 7, 1, 35, 67, 7, 38, 6, 177, 949, 6, 514, 711, 408, 1010, 702, 115, 1122, 138, 57, 2, 850, 838, 514, 208, 973, 7, 56, 671, 198, 987, 533, 514, 661, 539, 6, 895, 533, 629, 549, 373, 6, 205, 533, 336, 2, 970, 1074, 1016, 497, 727, 748, 9, 239, 585, 1120, 530, 208, 527, 1016, 801, 987, 533, 514, 491, 1051, 549, 748, 205, 533, 514, 661, 539, 7, 73, 297, 5, 566, 876, 514, 711, 364, 546, 362, 5, 876, 514, 394, 5, 177, 62, 28, 288, 5, 422, 1016, 1, 624, 546, 1051, 1, 6, 876, 514, 711, 615, 546, 191, 1016, 988, 374, 7, 102, 806, 988, 236, 579, 549, 521, 140, 6, 1089, 115, 1070, 456, 115, 1103, 0, 22, 67, 7, 38, 167, 1016, 530, 347, 585, 6, 157, 53, 436, 585, 671, 198, 578, 1016, 440, 738, 1100, 7, 93, 332, 622, 722, 988, 84, 618, 587, 1016, 949, 804, 124, 916, 9, 157, 532, 5, 727, 697, 1083, 1016, 64, 24, 5, 250, 115, 494, 722, 57, 2, 850, 195, 984, 218, 988, 771, 5, 53, 514, 698, 224, 1000, 988, 708, 315, 7, 53, 469, 988, 296, 180, 975, 215, 989, 751, 9, 157, 67, 7, 38, 2, 850, 1086, 1077, 908, 485, 987, 5, 568, 988, 393, 1085, 5, 53, 268, 585, 475, 7, 56, 1077, 711, 987, 697, 555, 1077, 1, 578, 1, 8, 727, 987, 779, 53, 292, 530, 491, 62, 28, 988, 479, 824, 7, 56, 1077, 590, 205, 876, 1077, 114, 711, 114, 578, 6, 566, 53, 662, 198, 755, 988, 237, 6, 987, 53, 469, 539, 908, 7, 35, 57, 5, 145, 549, 622, 5, 514, 208, 963, 241, 578, 1112, 8, 994, 514, 468, 549, 174, 5, 585, 514, 208, 822, 568, 988, 556, 722, 989, 133, 7, 14, 585, 1077, 993, 577, 1016, 712, 1089, 378, 988, 1, 318, 181, 722, 665, 1, 3, 53, 814, 62, 28, 4, 1077, 532, 727, 546, 7, 53, 530, 667, 987, 67, 7, 38, 1077, 841, 9, 157, 585, 1077, 567, 764, 987, 539, 562, 1077, 414, 477, 999, 266, 115, 323, 239, 947, 853, 7, 56, 584, 5, 177, 115, 848, 5, 988, 763, 1097, 859, 681, 1097, 488, 686, 738, 722, 585, 9, 157, 57, 2, 850, 384, 346, 722, 549, 1103, 2, 850, 219, 193, 387, 546, 5, 1108, 156, 166, 722, 765, 501, 5, 1016, 1027, 585, 579, 719, 722, 174, 157, 652, 7, 102, 988, 605, 5, 53, 696, 129, 5, 533, 831, 830, 570, 9, 239, 533, 1077, 240, 82, 233, 157, 382, 770, 1108, 115, 344, 987, 216, 988, 154, 839, 7, 1, 63, 2, 850, 731, 406, 584, 1016, 806, 203, 579, 265, 5, 1, 1077, 729, 722, 988, 189, 533, 598, 362, 127, 988, 87, 157, 890, 722, 156, 411, 168, 651, 5, 1090, 5, 727, 115, 604, 315, 5, 53, 514, 140, 849, 741, 477, 64, 24, 9, 157, 67, 7, 38, 5, 199, 727, 546, 5, 130, 456, 697, 391, 8, 1, 57, 584, 908, 684, 868, 1016, 403, 464, 722, 203, 7, 1, 80, 57, 0, 56, 514, 149, 208, 549, 431, 1016, 530, 1112, 856, 949, 997, 722, 546, 8, 988, 420, 879, 198, 871, 362, 568, 412, 7, 109, 943, 663, 714, 1077, 987, 5, 456, 988, 442, 1011, 5, 533, 837, 988, 1018, 7, 53, 514, 864, 546, 5, 908, 724, 5, 196, 1044, 891, 1031, 6, 1077, 585, 988, 285, 712, 987, 843, 990, 722, 989, 854, 10, 70, 6, 456, 5, 721, 392, 5, 585, 204, 164, 987, 533, 1077, 454, 722, 67, 7, 38, 6, 454, 392, 711, 1016, 862, 539, 123, 7, 56, 1077, 549, 742, 123, 533, 863, 1016, 198, 1105, 1044, 6, 549, 742, 185, 177, 156, 718, 456, 483, 157, 569, 7, 1, 68, 319, 5, 895, 53, 2, 1062, 261, 748, 763, 359, 2, 970, 856, 987, 945, 118, 663, 6, 994, 856, 585, 118, 105, 42, 5, 1, 1077, 549, 731, 800, 5, 177, 533, 846, 477, 988, 971, 157, 940, 738, 732, 988, 956, 983, 7, 53, 493, 138, 546, 5, 943, 241, 549, 602, 1116, 7, 105, 42, 1077, 5, 568, 420, 5, 206, 988, 656, 722, 988, 680, 6, 177, 57, 547, 5, 729, 671, 806, 585, 5, 514, 208, 988, 656, 722, 988, 557, 7, 93, 1127, 176, 1077, 851, 1016, 530, 465, 547, 180, 697, 476, 2, 850, 433, 5, 157, 53, 1115, 566, 115, 1013, 722, 589, 1045, 988, 605, 2, 850, 699, 116, 7, 22, 709, 6, 456, 585, 1077, 711, 1010, 138, 987, 400, 987, 988, 114, 846, 32, 114, 366, 514, 211, 1016, 350, 989, 1, 43, 7, 1, 53, 1037, 1016, 67, 7, 38, 5, 1097, 514, 632, 1016, 490, 115, 650, 722, 952, 1016, 539, 914, 568, 988, 341, 7, 1, 111, 114, 529, 114, 533, 261, 748, 10, 1, 53, 179, 120, 7, 88, 816, 539, 416, 1108, 115, 548, 722, 502, 961, 7, 1, 74, 5, 533, 356, 2, 970, 114, 530, 114, 1016, 714, 5, 1126, 596, 9, 157, 53, 1074, 546, 1016, 390, 547, 5, 1, 876, 851, 813, 894, 7, 53, 643, 118, 988, 913, 1096, 845, 5, 1108, 586, 114, 428, 114, 1061, 834, 988, 1019, 722, 988, 749, 312, 309, 5, 157, 586, 382, 760, 568, 323, 421, 474, 7, 1, 47, 533, 261, 549, 770, 1020, 10, 53, 531, 2, 970, 864, 115, 896, 729, 568, 988, 559, 7, 1, 11, 901, 873, 722, 286, 301, 67, 7, 38, 2, 850, 733, 295, 7, 1, 56, 2, 850, 549, 842, 679, 5, 1126, 596, 7, 48, 858, 994, 2, 819, 711, 443, 1016, 530, 118, 9, 533, 2, 850, 869, 990, 145, 187, 405, 729, 6, 697, 782, 6, 157, 987, 53, 530, 1016, 591, 1055, 7, 1, 51, 842, 679, 6, 57, 2, 850, 679, 118, 549, 770, 10, 68, 306, 1077, 513, 628, 988, 200, 7, 53, 851, 767, 1016, 697, 555, 8, 1, 53, 696, 821, 862, 1128, 782, 5, 1126, 596, 7, 1, 88, 493, 738, 146, 1012, 180, 988, 983, 1092, 539, 562, 5, 647, 568, 115, 554, 252, 5, 514, 634, 115, 262, 157, 367, 988, 86, 321, 2, 850, 534, 218, 549, 594, 7, 1, 108, 5, 277, 1094, 533, 2, 850, 711, 644, 5, 1, 876, 851, 5, 1108, 115, 606, 987, 1033, 1016, 544, 539, 705, 9, 157, 53, 453, 539, 218, 988, 660, 33, 722, 988, 520, 5, 157, 1051, 988, 1101, 920, 1108, 982, 715, 780, 153, 449, 180, 371, 600, 7, 55, 988, 339, 290, 722, 539, 225, 5, 152, 115, 799, 722, 323, 157, 352, 719, 5, 561, 729, 722, 988, 427, 740, 246, 5, 568, 988, 571, 482, 473, 7, 93, 668, 739, 722, 988, 473, 242, 1051, 145, 38, 2, 850, 759, 0, 67, 7, 38, 369, 191, 988, 1106, 5, 690, 178, 115, 114, 588, 114, 478, 722, 772, 190, 5, 805, 156, 171, 187, 5, 157, 851, 8, 1, 54, 1126, 922, 540, 1126, 244, 590, 657, 1016, 862, 585, 7, 53, 514, 585, 741, 988, 659, 5, 239, 533, 1121, 2, 970, 620, 585, 925, 7, 1, 112, 6, 53, 292, 590, 657, 1016, 862, 585, 6, 988, 442, 782, 722, 57, 2, 850, 53, 514, 401, 514, 1016, 933, 697, 417, 741, 0, 103, 994, 514, 988, 773, 722, 553, 6, 856, 988, 251, 752, 568, 115, 749, 1124, 734, 114, 846, 32, 114, 365, 5, 734, 115, 682, 374, 774, 908, 987, 585, 1021, 988, 626, 1007, 309, 722, 726, 104, 779, 7, 93, 685, 678, 773, 204, 988, 769, 217, 9, 1125, 5, 177, 697, 417, 511, 126, 1016, 988, 518, 5, 145, 988, 254, 807, 243, 738, 6, 145, 988, 543, 349, 177, 186, 5, 988, 1032, 722, 789, 241, 1093, 5, 1108, 949, 287, 900, 5, 533, 658, 1016, 354, 184, 477, 988, 820, 238, 722, 988, 769, 1016, 910, 790, 582, 722, 333, 7, 67, 7, 38, 5, 788, 115, 706, 960, 1016, 1117, 727, 6, 466, 5, 177, 585, 1088, 5, 908, 572, 988, 192, 722, 539, 742, 769, 6, 514, 619, 542, 568, 156, 1050, 322, 1016, 988, 350, 722, 999, 426, 1068, 7, 93, 769, 1077, 729, 722, 57, 2, 850, 1, 941, 5, 1, 177, 549, 131, 1120, 530, 806, 585, 6, 585, 835, 5, 727, 549, 756, 5, 115, 967, 722, 695, 5, 115, 284, 722, 1063, 5, 115, 194, 5, 931, 157, 934, 5, 987, 833, 729, 722, 988, 267, 2, 850, 580, 380, 1016, 624, 115, 432, 7, 56, 670, 5, 568, 878, 5, 180, 403, 779, 988, 324, 722, 648, 1111, 1016, 198, 746, 1, 942, 1, 205, 876, 1077, 1015, 722, 213, 746, 1, 965, 1, 6, 157, 1125, 711, 1016, 645, 156, 182, 722, 988, 966, 7, 1, 56, 2, 850, 988, 602, 533, 746, 5, 1126, 596, 5, 1, 67, 7, 38, 851, 1108, 754, 793, 7, 1, 93, 602, 239, 729, 5, 1, 876, 291, 542, 6, 1, 239, 988, 735, 356, 2, 970, 294, 5, 205, 533, 330, 585, 7, 1, 1, 29, 585, 10, 1, 53, 1077, 118, 1016, 452, 1051, 999, 273, 1090, 53, 536, 115, 455, 157, 855, 57, 547, 727, 988, 1005, 7, 17, 533, 928, 992, 5, 549, 522, 568, 988, 778, 722, 549, 1064, 274, 5, 988, 995, 235, 1082, 722, 516, 805, 191, 477, 549, 1095, 459, 5, 549, 610, 955, 258, 481, 241, 115, 905, 987, 625, 988, 1014, 722, 115, 865, 689, 5, 53, 436, 1016, 1089, 115, 322, 533, 514, 988, 852, 808, 177, 549, 770, 6, 988, 808, 722, 644, 271, 986, 533, 1077, 7, 51, 1103, 493, 180, 546, 328, 5, 239, 549, 417, 1029, 759, 539, 1016, 988, 782, 7, 1, 66, 7, 83, 1075, 1016, 862, 585, 5, 1, 876, 210, 5, 177, 566, 407, 542, 7, 48, 886, 549, 881, 5, 926, 906, 7, 1, 74, 5, 83, 469, 663, 738, 639, 141, 5, 1, 533, 851, 627, 9, 991, 5, 758, 549, 170, 1007, 674, 8, 1, 27, 157, 862, 988, 840, 722, 988, 559, 7, 1, 48, 883, 585, 1016, 663, 1108, 115, 593, 722, 700, 948, 793, 8, 988, 197, 5, 988, 915, 5, 988, 368, 5, 988, 1034, 6, 145, 988, 282, 893, 722, 988, 673, 2, 850, 358, 377, 7, 14, 1091, 697, 1114, 744, 988, 409, 1030, 533, 851, 5, 1008, 738, 549, 259, 115, 635, 8, 1, 112, 5, 53, 821, 359, 2, 970, 862, 560, 763, 657, 1016, 636, 1109, 987, 7, 1, 108, 6, 585, 1077, 590, 988, 388, 729, 671, 530, 461, 456, 546, 7, 77, 533, 1077, 5, 1007, 585, 145, 157, 568, 917, 722, 585, 145, 6, 177, 533, 514, 208, 1007, 5, 157, 568, 917, 722, 5, 549, 770, 6, 908, 523, 5, 908, 255, 5, 908, 342, 5, 987, 729, 640, 1016, 304, 738, 8, 1, 19, 351, 1108, 1128, 617, 0, 1, 177, 728, 729, 514, 640, 1016, 856, 8, 1, 19, 351, 1108, 1128, 1117, 0, 1, 22, 5, 1108, 988, 304, 727, 697, 633, 5, 697, 334, 951, 156, 1048, 257, 7, 1, 97, 584, 697, 742, 599, 5, 1, 533, 851, 5, 609, 663, 579, 115, 313, 775, 845, 180, 988, 388, 722, 988, 448, 1069, 7, 56, 1077, 919, 157, 235, 157, 613, 8, 709, 1, 379, 1, 9, 709, 230, 5, 710, 722, 988, 143, 722, 783, 456, 836, 568, 115, 769, 1084, 6, 119, 145, 5, 709, 612, 888, 722, 401, 532, 208, 1057, 177, 115, 944, 7, 93, 420, 234, 552, 1016, 663, 988, 121, 439, 722, 57, 2, 850, 227, 1108, 549, 726, 622, 7, 1, 31, 2, 970, 1126, 401, 311, 1108, 745, 161, 685, 10, 1, 53, 179, 5, 926, 644, 118, 456, 115, 1025, 722, 949, 128, 7, 1, 69, 5, 1, 533, 851, 231, 7, 1, 78, 1081, 6, 734, 398, 10, 1, 51, 283, 417, 511, 338, 5, 157, 549, 258, 750, 115, 635, 1044, 989, 523, 954, 7, 1, 69, 998, 722, 585, 5, 697, 319, 435, 6, 161, 685, 986, 566, 53, 2, 310, 707, 1023, 115, 236, 7, 1, 14, 549, 1018, 1017, 663, 568, 115, 446, 987, 533, 707, 1003, 722, 162, 385, 7, 53, 690, 187, 5, 576, 386, 241, 697, 1048, 343, 9, 157, 177, 53, 1037, 5, 697, 415, 434, 727, 115, 904, 769, 119, 988, 659, 6, 988, 731, 718, 228, 988, 775, 716, 753, 722, 988, 845, 7, 1, 74, 5, 241, 58, 0, 1, 53, 851, 7, 56, 1077, 115, 899, 722, 115, 361, 6, 156, 726, 1015, 361, 5, 923, 568, 988, 815, 1044, 115, 1072, 7, 1, 23, 58, 6, 115, 89, 0, 1, 53, 300, 7, 48, 1077, 889, 9, 239, 53, 436, 546, 272, 212, 663, 5, 229, 115, 635, 811, 7, 1, 109, 115, 1114, 0, 61, 1108, 115, 363, 631, 6, 239, 727, 402, 470, 7, 113, 649, 253, 5, 1092, 335, 1126, 488, 585, 10, 1, 48, 160, 903, 8, 1, 67, 7, 89, 484, 585, 1016, 663, 7, 1, 1, 12, 6, 53, 336, 2, 970, 596, 1126, 399, 595, 988, 90, 7, 48, 1077, 949, 156, 573, 541, 7, 1, 1, 53, 336, 2, 970, 6, 1010, 138, 7, 7, 7, 7, 88, 869, 456, 663, 1016, 745, 546, 1090, 533, 1077, 317, 7, 1, 1, 110, 533, 1077, 317, 10, 113, 10, 1, 53, 696, 530, 620, 115, 635, 1020, 691, 151, 396, 1007, 697, 961, 5, 456, 533, 160, 1108, 115, 327, 606, 8, 1, 112, 6, 876, 2, 850, 156, 188, 892, 5, 1126, 596, 5, 67, 7, 89, 7, 49, 731, 563, 1077, 1016, 530, 546, 360, 241, 115, 430, 747, 6, 142, 5, 781, 89, 0, 88, 1003, 585, 988, 959, 1083, 722, 797, 549, 510, 6, 722, 458, 585, 727, 115, 803, 802, 7, 14, 180, 988, 680, 53, 1077, 114, 988, 114, 430, 747, 7, 1, 1, 12, 5, 781, 89, 6, 177, 1126, 856, 7, 106, 114, 987, 114, 549, 550, 10, 1, 1, 92, 1077, 549, 550, 7, 88, 214, 568, 546, 5, 495, 568, 546, 6, 734, 1003, 876, 335, 7, 22, 876, 293, 2, 970, 201, 711, 1016, 530, 145, 988, 366, 1108, 539, 7, 88, 293, 2, 970, 201, 988, 420, 987, 5, 727, 1060, 316, 5, 729, 292, 149, 488, 701, 392, 1016, 862, 549, 770, 7, 80, 1111, 0, 88, 2, 850, 590, 115, 471, 512, 456, 735, 472, 7, 89, 584, 988, 731, 1098, 53, 401, 595, 7, 1, 1, 113, 401, 595, 10, 22, 1126, 590, 851, 6, 1, 38, 514, 115, 307, 905, 568, 549, 417, 7, 1, 74, 5, 53, 595, 546, 5, 157, 533, 595, 663, 6, 731, 585, 526, 138, 533, 1077, 317, 7, 1, 53, 370, 697, 1071, 576, 7, 1, 110, 876, 869, 456, 1126, 10, 1, 1, 112, 6, 813, 574, 1016, 988, 581, 7, 88, 1075, 546, 1067, 6, 157, 241, 663, 0, 1, 48, 607, 140, 5, 157, 1006, 191, 549, 534, 1016, 642, 1051, 180, 988, 899, 722, 988, 361, 7, 1, 95, 1088, 316, 1090, 53, 293, 2, 970, 642, 180, 987, 996, 6, 293, 2, 970, 418, 585, 7, 22, 53, 457, 698, 1016, 806, 585, 540, 9, 157, 714, 585, 2, 850, 305, 663, 6, 305, 663, 7, 92, 2, 850, 988, 823, 1100, 53, 359, 2, 970, 311, 161, 685, 5, 697, 319, 83, 9, 734, 818, 89, 547, 584, 988, 823, 7, 1, 35, 988, 442, 1011, 697, 564, 306, 118, 697, 280, 1037, 579, 115, 870, 329, 1016, 1047, 546, 217, 7, 1, 53, 1107, 1126, 2, 310, 979, 663, 560, 585, 526, 5, 1, 53, 851, 7, 48, 928, 644, 1051, 180, 988, 899, 5, 157, 1041, 218, 549, 441, 115, 263, 533, 514, 463, 1016, 626, 7, 91, 533, 1037, 1024, 663, 7, 1, 53, 2, 310, 818, 628, 1016, 979, 1126, 6, 205, 53, 2, 1062, 149, 964, 1126, 722, 638, 697, 1117, 7, 1, 53, 654, 115, 327, 487, 5, 1093, 533, 703, 1108, 115, 502, 885, 7, 1, 74, 5, 53, 336, 2, 970, 248, 115, 936, 1090, 53, 214, 568, 698, 6, 157, 714, 585, 2, 850, 156, 130, 1009, 218, 1056, 0, 1, 48, 607, 902, 5, 1109, 221, 5, 157, 805, 729, 722, 988, 320, 172, 467, 7, 1, 95, 8, 655, 1129, 278, 6, 157, 540, 169, 988, 264, 1126, 628, 7, 1, 48, 774, 990, 180, 697, 383, 157, 289, 1016, 1073, 1051, 157, 362, 988, 845, 5, 930, 714, 157, 991, 215, 988, 769, 7, 1, 52, 585, 526, 10, 53, 244, 979, 1126, 568, 445, 676, 6, 157, 585, 336, 2, 970, 972, 691, 641, 1016, 525, 7, 7, 7, 7, 53, 244, 832, 714, 560, 962, 157, 777, 53, 1077, 1090, 53, 503, 67, 7, 89, 2, 850, 712, 7, 73, 297, 5, 320, 362, 5, 53, 514, 149, 114, 436, 114, 992, 1077, 709, 729, 628, 546, 6, 731, 53, 514, 499, 1108, 988, 937, 5, 376, 988, 1058, 776, 118, 546, 5, 1010, 53, 517, 503, 1016, 998, 533, 1077, 115, 423, 5, 729, 722, 988, 593, 987, 169, 616, 212, 7, 23, 58, 5, 157, 533, 114, 1077, 114, 616, 212, 6, 205, 533, 514, 277, 1016, 925, 0, 93, 840, 722, 1056, 514, 1016, 620, 737, 198, 968, 148, 734, 497, 1044, 5, 239, 533, 1077, 545, 119, 988, 308, 6, 727, 402, 470, 5, 177, 1126, 856, 7, 1, 108, 5, 53, 1087, 723, 1016, 988, 559, 568, 697, 686, 381, 683, 6, 818, 690, 5, 60, 462, 663, 5, 180, 988, 761, 722, 781, 89, 2, 850, 249, 722, 423, 213, 302, 241, 988, 496, 722, 697, 748, 546, 0, 73, 297, 53, 664, 1016, 355, 988, 769, 456, 713, 6, 53, 1017, 67, 7, 89, 908, 1090, 876, 210, 1016, 921, 912, 118, 539, 785, 7, 53, 832, 489, 723, 115, 798, 768, 118, 988, 553, 213, 114, 674, 114, 6, 725, 5, 53, 1077, 794, 5, 697, 319, 83, 0, 53, 1077, 783, 1016, 698, 628, 729, 722, 697, 742, 898, 7, 1, 94, 53, 1077, 973, 1051, 157, 616, 147, 1108, 546, 7, 53, 514, 869, 145, 697, 1028, 568, 134, 5, 157, 53, 514, 731, 1016, 871, 1051, 988, 374, 157, 488, 1016, 1117, 7, 48, 514, 208, 317, 731, 1039, 558, 5, 157, 533, 337, 950, 5, 722, 537, 348, 5, 908, 987, 992, 514, 208, 709, 787, 1117, 722, 331, 6, 549, 418, 1077, 270, 157, 1049, 7, 53, 514, 670, 546, 728, 734, 1040, 5, 1123, 209, 5, 157, 1003, 546, 575, 157, 340, 7, 71, 53, 855, 987, 533, 1077, 957, 7, 1, 53, 1077, 492, 180, 442, 5, 1108, 115, 669, 135, 853, 8, 492, 1016, 530, 697, 521, 727, 949, 115, 2, 946, 7, 2, 94, 549, 935, 623, 210, 1016, 136, 663, 809, 6, 177, 53, 222, 988, 534, 568, 53, 436, 177, 566, 533, 1088, 1080, 663, 355, 585, 7, 93, 867, 1077, 453, 241, 988, 1003, 8, 566, 533, 114, 1088, 114, 1080, 663, 5, 1089, 1120, 533, 856, 1016, 697, 1083, 722, 1118, 10, 68, 939, 210, 1016, 497, 115, 635, 1104, 6, 53, 436, 704, 157, 1043, 7, 1, 76, 5, 1090, 53, 643, 1051, 5, 53, 863, 1016, 862, 115, 905, 212, 549, 272, 507, 202, 6, 177, 566, 533, 514, 988, 861, 5, 157, 1088, 155, 547, 241, 551, 585, 191, 477, 663, 7, 92, 404, 663, 926, 685, 7, 93, 861, 10, 111, 5, 53, 514, 115, 861, 1119, 1038, 722, 549, 0, 53, 314, 180, 988, 245, 480, 5, 157, 1033, 910, 722, 697, 226, 1032, 7, 22, 994, 422, 663, 5, 994, 303, 7, 53, 855, 987, 533, 1078, 2, 970, 1080, 988, 884, 220, 6, 53, 293, 2, 970, 353, 549, 184, 9, 533, 590, 592, 549, 417, 727, 988, 527, 757, 218, 7, 98, 1088, 988, 730, 53, 514, 149, 877, 5, 734, 298, 1051, 1108, 910, 653, 745, 7, 14, 560, 533, 855, 1007, 697, 621, 0, 1, 53, 643, 1051, 140, 5, 157, 250, 887, 722, 987, 899, 722, 988, 361, 524, 727, 988, 1072, 701, 549, 207, 7, 51, 1103, 1017, 663, 139, 585, 1077, 988, 602, 996, 533, 514, 360, 6, 590, 115, 712, 973, 1108, 115, 874, 521, 5, 1090, 533, 1077, 362, 568, 30, 825, 477, 115, 791, 537, 183, 7, 59, 115, 712, 0, 22, 585, 980, 549, 1098, 550, 7, 95, 169, 1123, 722, 762, 860, 766, 568, 403, 630, 7, 11, 656, 1097, 514, 969, 1108, 988, 308, 292, 707, 530, 611, 987, 672, 1052, 938, 7, 7, 7, 7, 1, 53, 1037, 191, 1016, 697, 1117, 5, 157, 1087, 727, 512, 157, 692, 9, 991, 53, 643, 180, 988, 361, 140, 7, 53, 855, 987, 5, 1090, 89, 598, 568, 988, 442, 938, 5, 533, 595, 590, 1089, 988, 388, 1120, 198, 7, 48, 514, 784, 549, 946, 5, 122, 585, 5, 826, 585, 7, 110, 514, 53, 360, 987, 1108, 161, 722, 697, 997, 10, 96, 515, 2, 970, 208, 223, 722, 663, 6, 53, 514, 590, 132, 990, 7, 7, 7, 7, 1, 46, 585, 5, 83, 5, 1108, 987, 418, 1080, 663, 53, 293, 2, 970, 355, 158, 938, 7, 93, 775, 1036, 1077, 5, 53, 336, 2, 970, 596, 1092, 1016, 806, 585, 6, 114, 53, 514, 707, 597, 114, 7, 77, 5, 1108, 697, 898, 157, 697, 802, 5, 115, 884, 918, 722, 276, 298, 1051, 988, 420, 6, 53, 590, 1006, 745, 579, 989, 419, 7, 7, 7, 7, 108, 5, 745, 1077, 988, 729, 666, 1001, 317, 417, 292, 862, 1007, 6, 862, 932, 1016, 988, 1022, 470, 1046, 7, 31, 2, 970, 1126, 596, 560, 5, 568, 974, 115, 460, 601, 5, 399, 450, 5, 729, 858, 517, 988, 1011, 711, 1089, 729, 1076, 1016, 239, 1089, 729, 244, 10, 108, 6, 987, 1077, 988, 1083, 53, 746, 9, 157, 177, 533, 608, 992, 157, 1079, 663, 5, 988, 996, 994, 242, 697, 2, 978, 2, 275, 628, 115, 559, 722, 247, 7, 48, 336, 2, 970, 907, 5, 1126, 1047, 5, 781, 89, 6, 533, 590, 608, 992, 812, 1080, 5, 157, 727, 549, 633, 5, 1007, 988, 506, 202, 5, 53, 863, 1016, 535, 988, 810, 8, 2, 15, 1126, 958, 1126, 596, 1092, 1126, 2, 819, 279, 738, 10, 2, 1, 54, 53, 292, 530, 746, 987, 418, 5, 1108, 987, 810, 727, 585, 5, 53, 879, 530, 360, 115, 508, 996, 7, 93, 708, 509, 996, 1077, 1016, 862, 987, 53, 293, 2, 970, 6, 157, 987, 504, 1077, 491, 663, 7, 22, 5, 725, 5, 180, 987, 675, 5, 83, 5, 1077, 992, 162, 727, 372, 53, 1121, 2, 970, 530, 491, 1016, 530, 89, 144, 209, 663, 5, 157, 1016, 535, 546, 856, 8, 2, 56, 2, 850, 711, 1020, 603, 6, 53, 2, 637, 882, 1126, 560, 2, 10, 1, 56, 114, 1077, 114, 1020, 603, 6, 585, 1120, 530, 208, 5, 399, 566, 533, 2, 310, 208, 144, 7, 53, 743, 1051, 697, 1028, 5, 157, 1087, 362, 157, 1017, 67, 7, 89, 7, 73, 297, 53, 336, 2, 970, 979, 539, 114, 987, 114, 6, 585, 1120, 530, 208, 41, 1016, 539, 7, 53, 894, 851, 53, 293, 2, 970, 745, 546, 5, 987, 53, 1077, 1020, 690, 7, 88, 818, 629, 988, 563, 6, 876, 2, 850, 908, 844, 0, 56, 1077, 987, 987, 654, 539, 490, 663, 988, 361, 7, 22, 876, 1077, 985, 1054, 180, 711, 489, 988, 782, 6, 876, 335, 908, 1074, 546, 2, 360, 2, 241, 910, 729, 884, 0, 18, 442, 53, 1077, 137, 876, 1121, 2, 970, 620, 663, 723, 6, 157, 180, 697, 1110, 2, 388, 53, 953, 42, 7, 112, 5, 585, 1077, 53, 1097, 924, 42, 8, 53, 1017, 67, 7, 89, 533, 1077, 988, 2, 279, 2, 656, 5, 157, 876, 1017, 911, 385, 5, 157, 908, 585, 503, 1016, 198, 1035, 7, 7, 7, 7, 14, 533, 746, 89, 1109, 1105, 9, 157, 876, 561, 988, 769, 153, 539, 562, 2, 850, 997, 7, 7, 7, 7, 1, 48, 451, 547, 362, 568, 988, 171, 701, 674, 5, 598, 191, 549, 534, 5, 157, 269, 549, 173, 215, 585, 5, 643, 1051, 180, 988, 769, 119, 988, 260, 7, 1, 53, 628, 1016, 429, 987, 89, 547, 1120, 530, 491, 585, 1016, 663, 5, 566, 533, 2, 310, 208, 117, 1016, 856, 1089, 533, 1003, 987, 315, 7, 1, 14, 5, 568, 159, 1016, 115, 810, 53, 806, 519, 6, 1, 20, 140, 10, 1, 533, 447, 738, 7, 1, 110, 988, 729, 996, 987, 232, 663, 163, 701, 546, 584, 987, 53, 595, 392, 1016, 614, 723, 10, 1, 48, 928, 1051, 157, 598, 549, 521, 727, 697, 880, 1108, 115, 606, 7, 1, 77, 988, 581, 722, 585, 584, 987, 53, 114, 150, 114, 926, 748, 6, 895, 42, 2, 850, 357, 585, 456, 663, 0, 93, 90, 922, 147, 5, 157, 525, 728, 6, 239, 992, 2, 850, 709, 413, 736, 593, 722, 174, 7, 1]\n"
     ]
    }
   ],
   "execution_count": 48
  },
  {
   "metadata": {},
   "cell_type": "markdown",
   "source": "Byte pair Encoding",
   "id": "5b9d500311edb2cd"
  },
  {
   "metadata": {
    "ExecuteTime": {
     "end_time": "2025-04-15T10:20:00.331967Z",
     "start_time": "2025-04-15T10:20:00.260447Z"
    }
   },
   "cell_type": "code",
   "source": "import tiktoken",
   "id": "a567259c1791b964",
   "outputs": [],
   "execution_count": 49
  },
  {
   "metadata": {
    "ExecuteTime": {
     "end_time": "2025-04-15T10:20:42.486219Z",
     "start_time": "2025-04-15T10:20:36.106533Z"
    }
   },
   "cell_type": "code",
   "source": "tokenizerGPT2 = tiktoken.get_encoding(\"gpt2\")",
   "id": "9218b7c643f3312",
   "outputs": [],
   "execution_count": 50
  },
  {
   "metadata": {
    "ExecuteTime": {
     "end_time": "2025-04-15T10:20:49.935803Z",
     "start_time": "2025-04-15T10:20:49.926925Z"
    }
   },
   "cell_type": "code",
   "source": "tokenizerGPT2",
   "id": "685375206d3432f3",
   "outputs": [
    {
     "data": {
      "text/plain": [
       "<Encoding 'gpt2'>"
      ]
     },
     "execution_count": 51,
     "metadata": {},
     "output_type": "execute_result"
    }
   ],
   "execution_count": 51
  },
  {
   "metadata": {
    "ExecuteTime": {
     "end_time": "2025-04-15T10:21:34.232802Z",
     "start_time": "2025-04-15T10:21:34.212567Z"
    }
   },
   "cell_type": "code",
   "source": "len(tokenizerGPT2.encode(raw_text))",
   "id": "b46217016568f427",
   "outputs": [
    {
     "data": {
      "text/plain": [
       "5145"
      ]
     },
     "execution_count": 54,
     "metadata": {},
     "output_type": "execute_result"
    }
   ],
   "execution_count": 54
  },
  {
   "metadata": {
    "ExecuteTime": {
     "end_time": "2025-04-15T10:22:53.554197Z",
     "start_time": "2025-04-15T10:22:53.545999Z"
    }
   },
   "cell_type": "code",
   "source": "tokenizerGPT2.decode(tokenizerGPT2.encode(raw_text))",
   "id": "73763c1d1c437d6a",
   "outputs": [
    {
     "data": {
      "text/plain": [
       "'I HAD always thought Jack Gisburn rather a cheap genius--though a good fellow enough--so it was no great surprise to me to hear that, in the height of his glory, he had dropped his painting, married a rich widow, and established himself in a villa on the Riviera. (Though I rather thought it would have been Rome or Florence.)\\n\\n\"The height of his glory\"--that was what the women called it. I can hear Mrs. Gideon Thwing--his last Chicago sitter--deploring his unaccountable abdication. \"Of course it\\'s going to send the value of my picture \\'way up; but I don\\'t think of that, Mr. Rickham--the loss to Arrt is all I think of.\" The word, on Mrs. Thwing\\'s lips, multiplied its _rs_ as though they were reflected in an endless vista of mirrors. And it was not only the Mrs. Thwings who mourned. Had not the exquisite Hermia Croft, at the last Grafton Gallery show, stopped me before Gisburn\\'s \"Moon-dancers\" to say, with tears in her eyes: \"We shall not look upon its like again\"?\\n\\nWell!--even through the prism of Hermia\\'s tears I felt able to face the fact with equanimity. Poor Jack Gisburn! The women had made him--it was fitting that they should mourn him. Among his own sex fewer regrets were heard, and in his own trade hardly a murmur. Professional jealousy? Perhaps. If it were, the honour of the craft was vindicated by little Claude Nutley, who, in all good faith, brought out in the Burlington a very handsome \"obituary\" on Jack--one of those showy articles stocked with random technicalities that I have heard (I won\\'t say by whom) compared to Gisburn\\'s painting. And so--his resolve being apparently irrevocable--the discussion gradually died out, and, as Mrs. Thwing had predicted, the price of \"Gisburns\" went up.\\n\\nIt was not till three years later that, in the course of a few weeks\\' idling on the Riviera, it suddenly occurred to me to wonder why Gisburn had given up his painting. On reflection, it really was a tempting problem. To accuse his wife would have been too easy--his fair sitters had been denied the solace of saying that Mrs. Gisburn had \"dragged him down.\" For Mrs. Gisburn--as such--had not existed till nearly a year after Jack\\'s resolve had been taken. It might be that he had married her--since he liked his ease--because he didn\\'t want to go on painting; but it would have been hard to prove that he had given up his painting because he had married her.\\n\\nOf course, if she had not dragged him down, she had equally, as Miss Croft contended, failed to \"lift him up\"--she had not led him back to the easel. To put the brush into his hand again--what a vocation for a wife! But Mrs. Gisburn appeared to have disdained it--and I felt it might be interesting to find out why.\\n\\nThe desultory life of the Riviera lends itself to such purely academic speculations; and having, on my way to Monte Carlo, caught a glimpse of Jack\\'s balustraded terraces between the pines, I had myself borne thither the next day.\\n\\nI found the couple at tea beneath their palm-trees; and Mrs. Gisburn\\'s welcome was so genial that, in the ensuing weeks, I claimed it frequently. It was not that my hostess was \"interesting\": on that point I could have given Miss Croft the fullest reassurance. It was just because she was _not_ interesting--if I may be pardoned the bull--that I found her so. For Jack, all his life, had been surrounded by interesting women: they had fostered his art, it had been reared in the hot-house of their adulation. And it was therefore instructive to note what effect the \"deadening atmosphere of mediocrity\" (I quote Miss Croft) was having on him.\\n\\nI have mentioned that Mrs. Gisburn was rich; and it was immediately perceptible that her husband was extracting from this circumstance a delicate but substantial satisfaction. It is, as a rule, the people who scorn money who get most out of it; and Jack\\'s elegant disdain of his wife\\'s big balance enabled him, with an appearance of perfect good-breeding, to transmute it into objects of art and luxury. To the latter, I must add, he remained relatively indifferent; but he was buying Renaissance bronzes and eighteenth-century pictures with a discrimination that bespoke the amplest resources.\\n\\n\"Money\\'s only excuse is to put beauty into circulation,\" was one of the axioms he laid down across the Sevres and silver of an exquisitely appointed luncheon-table, when, on a later day, I had again run over from Monte Carlo; and Mrs. Gisburn, beaming on him, added for my enlightenment: \"Jack is so morbidly sensitive to every form of beauty.\"\\n\\nPoor Jack! It had always been his fate to have women say such things of him: the fact should be set down in extenuation. What struck me now was that, for the first time, he resented the tone. I had seen him, so often, basking under similar tributes--was it the conjugal note that robbed them of their savour? No--for, oddly enough, it became apparent that he was fond of Mrs. Gisburn--fond enough not to see her absurdity. It was his own absurdity he seemed to be wincing under--his own attitude as an object for garlands and incense.\\n\\n\"My dear, since I\\'ve chucked painting people don\\'t say that stuff about me--they say it about Victor Grindle,\" was his only protest, as he rose from the table and strolled out onto the sunlit terrace.\\n\\nI glanced after him, struck by his last word. Victor Grindle was, in fact, becoming the man of the moment--as Jack himself, one might put it, had been the man of the hour. The younger artist was said to have formed himself at my friend\\'s feet, and I wondered if a tinge of jealousy underlay the latter\\'s mysterious abdication. But no--for it was not till after that event that the _rose Dubarry_ drawing-rooms had begun to display their \"Grindles.\"\\n\\nI turned to Mrs. Gisburn, who had lingered to give a lump of sugar to her spaniel in the dining-room.\\n\\n\"Why _has_ he chucked painting?\" I asked abruptly.\\n\\nShe raised her eyebrows with a hint of good-humoured surprise.\\n\\n\"Oh, he doesn\\'t _have_ to now, you know; and I want him to enjoy himself,\" she said quite simply.\\n\\nI looked about the spacious white-panelled room, with its _famille-verte_ vases repeating the tones of the pale damask curtains, and its eighteenth-century pastels in delicate faded frames.\\n\\n\"Has he chucked his pictures too? I haven\\'t seen a single one in the house.\"\\n\\nA slight shade of constraint crossed Mrs. Gisburn\\'s open countenance. \"It\\'s his ridiculous modesty, you know. He says they\\'re not fit to have about; he\\'s sent them all away except one--my portrait--and that I have to keep upstairs.\"\\n\\nHis ridiculous modesty--Jack\\'s modesty about his pictures? My curiosity was growing like the bean-stalk. I said persuasively to my hostess: \"I must really see your portrait, you know.\"\\n\\nShe glanced out almost timorously at the terrace where her husband, lounging in a hooded chair, had lit a cigar and drawn the Russian deerhound\\'s head between his knees.\\n\\n\"Well, come while he\\'s not looking,\" she said, with a laugh that tried to hide her nervousness; and I followed her between the marble Emperors of the hall, and up the wide stairs with terra-cotta nymphs poised among flowers at each landing.\\n\\nIn the dimmest corner of her boudoir, amid a profusion of delicate and distinguished objects, hung one of the familiar oval canvases, in the inevitable garlanded frame. The mere outline of the frame called up all Gisburn\\'s past!\\n\\nMrs. Gisburn drew back the window-curtains, moved aside a _jardiniere_ full of pink azaleas, pushed an arm-chair away, and said: \"If you stand here you can just manage to see it. I had it over the mantel-piece, but he wouldn\\'t let it stay.\"\\n\\nYes--I could just manage to see it--the first portrait of Jack\\'s I had ever had to strain my eyes over! Usually they had the place of honour--say the central panel in a pale yellow or _rose Dubarry_ drawing-room, or a monumental easel placed so that it took the light through curtains of old Venetian point. The more modest place became the picture better; yet, as my eyes grew accustomed to the half-light, all the characteristic qualities came out--all the hesitations disguised as audacities, the tricks of prestidigitation by which, with such consummate skill, he managed to divert attention from the real business of the picture to some pretty irrelevance of detail. Mrs. Gisburn, presenting a neutral surface to work on--forming, as it were, so inevitably the background of her own picture--had lent herself in an unusual degree to the display of this false virtuosity. The picture was one of Jack\\'s \"strongest,\" as his admirers would have put it--it represented, on his part, a swelling of muscles, a congesting of veins, a balancing, straddling and straining, that reminded one of the circus-clown\\'s ironic efforts to lift a feather. It met, in short, at every point the demand of lovely woman to be painted \"strongly\" because she was tired of being painted \"sweetly\"--and yet not to lose an atom of the sweetness.\\n\\n\"It\\'s the last he painted, you know,\" Mrs. Gisburn said with pardonable pride. \"The last but one,\" she corrected herself--\"but the other doesn\\'t count, because he destroyed it.\"\\n\\n\"Destroyed it?\" I was about to follow up this clue when I heard a footstep and saw Jack himself on the threshold.\\n\\nAs he stood there, his hands in the pockets of his velveteen coat, the thin brown waves of hair pushed back from his white forehead, his lean sunburnt cheeks furrowed by a smile that lifted the tips of a self-confident moustache, I felt to what a degree he had the same quality as his pictures--the quality of looking cleverer than he was.\\n\\nHis wife glanced at him deprecatingly, but his eyes travelled past her to the portrait.\\n\\n\"Mr. Rickham wanted to see it,\" she began, as if excusing herself. He shrugged his shoulders, still smiling.\\n\\n\"Oh, Rickham found me out long ago,\" he said lightly; then, passing his arm through mine: \"Come and see the rest of the house.\"\\n\\nHe showed it to me with a kind of naive suburban pride: the bath-rooms, the speaking-tubes, the dress-closets, the trouser-presses--all the complex simplifications of the millionaire\\'s domestic economy. And whenever my wonder paid the expected tribute he said, throwing out his chest a little: \"Yes, I really don\\'t see how people manage to live without that.\"\\n\\nWell--it was just the end one might have foreseen for him. Only he was, through it all and in spite of it all--as he had been through, and in spite of, his pictures--so handsome, so charming, so disarming, that one longed to cry out: \"Be dissatisfied with your leisure!\" as once one had longed to say: \"Be dissatisfied with your work!\"\\n\\nBut, with the cry on my lips, my diagnosis suffered an unexpected check.\\n\\n\"This is my own lair,\" he said, leading me into a dark plain room at the end of the florid vista. It was square and brown and leathery: no \"effects\"; no bric-a-brac, none of the air of posing for reproduction in a picture weekly--above all, no least sign of ever having been used as a studio.\\n\\nThe fact brought home to me the absolute finality of Jack\\'s break with his old life.\\n\\n\"Don\\'t you ever dabble with paint any more?\" I asked, still looking about for a trace of such activity.\\n\\n\"Never,\" he said briefly.\\n\\n\"Or water-colour--or etching?\"\\n\\nHis confident eyes grew dim, and his cheeks paled a little under their handsome sunburn.\\n\\n\"Never think of it, my dear fellow--any more than if I\\'d never touched a brush.\"\\n\\nAnd his tone told me in a flash that he never thought of anything else.\\n\\nI moved away, instinctively embarrassed by my unexpected discovery; and as I turned, my eye fell on a small picture above the mantel-piece--the only object breaking the plain oak panelling of the room.\\n\\n\"Oh, by Jove!\" I said.\\n\\nIt was a sketch of a donkey--an old tired donkey, standing in the rain under a wall.\\n\\n\"By Jove--a Stroud!\" I cried.\\n\\nHe was silent; but I felt him close behind me, breathing a little quickly.\\n\\n\"What a wonder! Made with a dozen lines--but on everlasting foundations. You lucky chap, where did you get it?\"\\n\\nHe answered slowly: \"Mrs. Stroud gave it to me.\"\\n\\n\"Ah--I didn\\'t know you even knew the Strouds. He was such an inflexible hermit.\"\\n\\n\"I didn\\'t--till after. . . . She sent for me to paint him when he was dead.\"\\n\\n\"When he was dead? You?\"\\n\\nI must have let a little too much amazement escape through my surprise, for he answered with a deprecating laugh: \"Yes--she\\'s an awful simpleton, you know, Mrs. Stroud. Her only idea was to have him done by a fashionable painter--ah, poor Stroud! She thought it the surest way of proclaiming his greatness--of forcing it on a purblind public. And at the moment I was _the_ fashionable painter.\"\\n\\n\"Ah, poor Stroud--as you say. Was _that_ his history?\"\\n\\n\"That was his history. She believed in him, gloried in him--or thought she did. But she couldn\\'t bear not to have all the drawing-rooms with her. She couldn\\'t bear the fact that, on varnishing days, one could always get near enough to see his pictures. Poor woman! She\\'s just a fragment groping for other fragments. Stroud is the only whole I ever knew.\"\\n\\n\"You ever knew? But you just said--\"\\n\\nGisburn had a curious smile in his eyes.\\n\\n\"Oh, I knew him, and he knew me--only it happened after he was dead.\"\\n\\nI dropped my voice instinctively. \"When she sent for you?\"\\n\\n\"Yes--quite insensible to the irony. She wanted him vindicated--and by me!\"\\n\\nHe laughed again, and threw back his head to look up at the sketch of the donkey. \"There were days when I couldn\\'t look at that thing--couldn\\'t face it. But I forced myself to put it here; and now it\\'s cured me--cured me. That\\'s the reason why I don\\'t dabble any more, my dear Rickham; or rather Stroud himself is the reason.\"\\n\\nFor the first time my idle curiosity about my companion turned into a serious desire to understand him better.\\n\\n\"I wish you\\'d tell me how it happened,\" I said.\\n\\nHe stood looking up at the sketch, and twirling between his fingers a cigarette he had forgotten to light. Suddenly he turned toward me.\\n\\n\"I\\'d rather like to tell you--because I\\'ve always suspected you of loathing my work.\"\\n\\nI made a deprecating gesture, which he negatived with a good-humoured shrug.\\n\\n\"Oh, I didn\\'t care a straw when I believed in myself--and now it\\'s an added tie between us!\"\\n\\nHe laughed slightly, without bitterness, and pushed one of the deep arm-chairs forward. \"There: make yourself comfortable--and here are the cigars you like.\"\\n\\nHe placed them at my elbow and continued to wander up and down the room, stopping now and then beneath the picture.\\n\\n\"How it happened? I can tell you in five minutes--and it didn\\'t take much longer to happen. . . . I can remember now how surprised and pleased I was when I got Mrs. Stroud\\'s note. Of course, deep down, I had always _felt_ there was no one like him--only I had gone with the stream, echoed the usual platitudes about him, till I half got to think he was a failure, one of the kind that are left behind. By Jove, and he _was_ left behind--because he had come to stay! The rest of us had to let ourselves be swept along or go under, but he was high above the current--on everlasting foundations, as you say.\\n\\n\"Well, I went off to the house in my most egregious mood--rather moved, Lord forgive me, at the pathos of poor Stroud\\'s career of failure being crowned by the glory of my painting him! Of course I meant to do the picture for nothing--I told Mrs. Stroud so when she began to stammer something about her poverty. I remember getting off a prodigious phrase about the honour being _mine_--oh, I was princely, my dear Rickham! I was posing to myself like one of my own sitters.\\n\\n\"Then I was taken up and left alone with him. I had sent all my traps in advance, and I had only to set up the easel and get to work. He had been dead only twenty-four hours, and he died suddenly, of heart disease, so that there had been no preliminary work of destruction--his face was clear and untouched. I had met him once or twice, years before, and thought him insignificant and dingy. Now I saw that he was superb.\\n\\n\"I was glad at first, with a merely aesthetic satisfaction: glad to have my hand on such a \\'subject.\\' Then his strange life-likeness began to affect me queerly--as I blocked the head in I felt as if he were watching me do it. The sensation was followed by the thought: if he _were_ watching me, what would he say to my way of working? My strokes began to go a little wild--I felt nervous and uncertain.\\n\\n\"Once, when I looked up, I seemed to see a smile behind his close grayish beard--as if he had the secret, and were amusing himself by holding it back from me. That exasperated me still more. The secret? Why, I had a secret worth twenty of his! I dashed at the canvas furiously, and tried some of my bravura tricks. But they failed me, they crumbled. I saw that he wasn\\'t watching the showy bits--I couldn\\'t distract his attention; he just kept his eyes on the hard passages between. Those were the ones I had always shirked, or covered up with some lying paint. And how he saw through my lies!\\n\\n\"I looked up again, and caught sight of that sketch of the donkey hanging on the wall near his bed. His wife told me afterward it was the last thing he had done--just a note taken with a shaking hand, when he was down in Devonshire recovering from a previous heart attack. Just a note! But it tells his whole history. There are years of patient scornful persistence in every line. A man who had swum with the current could never have learned that mighty up-stream stroke. . . .\\n\\n\"I turned back to my work, and went on groping and muddling; then I looked at the donkey again. I saw that, when Stroud laid in the first stroke, he knew just what the end would be. He had possessed his subject, absorbed it, recreated it. When had I done that with any of my things? They hadn\\'t been born of me--I had just adopted them. . . .\\n\\n\"Hang it, Rickham, with that face watching me I couldn\\'t do another stroke. The plain truth was, I didn\\'t know where to put it--_I had never known_. Only, with my sitters and my public, a showy splash of colour covered up the fact--I just threw paint into their faces. . . . Well, paint was the one medium those dead eyes could see through--see straight to the tottering foundations underneath. Don\\'t you know how, in talking a foreign language, even fluently, one says half the time not what one wants to but what one can? Well--that was the way I painted; and as he lay there and watched me, the thing they called my \\'technique\\' collapsed like a house of cards. He didn\\'t sneer, you understand, poor Stroud--he just lay there quietly watching, and on his lips, through the gray beard, I seemed to hear the question: \\'Are you sure you know where you\\'re coming out?\\'\\n\\n\"If I could have painted that face, with that question on it, I should have done a great thing. The next greatest thing was to see that I couldn\\'t--and that grace was given me. But, oh, at that minute, Rickham, was there anything on earth I wouldn\\'t have given to have Stroud alive before me, and to hear him say: \\'It\\'s not too late--I\\'ll show you how\\'?\\n\\n\"It _was_ too late--it would have been, even if he\\'d been alive. I packed up my traps, and went down and told Mrs. Stroud. Of course I didn\\'t tell her _that_--it would have been Greek to her. I simply said I couldn\\'t paint him, that I was too moved. She rather liked the idea--she\\'s so romantic! It was that that made her give me the donkey. But she was terribly upset at not getting the portrait--she did so want him \\'done\\' by some one showy! At first I was afraid she wouldn\\'t let me off--and at my wits\\' end I suggested Grindle. Yes, it was I who started Grindle: I told Mrs. Stroud he was the \\'coming\\' man, and she told somebody else, and so it got to be true. . . . And he painted Stroud without wincing; and she hung the picture among her husband\\'s things. . . .\"\\n\\nHe flung himself down in the arm-chair near mine, laid back his head, and clasping his arms beneath it, looked up at the picture above the chimney-piece.\\n\\n\"I like to fancy that Stroud himself would have given it to me, if he\\'d been able to say what he thought that day.\"\\n\\nAnd, in answer to a question I put half-mechanically--\"Begin again?\" he flashed out. \"When the one thing that brings me anywhere near him is that I knew enough to leave off?\"\\n\\nHe stood up and laid his hand on my shoulder with a laugh. \"Only the irony of it is that I _am_ still painting--since Grindle\\'s doing it for me! The Strouds stand alone, and happen once--but there\\'s no exterminating our kind of art.\"'"
      ]
     },
     "execution_count": 55,
     "metadata": {},
     "output_type": "execute_result"
    }
   ],
   "execution_count": 55
  },
  {
   "metadata": {
    "ExecuteTime": {
     "end_time": "2025-04-15T12:56:36.590376Z",
     "start_time": "2025-04-15T12:56:36.576107Z"
    }
   },
   "cell_type": "code",
   "source": [
    "import tiktoken\n",
    "import torch\n",
    "from torch.utils.data import Dataset, DataLoader"
   ],
   "id": "b973cef069953930",
   "outputs": [],
   "execution_count": 57
  },
  {
   "metadata": {},
   "cell_type": "markdown",
   "source": [
    "##Here is some explanation needed\n",
    "\n",
    "You know base model is only focus on predicting next token, so when we randomly split a\n",
    "chunk of text dataset(dataloader gives random dataset values) , dont think about the context,\n",
    "things you remember from previous learning like padding tokens, system instruction\n",
    "those things come with chat/instruction fine-tuning .\n",
    "\n",
    "and this stride thing, you can think about it as we arnt just building data set in one token to\n",
    "one token. overlap isnt 1 always.\n",
    "\"The quick brown fox jumps over the lazy dog.\"\n",
    "With max_length = 4 and stride = 2, the chunks would be:\n",
    "Chunk 1:\n",
    "\n",
    "Input: [\"The\", \"quick\", \"brown\", \"fox\"]\n",
    "Target: [\"quick\", \"brown\", \"fox\", \"jumps\"]\n",
    "\n",
    "Chunk 2:\n",
    "\n",
    "Input: [\"brown\", \"fox\", \"jumps\", \"over\"]\n",
    "Target: [\"fox\", \"jumps\", \"over\", \"the\"]\n",
    "\n",
    "Chunk 3:\n",
    "\n",
    "Input: [\"jumps\", \"over\", \"the\", \"lazy\"]\n",
    "Target: [\"over\", \"the\", \"lazy\", \"dog.\"]\n",
    "\n",
    "i hope get this, when again reading. if not you gotta look it up, if you think this stupid and\n",
    "using stride = 1 give max amount of training data. its true but, this is sufficient ,Remember\n",
    "in CNN too we use stride. if we goes one pixel by one pixel we would get more data, but even not\n",
    "doing that works fine.\n"
   ],
   "id": "16ae0296c321bac6"
  },
  {
   "metadata": {
    "ExecuteTime": {
     "end_time": "2025-04-15T13:15:01.578735Z",
     "start_time": "2025-04-15T13:15:01.563006Z"
    }
   },
   "cell_type": "code",
   "source": [
    "class datasetV1:\n",
    "    def __init__(self,text,tokenizer,max_length,stride):\n",
    "        self.data = []\n",
    "        self.labels = []\n",
    "\n",
    "        tokens = tokenizer.encode(text,allowed_special={\"<|endoftext|>\"})\n",
    "\n",
    "        for i in range(0,len(tokens) - max_length , stride):\n",
    "            inputs = torch.tensor(tokens[i:i + max_length])\n",
    "            outputs = torch.tensor(tokens[i+1:i+1+max_length])\n",
    "            self.data.append(inputs)\n",
    "            self.labels.append(outputs)\n",
    "\n",
    "    def __len__(self):\n",
    "        return len(self.data)\n",
    "\n",
    "    def __getitem__(self, item):\n",
    "        return self.data[item],self.labels[item]\n",
    "\n"
   ],
   "id": "78c445f4df3b0e5f",
   "outputs": [],
   "execution_count": 61
  },
  {
   "metadata": {
    "ExecuteTime": {
     "end_time": "2025-04-15T13:15:02.243916Z",
     "start_time": "2025-04-15T13:15:02.236203Z"
    }
   },
   "cell_type": "code",
   "source": [
    "def create_dataloader_v1(txt, batch_size, max_length, stride,\n",
    "                         shuffle=True, drop_last=True, num_workers=0):\n",
    "    tokenizer = tiktoken.get_encoding(\"gpt2\")\n",
    "    dataset = datasetV1(txt, tokenizer, max_length, stride)\n",
    "    dataloader = DataLoader(\n",
    "        dataset, batch_size=batch_size,\n",
    "        shuffle=shuffle,\n",
    "        drop_last=drop_last,\n",
    "        num_workers=num_workers\n",
    "    )\n",
    "    return dataloader"
   ],
   "id": "4cdc36117386e704",
   "outputs": [],
   "execution_count": 62
  },
  {
   "metadata": {
    "ExecuteTime": {
     "end_time": "2025-04-15T13:15:05.635885Z",
     "start_time": "2025-04-15T13:15:05.630981Z"
    }
   },
   "cell_type": "code",
   "source": [
    "with open(\"the-verdict.txt\", \"r\", encoding=\"utf-8\") as f:\n",
    "    raw_text = f.read()"
   ],
   "id": "3eee1621a3679723",
   "outputs": [],
   "execution_count": 63
  },
  {
   "metadata": {
    "ExecuteTime": {
     "end_time": "2025-04-15T13:17:03.892168Z",
     "start_time": "2025-04-15T13:17:03.728437Z"
    }
   },
   "cell_type": "code",
   "source": [
    "dataloader = create_dataloader_v1(raw_text,1,4,1)\n",
    "\n",
    "dateiter = iter(dataloader)\n",
    "one_datapoint = next(dateiter)\n",
    "print(one_datapoint)"
   ],
   "id": "bfa709905d4d5f2b",
   "outputs": [
    {
     "name": "stdout",
     "output_type": "stream",
     "text": [
      "[tensor([[9373,  351,  257, 1207]]), tensor([[ 351,  257, 1207, 8344]])]\n"
     ]
    }
   ],
   "execution_count": 64
  },
  {
   "metadata": {
    "ExecuteTime": {
     "end_time": "2025-04-15T13:27:54.700101Z",
     "start_time": "2025-04-15T13:27:54.681211Z"
    }
   },
   "cell_type": "code",
   "source": "tokenizerGPT2.n_vocab",
   "id": "c0b426b31d0e1aa9",
   "outputs": [
    {
     "data": {
      "text/plain": [
       "50257"
      ]
     },
     "execution_count": 65,
     "metadata": {},
     "output_type": "execute_result"
    }
   ],
   "execution_count": 65
  },
  {
   "metadata": {
    "ExecuteTime": {
     "end_time": "2025-04-15T13:54:52.161025Z",
     "start_time": "2025-04-15T13:54:52.155124Z"
    }
   },
   "cell_type": "code",
   "source": "import torch.nn as nn",
   "id": "473e89bc603bbbe5",
   "outputs": [],
   "execution_count": 66
  },
  {
   "metadata": {
    "ExecuteTime": {
     "end_time": "2025-04-15T14:15:02.876609Z",
     "start_time": "2025-04-15T14:15:02.793069Z"
    }
   },
   "cell_type": "code",
   "source": [
    "vocabulary_len = tokenizerGPT2.n_vocab\n",
    "embedding_size = 256\n",
    "max_length = 4\n",
    "\n",
    "embedding_layer = nn.Embedding(vocabulary_len,embedding_size)\n",
    "\n",
    "dataloader = create_dataloader_v1(raw_text,8,4,4,shuffle=False)\n",
    "\n",
    "data_iter = iter(dataloader)\n",
    "inputs, targets = next(data_iter)"
   ],
   "id": "ae705347c6ea736c",
   "outputs": [],
   "execution_count": 73
  },
  {
   "metadata": {
    "ExecuteTime": {
     "end_time": "2025-04-15T14:17:29.229950Z",
     "start_time": "2025-04-15T14:17:29.221611Z"
    }
   },
   "cell_type": "code",
   "source": "inputs.size()",
   "id": "d235260fed704666",
   "outputs": [
    {
     "data": {
      "text/plain": [
       "torch.Size([8, 4])"
      ]
     },
     "execution_count": 84,
     "metadata": {},
     "output_type": "execute_result"
    }
   ],
   "execution_count": 84
  },
  {
   "metadata": {
    "ExecuteTime": {
     "end_time": "2025-04-15T14:15:34.181182Z",
     "start_time": "2025-04-15T14:15:34.164953Z"
    }
   },
   "cell_type": "code",
   "source": [
    "token_embeddings = embedding_layer(inputs)\n",
    "print(token_embeddings.shape)"
   ],
   "id": "5b33ca62097298e9",
   "outputs": [
    {
     "name": "stdout",
     "output_type": "stream",
     "text": [
      "torch.Size([8, 4, 256])\n"
     ]
    }
   ],
   "execution_count": 78
  },
  {
   "metadata": {},
   "cell_type": "markdown",
   "source": [
    "Here is a explanation about the size, if you need we take [batch size, seq_len] , data\n",
    "but embedding layer is going to expand that seq_len values to 256."
   ],
   "id": "ae5ba78c9fa4e56c"
  },
  {
   "metadata": {
    "ExecuteTime": {
     "end_time": "2025-04-15T14:16:04.553199Z",
     "start_time": "2025-04-15T14:16:04.545839Z"
    }
   },
   "cell_type": "code",
   "source": [
    "context_length = max_length\n",
    "pos_embedding_layer = nn.Embedding(context_length, embedding_size)\n"
   ],
   "id": "e4b5587c34973ac",
   "outputs": [],
   "execution_count": 81
  },
  {
   "metadata": {
    "ExecuteTime": {
     "end_time": "2025-04-15T14:18:12.591003Z",
     "start_time": "2025-04-15T14:18:12.578260Z"
    }
   },
   "cell_type": "code",
   "source": "pos_embeddings = pos_embedding_layer(torch.arange(context_length))",
   "id": "703550fab558aa80",
   "outputs": [],
   "execution_count": 85
  },
  {
   "metadata": {
    "ExecuteTime": {
     "end_time": "2025-04-15T14:18:14.973853Z",
     "start_time": "2025-04-15T14:18:14.966849Z"
    }
   },
   "cell_type": "code",
   "source": [
    "input_embeddings = token_embeddings + pos_embeddings\n",
    "print(input_embeddings.shape)"
   ],
   "id": "d42d850c751f95a0",
   "outputs": [
    {
     "name": "stdout",
     "output_type": "stream",
     "text": [
      "torch.Size([8, 4, 256])\n"
     ]
    }
   ],
   "execution_count": 86
  }
 ],
 "metadata": {
  "kernelspec": {
   "display_name": "Python 3",
   "language": "python",
   "name": "python3"
  },
  "language_info": {
   "codemirror_mode": {
    "name": "ipython",
    "version": 2
   },
   "file_extension": ".py",
   "mimetype": "text/x-python",
   "name": "python",
   "nbconvert_exporter": "python",
   "pygments_lexer": "ipython2",
   "version": "2.7.6"
  }
 },
 "nbformat": 4,
 "nbformat_minor": 5
}
